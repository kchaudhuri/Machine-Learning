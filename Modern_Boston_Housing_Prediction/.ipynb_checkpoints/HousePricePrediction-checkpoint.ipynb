{
 "cells": [
  {
   "cell_type": "code",
   "execution_count": 90,
   "metadata": {},
   "outputs": [],
   "source": [
    "import pandas as pd"
   ]
  },
  {
   "cell_type": "code",
   "execution_count": 127,
   "metadata": {},
   "outputs": [],
   "source": [
    "trainPath = \"./input/train.csv\"\n",
    "trainData = pd.read_csv(trainPath)"
   ]
  },
  {
   "cell_type": "code",
   "execution_count": 152,
   "metadata": {},
   "outputs": [
    {
     "name": "stdout",
     "output_type": "stream",
     "text": [
      "Id\n",
      "MSSubClass\n",
      "LotFrontage\n",
      "LotArea\n",
      "OverallQual\n",
      "OverallCond\n",
      "YearBuilt\n",
      "YearRemodAdd\n",
      "MasVnrArea\n",
      "BsmtFinSF1\n",
      "BsmtFinSF2\n",
      "BsmtUnfSF\n",
      "TotalBsmtSF\n",
      "1stFlrSF\n",
      "2ndFlrSF\n",
      "LowQualFinSF\n",
      "GrLivArea\n",
      "BsmtFullBath\n",
      "BsmtHalfBath\n",
      "FullBath\n",
      "HalfBath\n",
      "BedroomAbvGr\n",
      "KitchenAbvGr\n",
      "TotRmsAbvGrd\n",
      "Fireplaces\n",
      "GarageYrBlt\n",
      "GarageCars\n",
      "GarageArea\n",
      "WoodDeckSF\n",
      "OpenPorchSF\n",
      "EnclosedPorch\n",
      "3SsnPorch\n",
      "ScreenPorch\n",
      "PoolArea\n",
      "MiscVal\n",
      "MoSold\n",
      "YrSold\n",
      "SalePrice\n"
     ]
    }
   ],
   "source": [
    "allParams = list(trainData.columns.values)\n",
    "\n",
    "#Removing Categorical data\n",
    "numParams = []\n",
    "\n",
    "for i in allParams:\n",
    "    if trainData[i].dtype == 'object':\n",
    "        pass\n",
    "    else:\n",
    "        numParams.append(i)\n",
    "        print(i)"
   ]
  },
  {
   "cell_type": "code",
   "execution_count": 153,
   "metadata": {},
   "outputs": [],
   "source": [
    "y = trainData.SalePrice"
   ]
  },
  {
   "cell_type": "code",
   "execution_count": 154,
   "metadata": {},
   "outputs": [],
   "source": [
    "numParams.remove('SalePrice')\n",
    "numParams.remove('Id')"
   ]
  },
  {
   "cell_type": "code",
   "execution_count": 155,
   "metadata": {},
   "outputs": [],
   "source": [
    "X = trainData[numParams]"
   ]
  },
  {
   "cell_type": "code",
   "execution_count": 166,
   "metadata": {},
   "outputs": [],
   "source": [
    "from sklearn.model_selection import train_test_split\n",
    "\n",
    "train_X, test_X, train_y, test_y = train_test_split(X, y, test_size=0.1, random_state=42)"
   ]
  },
  {
   "cell_type": "code",
   "execution_count": 167,
   "metadata": {},
   "outputs": [
    {
     "name": "stdout",
     "output_type": "stream",
     "text": [
      "(1314, 37)\n",
      "(1314,)\n",
      "(146, 37)\n",
      "(146,)\n"
     ]
    }
   ],
   "source": [
    "print(train_X.shape)\n",
    "print(train_y.shape)\n",
    "print(test_X.shape)\n",
    "print(test_y.shape)"
   ]
  },
  {
   "cell_type": "code",
   "execution_count": 168,
   "metadata": {},
   "outputs": [
    {
     "data": {
      "text/plain": [
       "<bound method DataFrame.count of         Id  MSSubClass  LotFrontage  LotArea  OverallQual  OverallCond  \\\n",
       "907    908          50         86.0    11500            7            7   \n",
       "782    783          20         67.0    16285            7            5   \n",
       "952    953          85         60.0     7200            5            8   \n",
       "620    621          30         45.0     8248            3            3   \n",
       "669    670          30         80.0    11600            4            5   \n",
       "128    129          60         69.0     7590            6            5   \n",
       "529    530          20          NaN    32668            6            3   \n",
       "910    911          90         80.0    11600            5            5   \n",
       "998    999          30         60.0     9786            3            4   \n",
       "1450  1451          90         60.0     9000            5            5   \n",
       "1163  1164          90         60.0    12900            4            4   \n",
       "247    248          20         75.0    11310            6            5   \n",
       "528    529          30         58.0     9098            4            7   \n",
       "733    734          20         80.0    10000            5            6   \n",
       "32      33          20         85.0    11049            8            5   \n",
       "634    635          90         64.0     6979            6            5   \n",
       "1027  1028          20         71.0     9520            8            5   \n",
       "1053  1054          20         68.0     8562            5            6   \n",
       "575    576          50         80.0     8480            5            5   \n",
       "843    844          90         80.0     8000            5            4   \n",
       "297    298          60         66.0     7399            7            5   \n",
       "261    262          60         69.0     9588            8            5   \n",
       "1046  1047          60         85.0    16056            9            5   \n",
       "939    940          70          NaN    24090            7            7   \n",
       "309    310          20         90.0    12378            9            5   \n",
       "163    164          45         55.0     5500            4            6   \n",
       "1009  1010          50         60.0     6000            5            5   \n",
       "599    600         160         24.0     1950            6            6   \n",
       "1175  1176          50         85.0    10678            8            5   \n",
       "371    372          50         80.0    17120            4            4   \n",
       "...    ...         ...          ...      ...          ...          ...   \n",
       "747    748          70         65.0    11700            7            7   \n",
       "252    253          60         65.0     8366            6            5   \n",
       "21      22          45         57.0     7449            7            7   \n",
       "1337  1338          30        153.0     4118            4            4   \n",
       "459    460          50          NaN     7015            5            4   \n",
       "1184  1185          20         50.0    35133            5            4   \n",
       "276    277          20        129.0     9196            7            5   \n",
       "955    956          90         82.0     7136            6            6   \n",
       "1215  1216          20         99.0     7094            5            5   \n",
       "385    386         120         43.0     3182            8            5   \n",
       "805    806          20         91.0    12274            7            5   \n",
       "1437  1438          20         96.0    12444            8            5   \n",
       "343    344         120         63.0     8849            9            5   \n",
       "769    770          60         47.0    53504            8            5   \n",
       "1332  1333          20         67.0     8877            4            6   \n",
       "130    131          60         88.0    14200            7            6   \n",
       "871    872          60         70.0     8750            6            5   \n",
       "1123  1124          20         50.0     9405            5            9   \n",
       "1396  1397          20          NaN    57200            5            5   \n",
       "87      88         160         40.0     3951            6            5   \n",
       "330    331          90          NaN    10624            5            4   \n",
       "1238  1239          20         63.0    13072            6            5   \n",
       "466    467          20         85.0    10628            7            5   \n",
       "121    122          50         50.0     6060            4            5   \n",
       "1044  1045          20         80.0     9600            8            5   \n",
       "1095  1096          20         78.0     9317            6            5   \n",
       "1130  1131          50         65.0     7804            4            3   \n",
       "1294  1295          20         60.0     8172            5            7   \n",
       "860    861          50         55.0     7642            7            8   \n",
       "1126  1127         120         53.0     3684            7            5   \n",
       "\n",
       "      YearBuilt  YearRemodAdd  MasVnrArea  BsmtFinSF1   ...    GarageArea  \\\n",
       "907        1936          1987         0.0         223   ...           180   \n",
       "782        2001          2002         0.0           0   ...           605   \n",
       "952        1972          2003         0.0         660   ...           396   \n",
       "620        1914          1950         0.0          41   ...             0   \n",
       "669        1922          1950         0.0           0   ...           252   \n",
       "128        1966          1966       266.0         512   ...           453   \n",
       "529        1957          1975         NaN        1219   ...           484   \n",
       "910        1960          1960       361.0         443   ...           480   \n",
       "998        1922          1950         0.0           0   ...           210   \n",
       "1450       1974          1974         0.0           0   ...             0   \n",
       "1163       1969          1969         0.0        1198   ...           400   \n",
       "247        1954          1954         0.0           0   ...           451   \n",
       "528        1920          2002         0.0         348   ...             0   \n",
       "733        1961          1983         0.0         594   ...           264   \n",
       "32         2007          2007         0.0           0   ...           484   \n",
       "634        1980          1980         0.0        1056   ...           576   \n",
       "1027       2007          2008       338.0        1513   ...           800   \n",
       "1053       1957          2002       145.0         383   ...           364   \n",
       "575        1947          1950         0.0         442   ...           336   \n",
       "843        1961          1961         0.0           0   ...             0   \n",
       "297        1997          1998      1600.0         649   ...           576   \n",
       "261        2007          2007       270.0           0   ...           868   \n",
       "1046       2005          2006       208.0         240   ...           716   \n",
       "939        1940          1950         0.0           0   ...           349   \n",
       "309        2003          2004         0.0        1274   ...           708   \n",
       "163        1956          1956         0.0           0   ...             0   \n",
       "1009       1926          1950         0.0           0   ...             0   \n",
       "599        1980          1980         0.0          81   ...           452   \n",
       "1175       1992          2000       337.0         700   ...           541   \n",
       "371        1959          1959         0.0           0   ...           680   \n",
       "...         ...           ...         ...         ...   ...           ...   \n",
       "747        1880          2003         0.0           0   ...           864   \n",
       "252        2004          2004         0.0           0   ...           520   \n",
       "21         1930          1950         0.0           0   ...           280   \n",
       "1337       1941          1950         0.0           0   ...             0   \n",
       "459        1950          1950       161.0         185   ...           352   \n",
       "1184       1963          1963       226.0        1159   ...           995   \n",
       "276        2003          2003         0.0           0   ...           573   \n",
       "955        1946          1950       423.0         484   ...           492   \n",
       "1215       1966          1966         0.0         180   ...           384   \n",
       "385        2004          2005        16.0          24   ...           430   \n",
       "805        2008          2008       256.0           0   ...           554   \n",
       "1437       2008          2008       426.0        1336   ...           774   \n",
       "343        2005          2005       616.0          28   ...           564   \n",
       "769        2003          2003       603.0        1416   ...           841   \n",
       "1332       1938          1958         0.0         690   ...           288   \n",
       "130        1966          1966       309.0         445   ...           487   \n",
       "871        1998          1998       116.0         505   ...           523   \n",
       "1123       1947          2008         0.0           0   ...             0   \n",
       "1396       1948          1950         0.0         353   ...           572   \n",
       "87         2009          2009        76.0           0   ...           528   \n",
       "330        1964          1964        84.0          40   ...           352   \n",
       "1238       2005          2005         0.0           0   ...           484   \n",
       "466        1970          1970         0.0         778   ...           526   \n",
       "121        1939          1950         0.0           0   ...           264   \n",
       "1044       1981          1981         0.0        1104   ...           542   \n",
       "1095       2006          2006         0.0          24   ...           440   \n",
       "1130       1928          1950         0.0         622   ...           576   \n",
       "1294       1955          1990         0.0         167   ...           572   \n",
       "860        1918          1998         0.0           0   ...           216   \n",
       "1126       2007          2007       130.0           0   ...           660   \n",
       "\n",
       "      WoodDeckSF  OpenPorchSF  EnclosedPorch  3SsnPorch  ScreenPorch  \\\n",
       "907            0            0              0          0          322   \n",
       "782            0           33              0          0            0   \n",
       "952          192            0              0          0            0   \n",
       "620            0            0            100          0            0   \n",
       "669            0            0             67          0            0   \n",
       "128          188          108              0          0            0   \n",
       "529            0            0            200          0            0   \n",
       "910            0            0              0          0            0   \n",
       "998            0          100             48          0            0   \n",
       "1450          32           45              0          0            0   \n",
       "1163         120            0              0          0            0   \n",
       "247            0           30              0          0            0   \n",
       "528            0            0            144          0            0   \n",
       "733          165            0              0          0            0   \n",
       "32             0           30              0          0            0   \n",
       "634          264           56              0          0            0   \n",
       "1027         192           44              0          0            0   \n",
       "1053         116           78              0          0            0   \n",
       "575          158            0            102          0            0   \n",
       "843            0            0              0          0            0   \n",
       "297            0           10              0          0          198   \n",
       "261            0          148              0          0            0   \n",
       "1046         214          108              0          0            0   \n",
       "939           56            0            318          0            0   \n",
       "309          208          175              0          0            0   \n",
       "163            0            0              0          0            0   \n",
       "1009           0            0            138          0            0   \n",
       "599          161            0              0          0            0   \n",
       "1175           0           33              0          0            0   \n",
       "371            0           59              0          0            0   \n",
       "...          ...          ...            ...        ...          ...   \n",
       "747          181            0            386          0            0   \n",
       "252          138           45              0          0            0   \n",
       "21             0            0            205          0            0   \n",
       "1337           0           20              0          0            0   \n",
       "459            0            0            248          0            0   \n",
       "1184           0          263              0          0          263   \n",
       "276          100          150              0          0            0   \n",
       "955            0            0              0          0            0   \n",
       "1215           0            0              0          0            0   \n",
       "385          146           20              0          0          144   \n",
       "805            0           60              0          0            0   \n",
       "1437           0           66              0        304            0   \n",
       "343          495           72              0          0            0   \n",
       "769          503           36              0          0          210   \n",
       "1332           0            0              0          0            0   \n",
       "130          105           66              0          0            0   \n",
       "871            0           77              0          0            0   \n",
       "1123           0          200              0          0            0   \n",
       "1396           0            0             50          0            0   \n",
       "87             0          234              0          0            0   \n",
       "330          155            0              0          0            0   \n",
       "1238           0            0              0          0            0   \n",
       "466            0            0              0          0          176   \n",
       "121            0            0            140          0            0   \n",
       "1044         474          120              0          0            0   \n",
       "1095           0           22              0          0            0   \n",
       "1130         431           44              0          0            0   \n",
       "1294           0            0              0          0            0   \n",
       "860            0          240              0          0            0   \n",
       "1126         143           20              0          0            0   \n",
       "\n",
       "      PoolArea  MiscVal  MoSold  YrSold  \n",
       "907          0        0       6    2006  \n",
       "782          0        0       6    2009  \n",
       "952          0        0       4    2009  \n",
       "620          0        0       9    2008  \n",
       "669          0        0       7    2006  \n",
       "128          0        0       7    2006  \n",
       "529          0        0       3    2007  \n",
       "910          0        0       1    2010  \n",
       "998          0        0       5    2006  \n",
       "1450         0        0       9    2009  \n",
       "1163         0        0       1    2008  \n",
       "247          0        0       6    2006  \n",
       "528          0        0       7    2007  \n",
       "733          0      400       3    2009  \n",
       "32           0        0       1    2008  \n",
       "634          0      600       6    2010  \n",
       "1027         0        0       4    2008  \n",
       "1053         0        0       5    2010  \n",
       "575          0        0      10    2008  \n",
       "843          0        0       7    2007  \n",
       "297          0        0       6    2007  \n",
       "261          0        0      11    2007  \n",
       "1046         0        0       7    2006  \n",
       "939          0        0       6    2010  \n",
       "309          0        0      11    2006  \n",
       "163          0        0       4    2007  \n",
       "1009         0        0       6    2006  \n",
       "599          0        0       7    2008  \n",
       "1175         0        0       4    2007  \n",
       "371          0        0       7    2008  \n",
       "...        ...      ...     ...     ...  \n",
       "747          0        0       5    2009  \n",
       "252          0        0      12    2008  \n",
       "21           0        0       6    2007  \n",
       "1337         0        0       3    2006  \n",
       "459          0        0       7    2009  \n",
       "1184         0        0       5    2007  \n",
       "276          0        0       4    2010  \n",
       "955          0        0       8    2007  \n",
       "1215         0        0       5    2007  \n",
       "385          0        0       4    2010  \n",
       "805          0        0       7    2008  \n",
       "1437         0        0      11    2008  \n",
       "343          0        0       7    2008  \n",
       "769          0        0       6    2010  \n",
       "1332         0        0       5    2009  \n",
       "130          0        0       5    2006  \n",
       "871          0        0       6    2010  \n",
       "1123         0        0       6    2009  \n",
       "1396         0        0       6    2010  \n",
       "87           0        0       6    2009  \n",
       "330          0        0      11    2007  \n",
       "1238         0        0       3    2006  \n",
       "466          0        0       4    2007  \n",
       "121          0        0       6    2007  \n",
       "1044         0        0       7    2009  \n",
       "1095         0        0       3    2007  \n",
       "1130         0        0      12    2009  \n",
       "1294         0        0       4    2006  \n",
       "860          0        0       6    2007  \n",
       "1126         0        0       6    2009  \n",
       "\n",
       "[1314 rows x 37 columns]>"
      ]
     },
     "execution_count": 168,
     "metadata": {},
     "output_type": "execute_result"
    }
   ],
   "source": [
    "train_X.count"
   ]
  },
  {
   "cell_type": "code",
   "execution_count": 169,
   "metadata": {},
   "outputs": [],
   "source": [
    "from sklearn.ensemble import RandomForestRegressor"
   ]
  },
  {
   "cell_type": "code",
   "execution_count": 170,
   "metadata": {},
   "outputs": [],
   "source": [
    "model = RandomForestRegressor()"
   ]
  },
  {
   "cell_type": "code",
   "execution_count": 171,
   "metadata": {},
   "outputs": [],
   "source": [
    "#removing NaNs by replacing them by 0; not efficient but does good for starting of with the training\n",
    "train_X = train_X.fillna(0)"
   ]
  },
  {
   "cell_type": "code",
   "execution_count": 172,
   "metadata": {},
   "outputs": [
    {
     "data": {
      "text/plain": [
       "RandomForestRegressor(bootstrap=True, criterion='mse', max_depth=None,\n",
       "           max_features='auto', max_leaf_nodes=None,\n",
       "           min_impurity_decrease=0.0, min_impurity_split=None,\n",
       "           min_samples_leaf=1, min_samples_split=2,\n",
       "           min_weight_fraction_leaf=0.0, n_estimators=10, n_jobs=1,\n",
       "           oob_score=False, random_state=None, verbose=0, warm_start=False)"
      ]
     },
     "execution_count": 172,
     "metadata": {},
     "output_type": "execute_result"
    }
   ],
   "source": [
    "model.fit(train_X, train_y)"
   ]
  },
  {
   "cell_type": "code",
   "execution_count": 173,
   "metadata": {},
   "outputs": [],
   "source": [
    "test_X = test_X.fillna(0)"
   ]
  },
  {
   "cell_type": "code",
   "execution_count": 174,
   "metadata": {},
   "outputs": [],
   "source": [
    "predictions = model.predict(test_X)"
   ]
  },
  {
   "cell_type": "code",
   "execution_count": 175,
   "metadata": {},
   "outputs": [
    {
     "data": {
      "text/plain": [
       "16580.58904109589"
      ]
     },
     "execution_count": 175,
     "metadata": {},
     "output_type": "execute_result"
    }
   ],
   "source": [
    "from sklearn.metrics import mean_absolute_error\n",
    "\n",
    "mean_absolute_error(test_y, predictions)"
   ]
  },
  {
   "cell_type": "code",
   "execution_count": 121,
   "metadata": {},
   "outputs": [],
   "source": []
  },
  {
   "cell_type": "code",
   "execution_count": 122,
   "metadata": {},
   "outputs": [],
   "source": []
  },
  {
   "cell_type": "code",
   "execution_count": null,
   "metadata": {},
   "outputs": [],
   "source": []
  },
  {
   "cell_type": "code",
   "execution_count": null,
   "metadata": {},
   "outputs": [],
   "source": []
  },
  {
   "cell_type": "code",
   "execution_count": null,
   "metadata": {},
   "outputs": [],
   "source": []
  },
  {
   "cell_type": "code",
   "execution_count": null,
   "metadata": {},
   "outputs": [],
   "source": []
  },
  {
   "cell_type": "code",
   "execution_count": null,
   "metadata": {},
   "outputs": [],
   "source": []
  },
  {
   "cell_type": "code",
   "execution_count": 86,
   "metadata": {},
   "outputs": [],
   "source": [
    "#testPath = \"./input/test.csv\"\n",
    "#testData = pd.read_csv(testPath)\n",
    "#test_y = testData.SalePrice"
   ]
  },
  {
   "cell_type": "code",
   "execution_count": 176,
   "metadata": {},
   "outputs": [],
   "source": [
    "#submissionObj = pd.DataFrame({'Id': testData.Id, 'SalePrice': predictions})\n",
    "#submissionObj.to_csv('submission.csv', index=False)"
   ]
  },
  {
   "cell_type": "code",
   "execution_count": null,
   "metadata": {},
   "outputs": [],
   "source": []
  }
 ],
 "metadata": {
  "kernelspec": {
   "display_name": "Python 3",
   "language": "python",
   "name": "python3"
  },
  "language_info": {
   "codemirror_mode": {
    "name": "ipython",
    "version": 3
   },
   "file_extension": ".py",
   "mimetype": "text/x-python",
   "name": "python",
   "nbconvert_exporter": "python",
   "pygments_lexer": "ipython3",
   "version": "3.6.4"
  }
 },
 "nbformat": 4,
 "nbformat_minor": 2
}
