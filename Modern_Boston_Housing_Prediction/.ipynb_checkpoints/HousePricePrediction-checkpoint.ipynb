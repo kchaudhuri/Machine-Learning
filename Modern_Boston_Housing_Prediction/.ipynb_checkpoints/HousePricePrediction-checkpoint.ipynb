{
 "cells": [
  {
   "cell_type": "code",
   "execution_count": 5,
   "metadata": {},
   "outputs": [],
   "source": [
    "import pandas as pd"
   ]
  },
  {
   "cell_type": "code",
   "execution_count": 6,
   "metadata": {},
   "outputs": [
    {
     "data": {
      "text/plain": [
       "(1460, 81)"
      ]
     },
     "execution_count": 6,
     "metadata": {},
     "output_type": "execute_result"
    }
   ],
   "source": [
    "trainPath = \"./input/train.csv\"\n",
    "trainData = pd.read_csv(trainPath)\n",
    "trainData.shape"
   ]
  },
  {
   "cell_type": "code",
   "execution_count": 7,
   "metadata": {},
   "outputs": [],
   "source": [
    "#print(trainData.isnull().sum())"
   ]
  },
  {
   "cell_type": "code",
   "execution_count": 8,
   "metadata": {},
   "outputs": [],
   "source": [
    "#trainData = trainData.dropna(axis=1)"
   ]
  },
  {
   "cell_type": "code",
   "execution_count": 9,
   "metadata": {},
   "outputs": [
    {
     "data": {
      "text/plain": [
       "(1460, 290)"
      ]
     },
     "execution_count": 9,
     "metadata": {},
     "output_type": "execute_result"
    }
   ],
   "source": [
    "trainData = pd.get_dummies(trainData)\n",
    "trainData.shape"
   ]
  },
  {
   "cell_type": "code",
   "execution_count": 10,
   "metadata": {},
   "outputs": [],
   "source": [
    "#trainData.head()"
   ]
  },
  {
   "cell_type": "code",
   "execution_count": 11,
   "metadata": {},
   "outputs": [],
   "source": [
    "allParams = list(trainData.columns.values)\n",
    "\n",
    "#Removing Categorical data\n",
    "numParams = []\n",
    "\n",
    "for i in allParams:\n",
    "    if trainData[i].dtype == 'object':\n",
    "        pass\n",
    "    else:\n",
    "        numParams.append(i)\n",
    "        #print(i)"
   ]
  },
  {
   "cell_type": "code",
   "execution_count": 12,
   "metadata": {},
   "outputs": [],
   "source": [
    "y = trainData.SalePrice"
   ]
  },
  {
   "cell_type": "code",
   "execution_count": 13,
   "metadata": {},
   "outputs": [],
   "source": [
    "numParams.remove('SalePrice')\n",
    "numParams.remove('Id')"
   ]
  },
  {
   "cell_type": "code",
   "execution_count": 14,
   "metadata": {},
   "outputs": [],
   "source": [
    "X = trainData[numParams]"
   ]
  },
  {
   "cell_type": "code",
   "execution_count": 15,
   "metadata": {},
   "outputs": [],
   "source": [
    "#from sklearn.preprocessing import Imputer\n",
    "#my_imputer = Imputer()\n",
    "#X = my_imputer.fit_transform(X)"
   ]
  },
  {
   "cell_type": "code",
   "execution_count": 16,
   "metadata": {},
   "outputs": [],
   "source": [
    "from sklearn.model_selection import train_test_split\n",
    "\n",
    "train_X, test_X, train_y, test_y = train_test_split(X, y, test_size=0.1, random_state=42)"
   ]
  },
  {
   "cell_type": "code",
   "execution_count": 17,
   "metadata": {},
   "outputs": [
    {
     "name": "stdout",
     "output_type": "stream",
     "text": [
      "(1314, 288)\n",
      "(1314,)\n",
      "(146, 288)\n",
      "(146,)\n"
     ]
    }
   ],
   "source": [
    "print(train_X.shape)\n",
    "print(train_y.shape)\n",
    "print(test_X.shape)\n",
    "print(test_y.shape)"
   ]
  },
  {
   "cell_type": "code",
   "execution_count": 20,
   "metadata": {},
   "outputs": [],
   "source": [
    "from sklearn.preprocessing import Imputer\n",
    "my_imputer = Imputer()\n",
    "train_X = my_imputer.fit_transform(train_X)\n",
    "test_X = my_imputer.transform(test_X)"
   ]
  },
  {
   "cell_type": "code",
   "execution_count": 21,
   "metadata": {},
   "outputs": [],
   "source": [
    "from sklearn.ensemble import RandomForestRegressor\n",
    "\n",
    "model = RandomForestRegressor()"
   ]
  },
  {
   "cell_type": "code",
   "execution_count": 22,
   "metadata": {},
   "outputs": [],
   "source": [
    "#removing NaNs by replacing them by 0; not efficient but does good for starting of with the training\n",
    "#train_X = train_X.fillna(0)"
   ]
  },
  {
   "cell_type": "code",
   "execution_count": 23,
   "metadata": {},
   "outputs": [
    {
     "data": {
      "text/plain": [
       "RandomForestRegressor(bootstrap=True, criterion='mse', max_depth=None,\n",
       "           max_features='auto', max_leaf_nodes=None,\n",
       "           min_impurity_decrease=0.0, min_impurity_split=None,\n",
       "           min_samples_leaf=1, min_samples_split=2,\n",
       "           min_weight_fraction_leaf=0.0, n_estimators=10, n_jobs=1,\n",
       "           oob_score=False, random_state=None, verbose=0, warm_start=False)"
      ]
     },
     "execution_count": 23,
     "metadata": {},
     "output_type": "execute_result"
    }
   ],
   "source": [
    "model.fit(train_X, train_y)"
   ]
  },
  {
   "cell_type": "code",
   "execution_count": 24,
   "metadata": {},
   "outputs": [],
   "source": [
    "#test_X = test_X.fillna(0)"
   ]
  },
  {
   "cell_type": "code",
   "execution_count": 25,
   "metadata": {},
   "outputs": [],
   "source": [
    "predictions = model.predict(test_X)"
   ]
  },
  {
   "cell_type": "code",
   "execution_count": 26,
   "metadata": {},
   "outputs": [
    {
     "data": {
      "text/plain": [
       "18302.316438356167"
      ]
     },
     "execution_count": 26,
     "metadata": {},
     "output_type": "execute_result"
    }
   ],
   "source": [
    "from sklearn.metrics import mean_absolute_error\n",
    "\n",
    "mean_absolute_error(test_y, predictions)"
   ]
  },
  {
   "cell_type": "code",
   "execution_count": 27,
   "metadata": {},
   "outputs": [
    {
     "data": {
      "text/plain": [
       "17237.995205479452"
      ]
     },
     "execution_count": 27,
     "metadata": {},
     "output_type": "execute_result"
    }
   ],
   "source": [
    "16789.477397260274 \n",
    "17090.829908675798 #drop columns and categorical data inclusion\n",
    "18997.650570776255 #fill nan with 0\n",
    "17998.12579908676 #with imputer\n",
    "17237.995205479452 #drop columns with nans"
   ]
  },
  {
   "cell_type": "code",
   "execution_count": 32,
   "metadata": {},
   "outputs": [
    {
     "data": {
      "text/plain": [
       "16094.251203981165"
      ]
     },
     "execution_count": 32,
     "metadata": {},
     "output_type": "execute_result"
    }
   ],
   "source": [
    "#basic xgboost regression code\n",
    "from xgboost import XGBRegressor\n",
    "\n",
    "xgbr_model = XGBRegressor()\n",
    "\n",
    "xgbr_model.fit(train_X, train_y, verbose=False)\n",
    "newpred = xgbr_model.predict(test_X)\n",
    "\n",
    "mean_absolute_error(test_y, newpred)"
   ]
  },
  {
   "cell_type": "code",
   "execution_count": 73,
   "metadata": {},
   "outputs": [
    {
     "name": "stdout",
     "output_type": "stream",
     "text": [
      "[0]\tvalidation_0-rmse:200925\n",
      "Will train until validation_0-rmse hasn't improved in 4 rounds.\n",
      "[1]\tvalidation_0-rmse:195681\n",
      "[2]\tvalidation_0-rmse:190586\n",
      "[3]\tvalidation_0-rmse:185604\n",
      "[4]\tvalidation_0-rmse:180829\n",
      "[5]\tvalidation_0-rmse:176064\n",
      "[6]\tvalidation_0-rmse:171449\n",
      "[7]\tvalidation_0-rmse:167231\n",
      "[8]\tvalidation_0-rmse:162874\n",
      "[9]\tvalidation_0-rmse:158717\n",
      "[10]\tvalidation_0-rmse:154644\n",
      "[11]\tvalidation_0-rmse:150729\n",
      "[12]\tvalidation_0-rmse:146873\n",
      "[13]\tvalidation_0-rmse:143156\n",
      "[14]\tvalidation_0-rmse:139545\n",
      "[15]\tvalidation_0-rmse:136062\n",
      "[16]\tvalidation_0-rmse:132676\n",
      "[17]\tvalidation_0-rmse:129344\n",
      "[18]\tvalidation_0-rmse:126446\n",
      "[19]\tvalidation_0-rmse:123402\n",
      "[20]\tvalidation_0-rmse:120668\n",
      "[21]\tvalidation_0-rmse:117735\n",
      "[22]\tvalidation_0-rmse:114968\n",
      "[23]\tvalidation_0-rmse:112306\n",
      "[24]\tvalidation_0-rmse:109597\n",
      "[25]\tvalidation_0-rmse:107025\n",
      "[26]\tvalidation_0-rmse:104630\n",
      "[27]\tvalidation_0-rmse:102300\n",
      "[28]\tvalidation_0-rmse:100138\n",
      "[29]\tvalidation_0-rmse:97880.7\n",
      "[30]\tvalidation_0-rmse:95940.1\n",
      "[31]\tvalidation_0-rmse:93803.3\n",
      "[32]\tvalidation_0-rmse:91763.4\n",
      "[33]\tvalidation_0-rmse:89870.8\n",
      "[34]\tvalidation_0-rmse:87979.5\n",
      "[35]\tvalidation_0-rmse:86131.5\n",
      "[36]\tvalidation_0-rmse:84338\n",
      "[37]\tvalidation_0-rmse:82840\n",
      "[38]\tvalidation_0-rmse:81181.4\n",
      "[39]\tvalidation_0-rmse:79703.9\n",
      "[40]\tvalidation_0-rmse:78186\n",
      "[41]\tvalidation_0-rmse:76850.4\n",
      "[42]\tvalidation_0-rmse:75407.3\n",
      "[43]\tvalidation_0-rmse:74182.3\n",
      "[44]\tvalidation_0-rmse:72986.2\n",
      "[45]\tvalidation_0-rmse:71597\n",
      "[46]\tvalidation_0-rmse:70450.8\n",
      "[47]\tvalidation_0-rmse:69207.4\n",
      "[48]\tvalidation_0-rmse:68136.8\n",
      "[49]\tvalidation_0-rmse:66943.5\n",
      "[50]\tvalidation_0-rmse:65822.2\n",
      "[51]\tvalidation_0-rmse:64903.1\n",
      "[52]\tvalidation_0-rmse:63796.6\n",
      "[53]\tvalidation_0-rmse:62804.9\n",
      "[54]\tvalidation_0-rmse:61923.6\n",
      "[55]\tvalidation_0-rmse:60946.3\n",
      "[56]\tvalidation_0-rmse:60204.1\n",
      "[57]\tvalidation_0-rmse:59292.5\n",
      "[58]\tvalidation_0-rmse:58422.7\n",
      "[59]\tvalidation_0-rmse:57786.7\n",
      "[60]\tvalidation_0-rmse:57013\n",
      "[61]\tvalidation_0-rmse:56206.6\n",
      "[62]\tvalidation_0-rmse:55377.7\n",
      "[63]\tvalidation_0-rmse:54835.4\n",
      "[64]\tvalidation_0-rmse:54100\n",
      "[65]\tvalidation_0-rmse:53550.1\n",
      "[66]\tvalidation_0-rmse:52865.6\n",
      "[67]\tvalidation_0-rmse:52260.8\n",
      "[68]\tvalidation_0-rmse:51659.1\n",
      "[69]\tvalidation_0-rmse:51079.4\n",
      "[70]\tvalidation_0-rmse:50539.8\n",
      "[71]\tvalidation_0-rmse:50178.1\n",
      "[72]\tvalidation_0-rmse:49663.5\n",
      "[73]\tvalidation_0-rmse:49125.4\n",
      "[74]\tvalidation_0-rmse:48658\n",
      "[75]\tvalidation_0-rmse:48177.5\n",
      "[76]\tvalidation_0-rmse:47671.2\n",
      "[77]\tvalidation_0-rmse:47413.5\n",
      "[78]\tvalidation_0-rmse:46990.2\n",
      "[79]\tvalidation_0-rmse:46602.4\n",
      "[80]\tvalidation_0-rmse:46355.9\n",
      "[81]\tvalidation_0-rmse:46011.4\n",
      "[82]\tvalidation_0-rmse:45698.1\n",
      "[83]\tvalidation_0-rmse:45294.7\n",
      "[84]\tvalidation_0-rmse:44970.2\n",
      "[85]\tvalidation_0-rmse:44648.8\n",
      "[86]\tvalidation_0-rmse:44358.2\n",
      "[87]\tvalidation_0-rmse:44088.5\n",
      "[88]\tvalidation_0-rmse:43735.1\n",
      "[89]\tvalidation_0-rmse:43485.6\n",
      "[90]\tvalidation_0-rmse:43266.4\n",
      "[91]\tvalidation_0-rmse:42972.4\n",
      "[92]\tvalidation_0-rmse:42662.8\n",
      "[93]\tvalidation_0-rmse:42337.1\n",
      "[94]\tvalidation_0-rmse:42035\n",
      "[95]\tvalidation_0-rmse:41903.5\n",
      "[96]\tvalidation_0-rmse:41665.8\n",
      "[97]\tvalidation_0-rmse:41460.4\n",
      "[98]\tvalidation_0-rmse:41293.1\n",
      "[99]\tvalidation_0-rmse:41053\n",
      "[100]\tvalidation_0-rmse:40850.3\n",
      "[101]\tvalidation_0-rmse:40746.6\n",
      "[102]\tvalidation_0-rmse:40528.8\n",
      "[103]\tvalidation_0-rmse:40317.7\n",
      "[104]\tvalidation_0-rmse:40135.2\n",
      "[105]\tvalidation_0-rmse:39998\n",
      "[106]\tvalidation_0-rmse:39867.2\n",
      "[107]\tvalidation_0-rmse:39669.6\n",
      "[108]\tvalidation_0-rmse:39544.4\n",
      "[109]\tvalidation_0-rmse:39362.4\n",
      "[110]\tvalidation_0-rmse:39334\n",
      "[111]\tvalidation_0-rmse:39197.9\n",
      "[112]\tvalidation_0-rmse:39096.6\n",
      "[113]\tvalidation_0-rmse:39005.1\n",
      "[114]\tvalidation_0-rmse:38842.8\n",
      "[115]\tvalidation_0-rmse:38743.1\n",
      "[116]\tvalidation_0-rmse:38726.3\n",
      "[117]\tvalidation_0-rmse:38627.7\n",
      "[118]\tvalidation_0-rmse:38443.4\n",
      "[119]\tvalidation_0-rmse:38367.4\n",
      "[120]\tvalidation_0-rmse:38240.6\n",
      "[121]\tvalidation_0-rmse:38162.9\n",
      "[122]\tvalidation_0-rmse:38028.5\n",
      "[123]\tvalidation_0-rmse:38033.9\n",
      "[124]\tvalidation_0-rmse:37942.6\n",
      "[125]\tvalidation_0-rmse:37867.5\n",
      "[126]\tvalidation_0-rmse:37742.5\n",
      "[127]\tvalidation_0-rmse:37600.3\n",
      "[128]\tvalidation_0-rmse:37475.4\n",
      "[129]\tvalidation_0-rmse:37366.1\n",
      "[130]\tvalidation_0-rmse:37239.9\n",
      "[131]\tvalidation_0-rmse:37134.7\n",
      "[132]\tvalidation_0-rmse:37165.4\n",
      "[133]\tvalidation_0-rmse:37053.7\n",
      "[134]\tvalidation_0-rmse:36996.7\n",
      "[135]\tvalidation_0-rmse:36938\n",
      "[136]\tvalidation_0-rmse:36864.2\n",
      "[137]\tvalidation_0-rmse:36900\n",
      "[138]\tvalidation_0-rmse:36866.8\n",
      "[139]\tvalidation_0-rmse:36775.4\n",
      "[140]\tvalidation_0-rmse:36677.5\n",
      "[141]\tvalidation_0-rmse:36643.3\n",
      "[142]\tvalidation_0-rmse:36613.4\n",
      "[143]\tvalidation_0-rmse:36578.8\n",
      "[144]\tvalidation_0-rmse:36530.8\n",
      "[145]\tvalidation_0-rmse:36492.9\n",
      "[146]\tvalidation_0-rmse:36455.4\n",
      "[147]\tvalidation_0-rmse:36460.8\n",
      "[148]\tvalidation_0-rmse:36439.4\n",
      "[149]\tvalidation_0-rmse:36360.8\n",
      "[150]\tvalidation_0-rmse:36336.3\n",
      "[151]\tvalidation_0-rmse:36377.8\n",
      "[152]\tvalidation_0-rmse:36327.6\n",
      "[153]\tvalidation_0-rmse:36286.1\n",
      "[154]\tvalidation_0-rmse:36113.4\n",
      "[155]\tvalidation_0-rmse:36084.4\n",
      "[156]\tvalidation_0-rmse:35994.1\n",
      "[157]\tvalidation_0-rmse:36004.3\n",
      "[158]\tvalidation_0-rmse:35960.4\n",
      "[159]\tvalidation_0-rmse:35922.6\n",
      "[160]\tvalidation_0-rmse:35932.3\n",
      "[161]\tvalidation_0-rmse:35896.7\n",
      "[162]\tvalidation_0-rmse:35824.6\n",
      "[163]\tvalidation_0-rmse:35892.7\n",
      "[164]\tvalidation_0-rmse:35869.4\n",
      "[165]\tvalidation_0-rmse:35846.8\n",
      "[166]\tvalidation_0-rmse:35767.9\n",
      "[167]\tvalidation_0-rmse:35749.5\n",
      "[168]\tvalidation_0-rmse:35765.4\n",
      "[169]\tvalidation_0-rmse:35691.9\n",
      "[170]\tvalidation_0-rmse:35626\n",
      "[171]\tvalidation_0-rmse:35597.5\n",
      "[172]\tvalidation_0-rmse:35615.8\n",
      "[173]\tvalidation_0-rmse:35599.2\n",
      "[174]\tvalidation_0-rmse:35581.3\n",
      "[175]\tvalidation_0-rmse:35547.4\n",
      "[176]\tvalidation_0-rmse:35534.8\n",
      "[177]\tvalidation_0-rmse:35516.9\n",
      "[178]\tvalidation_0-rmse:35461.6\n",
      "[179]\tvalidation_0-rmse:35497.1\n",
      "[180]\tvalidation_0-rmse:35473.8\n",
      "[181]\tvalidation_0-rmse:35462.2\n",
      "[182]\tvalidation_0-rmse:35451.1\n",
      "[183]\tvalidation_0-rmse:35397.9\n",
      "[184]\tvalidation_0-rmse:35386.8\n",
      "[185]\tvalidation_0-rmse:35373.9\n",
      "[186]\tvalidation_0-rmse:35359.6\n",
      "[187]\tvalidation_0-rmse:35350.3\n",
      "[188]\tvalidation_0-rmse:35339.6\n",
      "[189]\tvalidation_0-rmse:35302\n",
      "[190]\tvalidation_0-rmse:35295.4\n",
      "[191]\tvalidation_0-rmse:35285.8\n",
      "[192]\tvalidation_0-rmse:35268.7\n",
      "[193]\tvalidation_0-rmse:35262.2\n",
      "[194]\tvalidation_0-rmse:35197.4\n",
      "[195]\tvalidation_0-rmse:35179.2\n",
      "[196]\tvalidation_0-rmse:35173.2\n",
      "[197]\tvalidation_0-rmse:35161\n",
      "[198]\tvalidation_0-rmse:35113.4\n",
      "[199]\tvalidation_0-rmse:35132.8\n",
      "[200]\tvalidation_0-rmse:35118.3\n",
      "[201]\tvalidation_0-rmse:35110.2\n",
      "[202]\tvalidation_0-rmse:35118.7\n",
      "[203]\tvalidation_0-rmse:35107.2\n",
      "[204]\tvalidation_0-rmse:35060.6\n",
      "[205]\tvalidation_0-rmse:35036.6\n",
      "[206]\tvalidation_0-rmse:35023.3\n",
      "[207]\tvalidation_0-rmse:35015.7\n",
      "[208]\tvalidation_0-rmse:34999.9\n",
      "[209]\tvalidation_0-rmse:34957.7\n",
      "[210]\tvalidation_0-rmse:34909.1\n",
      "[211]\tvalidation_0-rmse:34896.5\n",
      "[212]\tvalidation_0-rmse:34889.9\n",
      "[213]\tvalidation_0-rmse:34840.5\n",
      "[214]\tvalidation_0-rmse:34834.9\n",
      "[215]\tvalidation_0-rmse:34823\n",
      "[216]\tvalidation_0-rmse:34813.6\n",
      "[217]\tvalidation_0-rmse:34769.9\n",
      "[218]\tvalidation_0-rmse:34782.5\n",
      "[219]\tvalidation_0-rmse:34793.3\n",
      "[220]\tvalidation_0-rmse:34774.5\n",
      "[221]\tvalidation_0-rmse:34744.8\n",
      "[222]\tvalidation_0-rmse:34738.6\n",
      "[223]\tvalidation_0-rmse:34696.9\n",
      "[224]\tvalidation_0-rmse:34695.4\n",
      "[225]\tvalidation_0-rmse:34659.7\n",
      "[226]\tvalidation_0-rmse:34649\n",
      "[227]\tvalidation_0-rmse:34627.3\n",
      "[228]\tvalidation_0-rmse:34622.7\n",
      "[229]\tvalidation_0-rmse:34614.6\n",
      "[230]\tvalidation_0-rmse:34605.5\n",
      "[231]\tvalidation_0-rmse:34622.5\n",
      "[232]\tvalidation_0-rmse:34601.9\n",
      "[233]\tvalidation_0-rmse:34596.2\n",
      "[234]\tvalidation_0-rmse:34595.7\n",
      "[235]\tvalidation_0-rmse:34578.8\n",
      "[236]\tvalidation_0-rmse:34572.1\n",
      "[237]\tvalidation_0-rmse:34563.5\n",
      "[238]\tvalidation_0-rmse:34553.6\n",
      "[239]\tvalidation_0-rmse:34518.8\n",
      "[240]\tvalidation_0-rmse:34506.6\n",
      "[241]\tvalidation_0-rmse:34499.9\n",
      "[242]\tvalidation_0-rmse:34494.5\n",
      "[243]\tvalidation_0-rmse:34489.3\n",
      "[244]\tvalidation_0-rmse:34483.7\n",
      "[245]\tvalidation_0-rmse:34499.7\n",
      "[246]\tvalidation_0-rmse:34494.7\n",
      "[247]\tvalidation_0-rmse:34486.1\n",
      "[248]\tvalidation_0-rmse:34527.7\n",
      "Stopping. Best iteration:\n",
      "[244]\tvalidation_0-rmse:34483.7\n",
      "\n"
     ]
    },
    {
     "data": {
      "text/plain": [
       "XGBRegressor(base_score=0.5, booster='gbtree', colsample_bylevel=1,\n",
       "       colsample_bytree=1, gamma=0, learning_rate=0.03, max_delta_step=0,\n",
       "       max_depth=3, min_child_weight=1, missing=None, n_estimators=1000,\n",
       "       n_jobs=1, nthread=None, objective='reg:linear', random_state=0,\n",
       "       reg_alpha=0, reg_lambda=1, scale_pos_weight=1, seed=None,\n",
       "       silent=True, subsample=1)"
      ]
     },
     "execution_count": 73,
     "metadata": {},
     "output_type": "execute_result"
    }
   ],
   "source": [
    "#advanced code for xgboost\n",
    "my_model = XGBRegressor(n_estimators = 1000, learning_rate=0.03)\n",
    "my_model.fit(train_X, train_y, early_stopping_rounds=4, \n",
    "             eval_set=[(test_X, test_y)], verbose=True)"
   ]
  },
  {
   "cell_type": "code",
   "execution_count": 72,
   "metadata": {},
   "outputs": [
    {
     "data": {
      "text/plain": [
       "16301.990261130137"
      ]
     },
     "execution_count": 72,
     "metadata": {},
     "output_type": "execute_result"
    }
   ],
   "source": [
    "newpred = my_model.predict(test_X)\n",
    "\n",
    "mean_absolute_error(test_y, newpred)"
   ]
  },
  {
   "cell_type": "code",
   "execution_count": null,
   "metadata": {},
   "outputs": [],
   "source": []
  },
  {
   "cell_type": "code",
   "execution_count": null,
   "metadata": {},
   "outputs": [],
   "source": []
  },
  {
   "cell_type": "code",
   "execution_count": null,
   "metadata": {},
   "outputs": [],
   "source": []
  },
  {
   "cell_type": "code",
   "execution_count": 86,
   "metadata": {},
   "outputs": [],
   "source": [
    "#testPath = \"./input/test.csv\"\n",
    "#testData = pd.read_csv(testPath)\n",
    "#test_y = testData.SalePrice"
   ]
  },
  {
   "cell_type": "code",
   "execution_count": 176,
   "metadata": {},
   "outputs": [],
   "source": [
    "#submissionObj = pd.DataFrame({'Id': testData.Id, 'SalePrice': predictions})\n",
    "#submissionObj.to_csv('submission.csv', index=False)"
   ]
  },
  {
   "cell_type": "code",
   "execution_count": null,
   "metadata": {},
   "outputs": [],
   "source": []
  }
 ],
 "metadata": {
  "kernelspec": {
   "display_name": "Python 3",
   "language": "python",
   "name": "python3"
  },
  "language_info": {
   "codemirror_mode": {
    "name": "ipython",
    "version": 3
   },
   "file_extension": ".py",
   "mimetype": "text/x-python",
   "name": "python",
   "nbconvert_exporter": "python",
   "pygments_lexer": "ipython3",
   "version": "3.6.4"
  }
 },
 "nbformat": 4,
 "nbformat_minor": 2
}
