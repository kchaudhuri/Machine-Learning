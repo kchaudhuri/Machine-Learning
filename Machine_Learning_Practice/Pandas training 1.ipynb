{
  "cells": [
    {
      "metadata": {
        "_uuid": "8f2839f25d086af736a60e9eeb907d3b93b6e0e5",
        "_cell_guid": "b1076dfc-b9ad-4769-8c92-a6c4dae69d19",
        "trusted": true
      },
      "cell_type": "code",
      "source": "import pandas as pd",
      "execution_count": 1,
      "outputs": []
    },
    {
      "metadata": {
        "_cell_guid": "79c7e3d0-c299-4dcb-8224-4455121ee9b0",
        "_uuid": "d629ff2d2480ee46fbb7e2d37f6b5fab8052498a",
        "trusted": true
      },
      "cell_type": "code",
      "source": "df = pd.read_csv(\"../input/train.csv\")",
      "execution_count": 2,
      "outputs": []
    },
    {
      "metadata": {
        "trusted": true,
        "_uuid": "93191524377768728b1cbc7fbb558e06a2d99a7d"
      },
      "cell_type": "code",
      "source": "df.head()",
      "execution_count": 3,
      "outputs": [
        {
          "output_type": "execute_result",
          "execution_count": 3,
          "data": {
            "text/plain": "   PassengerId  Survived  Pclass    ...        Fare Cabin  Embarked\n0            1         0       3    ...      7.2500   NaN         S\n1            2         1       1    ...     71.2833   C85         C\n2            3         1       3    ...      7.9250   NaN         S\n3            4         1       1    ...     53.1000  C123         S\n4            5         0       3    ...      8.0500   NaN         S\n\n[5 rows x 12 columns]",
            "text/html": "<div>\n<style scoped>\n    .dataframe tbody tr th:only-of-type {\n        vertical-align: middle;\n    }\n\n    .dataframe tbody tr th {\n        vertical-align: top;\n    }\n\n    .dataframe thead th {\n        text-align: right;\n    }\n</style>\n<table border=\"1\" class=\"dataframe\">\n  <thead>\n    <tr style=\"text-align: right;\">\n      <th></th>\n      <th>PassengerId</th>\n      <th>Survived</th>\n      <th>Pclass</th>\n      <th>Name</th>\n      <th>Sex</th>\n      <th>Age</th>\n      <th>SibSp</th>\n      <th>Parch</th>\n      <th>Ticket</th>\n      <th>Fare</th>\n      <th>Cabin</th>\n      <th>Embarked</th>\n    </tr>\n  </thead>\n  <tbody>\n    <tr>\n      <th>0</th>\n      <td>1</td>\n      <td>0</td>\n      <td>3</td>\n      <td>Braund, Mr. Owen Harris</td>\n      <td>male</td>\n      <td>22.0</td>\n      <td>1</td>\n      <td>0</td>\n      <td>A/5 21171</td>\n      <td>7.2500</td>\n      <td>NaN</td>\n      <td>S</td>\n    </tr>\n    <tr>\n      <th>1</th>\n      <td>2</td>\n      <td>1</td>\n      <td>1</td>\n      <td>Cumings, Mrs. John Bradley (Florence Briggs Th...</td>\n      <td>female</td>\n      <td>38.0</td>\n      <td>1</td>\n      <td>0</td>\n      <td>PC 17599</td>\n      <td>71.2833</td>\n      <td>C85</td>\n      <td>C</td>\n    </tr>\n    <tr>\n      <th>2</th>\n      <td>3</td>\n      <td>1</td>\n      <td>3</td>\n      <td>Heikkinen, Miss. Laina</td>\n      <td>female</td>\n      <td>26.0</td>\n      <td>0</td>\n      <td>0</td>\n      <td>STON/O2. 3101282</td>\n      <td>7.9250</td>\n      <td>NaN</td>\n      <td>S</td>\n    </tr>\n    <tr>\n      <th>3</th>\n      <td>4</td>\n      <td>1</td>\n      <td>1</td>\n      <td>Futrelle, Mrs. Jacques Heath (Lily May Peel)</td>\n      <td>female</td>\n      <td>35.0</td>\n      <td>1</td>\n      <td>0</td>\n      <td>113803</td>\n      <td>53.1000</td>\n      <td>C123</td>\n      <td>S</td>\n    </tr>\n    <tr>\n      <th>4</th>\n      <td>5</td>\n      <td>0</td>\n      <td>3</td>\n      <td>Allen, Mr. William Henry</td>\n      <td>male</td>\n      <td>35.0</td>\n      <td>0</td>\n      <td>0</td>\n      <td>373450</td>\n      <td>8.0500</td>\n      <td>NaN</td>\n      <td>S</td>\n    </tr>\n  </tbody>\n</table>\n</div>"
          },
          "metadata": {}
        }
      ]
    },
    {
      "metadata": {
        "trusted": true,
        "_uuid": "a8b2f8774c12a1672ae62a87dff32ce770d11699"
      },
      "cell_type": "code",
      "source": "df[[\"Survived\",\"Embarked\"]].head()",
      "execution_count": 4,
      "outputs": [
        {
          "output_type": "execute_result",
          "execution_count": 4,
          "data": {
            "text/plain": "   Survived Embarked\n0         0        S\n1         1        C\n2         1        S\n3         1        S\n4         0        S",
            "text/html": "<div>\n<style scoped>\n    .dataframe tbody tr th:only-of-type {\n        vertical-align: middle;\n    }\n\n    .dataframe tbody tr th {\n        vertical-align: top;\n    }\n\n    .dataframe thead th {\n        text-align: right;\n    }\n</style>\n<table border=\"1\" class=\"dataframe\">\n  <thead>\n    <tr style=\"text-align: right;\">\n      <th></th>\n      <th>Survived</th>\n      <th>Embarked</th>\n    </tr>\n  </thead>\n  <tbody>\n    <tr>\n      <th>0</th>\n      <td>0</td>\n      <td>S</td>\n    </tr>\n    <tr>\n      <th>1</th>\n      <td>1</td>\n      <td>C</td>\n    </tr>\n    <tr>\n      <th>2</th>\n      <td>1</td>\n      <td>S</td>\n    </tr>\n    <tr>\n      <th>3</th>\n      <td>1</td>\n      <td>S</td>\n    </tr>\n    <tr>\n      <th>4</th>\n      <td>0</td>\n      <td>S</td>\n    </tr>\n  </tbody>\n</table>\n</div>"
          },
          "metadata": {}
        }
      ]
    },
    {
      "metadata": {
        "trusted": true,
        "_uuid": "0598c06ca04ae2226de5428c6ff81242d6012c2c"
      },
      "cell_type": "code",
      "source": "df.shape",
      "execution_count": 5,
      "outputs": [
        {
          "output_type": "execute_result",
          "execution_count": 5,
          "data": {
            "text/plain": "(891, 12)"
          },
          "metadata": {}
        }
      ]
    },
    {
      "metadata": {
        "trusted": true,
        "_uuid": "5ff7cf038acd31ecd3073d05651029f28fff30fc"
      },
      "cell_type": "code",
      "source": "df[\"Sex\"].value_counts()",
      "execution_count": 6,
      "outputs": [
        {
          "output_type": "execute_result",
          "execution_count": 6,
          "data": {
            "text/plain": "male      577\nfemale    314\nName: Sex, dtype: int64"
          },
          "metadata": {}
        }
      ]
    },
    {
      "metadata": {
        "trusted": true,
        "_uuid": "dd550e7caeb9640d521794cf2294e353df88be58"
      },
      "cell_type": "code",
      "source": "df[\"Embarked\"].value_counts(True) # True correcponding to percentage",
      "execution_count": 7,
      "outputs": [
        {
          "output_type": "execute_result",
          "execution_count": 7,
          "data": {
            "text/plain": "S    0.724409\nC    0.188976\nQ    0.086614\nName: Embarked, dtype: float64"
          },
          "metadata": {}
        }
      ]
    },
    {
      "metadata": {
        "trusted": true,
        "_uuid": "f57d0b69e23b564c513016633b42ad9d21e8ace5"
      },
      "cell_type": "code",
      "source": "df_male = df[df[\"Sex\"] == \"male\"]\ndf_male",
      "execution_count": 8,
      "outputs": [
        {
          "output_type": "execute_result",
          "execution_count": 8,
          "data": {
            "text/plain": "     PassengerId  Survived  Pclass    ...         Fare        Cabin  Embarked\n0              1         0       3    ...       7.2500          NaN         S\n4              5         0       3    ...       8.0500          NaN         S\n5              6         0       3    ...       8.4583          NaN         Q\n6              7         0       1    ...      51.8625          E46         S\n7              8         0       3    ...      21.0750          NaN         S\n12            13         0       3    ...       8.0500          NaN         S\n13            14         0       3    ...      31.2750          NaN         S\n16            17         0       3    ...      29.1250          NaN         Q\n17            18         1       2    ...      13.0000          NaN         S\n20            21         0       2    ...      26.0000          NaN         S\n21            22         1       2    ...      13.0000          D56         S\n23            24         1       1    ...      35.5000           A6         S\n26            27         0       3    ...       7.2250          NaN         C\n27            28         0       1    ...     263.0000  C23 C25 C27         S\n29            30         0       3    ...       7.8958          NaN         S\n30            31         0       1    ...      27.7208          NaN         C\n33            34         0       2    ...      10.5000          NaN         S\n34            35         0       1    ...      82.1708          NaN         C\n35            36         0       1    ...      52.0000          NaN         S\n36            37         1       3    ...       7.2292          NaN         C\n37            38         0       3    ...       8.0500          NaN         S\n42            43         0       3    ...       7.8958          NaN         C\n45            46         0       3    ...       8.0500          NaN         S\n46            47         0       3    ...      15.5000          NaN         Q\n48            49         0       3    ...      21.6792          NaN         C\n50            51         0       3    ...      39.6875          NaN         S\n51            52         0       3    ...       7.8000          NaN         S\n54            55         0       1    ...      61.9792          B30         C\n55            56         1       1    ...      35.5000          C52         S\n57            58         0       3    ...       7.2292          NaN         C\n..           ...       ...     ...    ...          ...          ...       ...\n840          841         0       3    ...       7.9250          NaN         S\n841          842         0       2    ...      10.5000          NaN         S\n843          844         0       3    ...       6.4375          NaN         C\n844          845         0       3    ...       8.6625          NaN         S\n845          846         0       3    ...       7.5500          NaN         S\n846          847         0       3    ...      69.5500          NaN         S\n847          848         0       3    ...       7.8958          NaN         C\n848          849         0       2    ...      33.0000          NaN         S\n850          851         0       3    ...      31.2750          NaN         S\n851          852         0       3    ...       7.7750          NaN         S\n857          858         1       1    ...      26.5500          E17         S\n859          860         0       3    ...       7.2292          NaN         C\n860          861         0       3    ...      14.1083          NaN         S\n861          862         0       2    ...      11.5000          NaN         S\n864          865         0       2    ...      13.0000          NaN         S\n867          868         0       1    ...      50.4958          A24         S\n868          869         0       3    ...       9.5000          NaN         S\n869          870         1       3    ...      11.1333          NaN         S\n870          871         0       3    ...       7.8958          NaN         S\n872          873         0       1    ...       5.0000  B51 B53 B55         S\n873          874         0       3    ...       9.0000          NaN         S\n876          877         0       3    ...       9.8458          NaN         S\n877          878         0       3    ...       7.8958          NaN         S\n878          879         0       3    ...       7.8958          NaN         S\n881          882         0       3    ...       7.8958          NaN         S\n883          884         0       2    ...      10.5000          NaN         S\n884          885         0       3    ...       7.0500          NaN         S\n886          887         0       2    ...      13.0000          NaN         S\n889          890         1       1    ...      30.0000         C148         C\n890          891         0       3    ...       7.7500          NaN         Q\n\n[577 rows x 12 columns]",
            "text/html": "<div>\n<style scoped>\n    .dataframe tbody tr th:only-of-type {\n        vertical-align: middle;\n    }\n\n    .dataframe tbody tr th {\n        vertical-align: top;\n    }\n\n    .dataframe thead th {\n        text-align: right;\n    }\n</style>\n<table border=\"1\" class=\"dataframe\">\n  <thead>\n    <tr style=\"text-align: right;\">\n      <th></th>\n      <th>PassengerId</th>\n      <th>Survived</th>\n      <th>Pclass</th>\n      <th>Name</th>\n      <th>Sex</th>\n      <th>Age</th>\n      <th>SibSp</th>\n      <th>Parch</th>\n      <th>Ticket</th>\n      <th>Fare</th>\n      <th>Cabin</th>\n      <th>Embarked</th>\n    </tr>\n  </thead>\n  <tbody>\n    <tr>\n      <th>0</th>\n      <td>1</td>\n      <td>0</td>\n      <td>3</td>\n      <td>Braund, Mr. Owen Harris</td>\n      <td>male</td>\n      <td>22.0</td>\n      <td>1</td>\n      <td>0</td>\n      <td>A/5 21171</td>\n      <td>7.2500</td>\n      <td>NaN</td>\n      <td>S</td>\n    </tr>\n    <tr>\n      <th>4</th>\n      <td>5</td>\n      <td>0</td>\n      <td>3</td>\n      <td>Allen, Mr. William Henry</td>\n      <td>male</td>\n      <td>35.0</td>\n      <td>0</td>\n      <td>0</td>\n      <td>373450</td>\n      <td>8.0500</td>\n      <td>NaN</td>\n      <td>S</td>\n    </tr>\n    <tr>\n      <th>5</th>\n      <td>6</td>\n      <td>0</td>\n      <td>3</td>\n      <td>Moran, Mr. James</td>\n      <td>male</td>\n      <td>NaN</td>\n      <td>0</td>\n      <td>0</td>\n      <td>330877</td>\n      <td>8.4583</td>\n      <td>NaN</td>\n      <td>Q</td>\n    </tr>\n    <tr>\n      <th>6</th>\n      <td>7</td>\n      <td>0</td>\n      <td>1</td>\n      <td>McCarthy, Mr. Timothy J</td>\n      <td>male</td>\n      <td>54.0</td>\n      <td>0</td>\n      <td>0</td>\n      <td>17463</td>\n      <td>51.8625</td>\n      <td>E46</td>\n      <td>S</td>\n    </tr>\n    <tr>\n      <th>7</th>\n      <td>8</td>\n      <td>0</td>\n      <td>3</td>\n      <td>Palsson, Master. Gosta Leonard</td>\n      <td>male</td>\n      <td>2.0</td>\n      <td>3</td>\n      <td>1</td>\n      <td>349909</td>\n      <td>21.0750</td>\n      <td>NaN</td>\n      <td>S</td>\n    </tr>\n    <tr>\n      <th>12</th>\n      <td>13</td>\n      <td>0</td>\n      <td>3</td>\n      <td>Saundercock, Mr. William Henry</td>\n      <td>male</td>\n      <td>20.0</td>\n      <td>0</td>\n      <td>0</td>\n      <td>A/5. 2151</td>\n      <td>8.0500</td>\n      <td>NaN</td>\n      <td>S</td>\n    </tr>\n    <tr>\n      <th>13</th>\n      <td>14</td>\n      <td>0</td>\n      <td>3</td>\n      <td>Andersson, Mr. Anders Johan</td>\n      <td>male</td>\n      <td>39.0</td>\n      <td>1</td>\n      <td>5</td>\n      <td>347082</td>\n      <td>31.2750</td>\n      <td>NaN</td>\n      <td>S</td>\n    </tr>\n    <tr>\n      <th>16</th>\n      <td>17</td>\n      <td>0</td>\n      <td>3</td>\n      <td>Rice, Master. Eugene</td>\n      <td>male</td>\n      <td>2.0</td>\n      <td>4</td>\n      <td>1</td>\n      <td>382652</td>\n      <td>29.1250</td>\n      <td>NaN</td>\n      <td>Q</td>\n    </tr>\n    <tr>\n      <th>17</th>\n      <td>18</td>\n      <td>1</td>\n      <td>2</td>\n      <td>Williams, Mr. Charles Eugene</td>\n      <td>male</td>\n      <td>NaN</td>\n      <td>0</td>\n      <td>0</td>\n      <td>244373</td>\n      <td>13.0000</td>\n      <td>NaN</td>\n      <td>S</td>\n    </tr>\n    <tr>\n      <th>20</th>\n      <td>21</td>\n      <td>0</td>\n      <td>2</td>\n      <td>Fynney, Mr. Joseph J</td>\n      <td>male</td>\n      <td>35.0</td>\n      <td>0</td>\n      <td>0</td>\n      <td>239865</td>\n      <td>26.0000</td>\n      <td>NaN</td>\n      <td>S</td>\n    </tr>\n    <tr>\n      <th>21</th>\n      <td>22</td>\n      <td>1</td>\n      <td>2</td>\n      <td>Beesley, Mr. Lawrence</td>\n      <td>male</td>\n      <td>34.0</td>\n      <td>0</td>\n      <td>0</td>\n      <td>248698</td>\n      <td>13.0000</td>\n      <td>D56</td>\n      <td>S</td>\n    </tr>\n    <tr>\n      <th>23</th>\n      <td>24</td>\n      <td>1</td>\n      <td>1</td>\n      <td>Sloper, Mr. William Thompson</td>\n      <td>male</td>\n      <td>28.0</td>\n      <td>0</td>\n      <td>0</td>\n      <td>113788</td>\n      <td>35.5000</td>\n      <td>A6</td>\n      <td>S</td>\n    </tr>\n    <tr>\n      <th>26</th>\n      <td>27</td>\n      <td>0</td>\n      <td>3</td>\n      <td>Emir, Mr. Farred Chehab</td>\n      <td>male</td>\n      <td>NaN</td>\n      <td>0</td>\n      <td>0</td>\n      <td>2631</td>\n      <td>7.2250</td>\n      <td>NaN</td>\n      <td>C</td>\n    </tr>\n    <tr>\n      <th>27</th>\n      <td>28</td>\n      <td>0</td>\n      <td>1</td>\n      <td>Fortune, Mr. Charles Alexander</td>\n      <td>male</td>\n      <td>19.0</td>\n      <td>3</td>\n      <td>2</td>\n      <td>19950</td>\n      <td>263.0000</td>\n      <td>C23 C25 C27</td>\n      <td>S</td>\n    </tr>\n    <tr>\n      <th>29</th>\n      <td>30</td>\n      <td>0</td>\n      <td>3</td>\n      <td>Todoroff, Mr. Lalio</td>\n      <td>male</td>\n      <td>NaN</td>\n      <td>0</td>\n      <td>0</td>\n      <td>349216</td>\n      <td>7.8958</td>\n      <td>NaN</td>\n      <td>S</td>\n    </tr>\n    <tr>\n      <th>30</th>\n      <td>31</td>\n      <td>0</td>\n      <td>1</td>\n      <td>Uruchurtu, Don. Manuel E</td>\n      <td>male</td>\n      <td>40.0</td>\n      <td>0</td>\n      <td>0</td>\n      <td>PC 17601</td>\n      <td>27.7208</td>\n      <td>NaN</td>\n      <td>C</td>\n    </tr>\n    <tr>\n      <th>33</th>\n      <td>34</td>\n      <td>0</td>\n      <td>2</td>\n      <td>Wheadon, Mr. Edward H</td>\n      <td>male</td>\n      <td>66.0</td>\n      <td>0</td>\n      <td>0</td>\n      <td>C.A. 24579</td>\n      <td>10.5000</td>\n      <td>NaN</td>\n      <td>S</td>\n    </tr>\n    <tr>\n      <th>34</th>\n      <td>35</td>\n      <td>0</td>\n      <td>1</td>\n      <td>Meyer, Mr. Edgar Joseph</td>\n      <td>male</td>\n      <td>28.0</td>\n      <td>1</td>\n      <td>0</td>\n      <td>PC 17604</td>\n      <td>82.1708</td>\n      <td>NaN</td>\n      <td>C</td>\n    </tr>\n    <tr>\n      <th>35</th>\n      <td>36</td>\n      <td>0</td>\n      <td>1</td>\n      <td>Holverson, Mr. Alexander Oskar</td>\n      <td>male</td>\n      <td>42.0</td>\n      <td>1</td>\n      <td>0</td>\n      <td>113789</td>\n      <td>52.0000</td>\n      <td>NaN</td>\n      <td>S</td>\n    </tr>\n    <tr>\n      <th>36</th>\n      <td>37</td>\n      <td>1</td>\n      <td>3</td>\n      <td>Mamee, Mr. Hanna</td>\n      <td>male</td>\n      <td>NaN</td>\n      <td>0</td>\n      <td>0</td>\n      <td>2677</td>\n      <td>7.2292</td>\n      <td>NaN</td>\n      <td>C</td>\n    </tr>\n    <tr>\n      <th>37</th>\n      <td>38</td>\n      <td>0</td>\n      <td>3</td>\n      <td>Cann, Mr. Ernest Charles</td>\n      <td>male</td>\n      <td>21.0</td>\n      <td>0</td>\n      <td>0</td>\n      <td>A./5. 2152</td>\n      <td>8.0500</td>\n      <td>NaN</td>\n      <td>S</td>\n    </tr>\n    <tr>\n      <th>42</th>\n      <td>43</td>\n      <td>0</td>\n      <td>3</td>\n      <td>Kraeff, Mr. Theodor</td>\n      <td>male</td>\n      <td>NaN</td>\n      <td>0</td>\n      <td>0</td>\n      <td>349253</td>\n      <td>7.8958</td>\n      <td>NaN</td>\n      <td>C</td>\n    </tr>\n    <tr>\n      <th>45</th>\n      <td>46</td>\n      <td>0</td>\n      <td>3</td>\n      <td>Rogers, Mr. William John</td>\n      <td>male</td>\n      <td>NaN</td>\n      <td>0</td>\n      <td>0</td>\n      <td>S.C./A.4. 23567</td>\n      <td>8.0500</td>\n      <td>NaN</td>\n      <td>S</td>\n    </tr>\n    <tr>\n      <th>46</th>\n      <td>47</td>\n      <td>0</td>\n      <td>3</td>\n      <td>Lennon, Mr. Denis</td>\n      <td>male</td>\n      <td>NaN</td>\n      <td>1</td>\n      <td>0</td>\n      <td>370371</td>\n      <td>15.5000</td>\n      <td>NaN</td>\n      <td>Q</td>\n    </tr>\n    <tr>\n      <th>48</th>\n      <td>49</td>\n      <td>0</td>\n      <td>3</td>\n      <td>Samaan, Mr. Youssef</td>\n      <td>male</td>\n      <td>NaN</td>\n      <td>2</td>\n      <td>0</td>\n      <td>2662</td>\n      <td>21.6792</td>\n      <td>NaN</td>\n      <td>C</td>\n    </tr>\n    <tr>\n      <th>50</th>\n      <td>51</td>\n      <td>0</td>\n      <td>3</td>\n      <td>Panula, Master. Juha Niilo</td>\n      <td>male</td>\n      <td>7.0</td>\n      <td>4</td>\n      <td>1</td>\n      <td>3101295</td>\n      <td>39.6875</td>\n      <td>NaN</td>\n      <td>S</td>\n    </tr>\n    <tr>\n      <th>51</th>\n      <td>52</td>\n      <td>0</td>\n      <td>3</td>\n      <td>Nosworthy, Mr. Richard Cater</td>\n      <td>male</td>\n      <td>21.0</td>\n      <td>0</td>\n      <td>0</td>\n      <td>A/4. 39886</td>\n      <td>7.8000</td>\n      <td>NaN</td>\n      <td>S</td>\n    </tr>\n    <tr>\n      <th>54</th>\n      <td>55</td>\n      <td>0</td>\n      <td>1</td>\n      <td>Ostby, Mr. Engelhart Cornelius</td>\n      <td>male</td>\n      <td>65.0</td>\n      <td>0</td>\n      <td>1</td>\n      <td>113509</td>\n      <td>61.9792</td>\n      <td>B30</td>\n      <td>C</td>\n    </tr>\n    <tr>\n      <th>55</th>\n      <td>56</td>\n      <td>1</td>\n      <td>1</td>\n      <td>Woolner, Mr. Hugh</td>\n      <td>male</td>\n      <td>NaN</td>\n      <td>0</td>\n      <td>0</td>\n      <td>19947</td>\n      <td>35.5000</td>\n      <td>C52</td>\n      <td>S</td>\n    </tr>\n    <tr>\n      <th>57</th>\n      <td>58</td>\n      <td>0</td>\n      <td>3</td>\n      <td>Novel, Mr. Mansouer</td>\n      <td>male</td>\n      <td>28.5</td>\n      <td>0</td>\n      <td>0</td>\n      <td>2697</td>\n      <td>7.2292</td>\n      <td>NaN</td>\n      <td>C</td>\n    </tr>\n    <tr>\n      <th>...</th>\n      <td>...</td>\n      <td>...</td>\n      <td>...</td>\n      <td>...</td>\n      <td>...</td>\n      <td>...</td>\n      <td>...</td>\n      <td>...</td>\n      <td>...</td>\n      <td>...</td>\n      <td>...</td>\n      <td>...</td>\n    </tr>\n    <tr>\n      <th>840</th>\n      <td>841</td>\n      <td>0</td>\n      <td>3</td>\n      <td>Alhomaki, Mr. Ilmari Rudolf</td>\n      <td>male</td>\n      <td>20.0</td>\n      <td>0</td>\n      <td>0</td>\n      <td>SOTON/O2 3101287</td>\n      <td>7.9250</td>\n      <td>NaN</td>\n      <td>S</td>\n    </tr>\n    <tr>\n      <th>841</th>\n      <td>842</td>\n      <td>0</td>\n      <td>2</td>\n      <td>Mudd, Mr. Thomas Charles</td>\n      <td>male</td>\n      <td>16.0</td>\n      <td>0</td>\n      <td>0</td>\n      <td>S.O./P.P. 3</td>\n      <td>10.5000</td>\n      <td>NaN</td>\n      <td>S</td>\n    </tr>\n    <tr>\n      <th>843</th>\n      <td>844</td>\n      <td>0</td>\n      <td>3</td>\n      <td>Lemberopolous, Mr. Peter L</td>\n      <td>male</td>\n      <td>34.5</td>\n      <td>0</td>\n      <td>0</td>\n      <td>2683</td>\n      <td>6.4375</td>\n      <td>NaN</td>\n      <td>C</td>\n    </tr>\n    <tr>\n      <th>844</th>\n      <td>845</td>\n      <td>0</td>\n      <td>3</td>\n      <td>Culumovic, Mr. Jeso</td>\n      <td>male</td>\n      <td>17.0</td>\n      <td>0</td>\n      <td>0</td>\n      <td>315090</td>\n      <td>8.6625</td>\n      <td>NaN</td>\n      <td>S</td>\n    </tr>\n    <tr>\n      <th>845</th>\n      <td>846</td>\n      <td>0</td>\n      <td>3</td>\n      <td>Abbing, Mr. Anthony</td>\n      <td>male</td>\n      <td>42.0</td>\n      <td>0</td>\n      <td>0</td>\n      <td>C.A. 5547</td>\n      <td>7.5500</td>\n      <td>NaN</td>\n      <td>S</td>\n    </tr>\n    <tr>\n      <th>846</th>\n      <td>847</td>\n      <td>0</td>\n      <td>3</td>\n      <td>Sage, Mr. Douglas Bullen</td>\n      <td>male</td>\n      <td>NaN</td>\n      <td>8</td>\n      <td>2</td>\n      <td>CA. 2343</td>\n      <td>69.5500</td>\n      <td>NaN</td>\n      <td>S</td>\n    </tr>\n    <tr>\n      <th>847</th>\n      <td>848</td>\n      <td>0</td>\n      <td>3</td>\n      <td>Markoff, Mr. Marin</td>\n      <td>male</td>\n      <td>35.0</td>\n      <td>0</td>\n      <td>0</td>\n      <td>349213</td>\n      <td>7.8958</td>\n      <td>NaN</td>\n      <td>C</td>\n    </tr>\n    <tr>\n      <th>848</th>\n      <td>849</td>\n      <td>0</td>\n      <td>2</td>\n      <td>Harper, Rev. John</td>\n      <td>male</td>\n      <td>28.0</td>\n      <td>0</td>\n      <td>1</td>\n      <td>248727</td>\n      <td>33.0000</td>\n      <td>NaN</td>\n      <td>S</td>\n    </tr>\n    <tr>\n      <th>850</th>\n      <td>851</td>\n      <td>0</td>\n      <td>3</td>\n      <td>Andersson, Master. Sigvard Harald Elias</td>\n      <td>male</td>\n      <td>4.0</td>\n      <td>4</td>\n      <td>2</td>\n      <td>347082</td>\n      <td>31.2750</td>\n      <td>NaN</td>\n      <td>S</td>\n    </tr>\n    <tr>\n      <th>851</th>\n      <td>852</td>\n      <td>0</td>\n      <td>3</td>\n      <td>Svensson, Mr. Johan</td>\n      <td>male</td>\n      <td>74.0</td>\n      <td>0</td>\n      <td>0</td>\n      <td>347060</td>\n      <td>7.7750</td>\n      <td>NaN</td>\n      <td>S</td>\n    </tr>\n    <tr>\n      <th>857</th>\n      <td>858</td>\n      <td>1</td>\n      <td>1</td>\n      <td>Daly, Mr. Peter Denis</td>\n      <td>male</td>\n      <td>51.0</td>\n      <td>0</td>\n      <td>0</td>\n      <td>113055</td>\n      <td>26.5500</td>\n      <td>E17</td>\n      <td>S</td>\n    </tr>\n    <tr>\n      <th>859</th>\n      <td>860</td>\n      <td>0</td>\n      <td>3</td>\n      <td>Razi, Mr. Raihed</td>\n      <td>male</td>\n      <td>NaN</td>\n      <td>0</td>\n      <td>0</td>\n      <td>2629</td>\n      <td>7.2292</td>\n      <td>NaN</td>\n      <td>C</td>\n    </tr>\n    <tr>\n      <th>860</th>\n      <td>861</td>\n      <td>0</td>\n      <td>3</td>\n      <td>Hansen, Mr. Claus Peter</td>\n      <td>male</td>\n      <td>41.0</td>\n      <td>2</td>\n      <td>0</td>\n      <td>350026</td>\n      <td>14.1083</td>\n      <td>NaN</td>\n      <td>S</td>\n    </tr>\n    <tr>\n      <th>861</th>\n      <td>862</td>\n      <td>0</td>\n      <td>2</td>\n      <td>Giles, Mr. Frederick Edward</td>\n      <td>male</td>\n      <td>21.0</td>\n      <td>1</td>\n      <td>0</td>\n      <td>28134</td>\n      <td>11.5000</td>\n      <td>NaN</td>\n      <td>S</td>\n    </tr>\n    <tr>\n      <th>864</th>\n      <td>865</td>\n      <td>0</td>\n      <td>2</td>\n      <td>Gill, Mr. John William</td>\n      <td>male</td>\n      <td>24.0</td>\n      <td>0</td>\n      <td>0</td>\n      <td>233866</td>\n      <td>13.0000</td>\n      <td>NaN</td>\n      <td>S</td>\n    </tr>\n    <tr>\n      <th>867</th>\n      <td>868</td>\n      <td>0</td>\n      <td>1</td>\n      <td>Roebling, Mr. Washington Augustus II</td>\n      <td>male</td>\n      <td>31.0</td>\n      <td>0</td>\n      <td>0</td>\n      <td>PC 17590</td>\n      <td>50.4958</td>\n      <td>A24</td>\n      <td>S</td>\n    </tr>\n    <tr>\n      <th>868</th>\n      <td>869</td>\n      <td>0</td>\n      <td>3</td>\n      <td>van Melkebeke, Mr. Philemon</td>\n      <td>male</td>\n      <td>NaN</td>\n      <td>0</td>\n      <td>0</td>\n      <td>345777</td>\n      <td>9.5000</td>\n      <td>NaN</td>\n      <td>S</td>\n    </tr>\n    <tr>\n      <th>869</th>\n      <td>870</td>\n      <td>1</td>\n      <td>3</td>\n      <td>Johnson, Master. Harold Theodor</td>\n      <td>male</td>\n      <td>4.0</td>\n      <td>1</td>\n      <td>1</td>\n      <td>347742</td>\n      <td>11.1333</td>\n      <td>NaN</td>\n      <td>S</td>\n    </tr>\n    <tr>\n      <th>870</th>\n      <td>871</td>\n      <td>0</td>\n      <td>3</td>\n      <td>Balkic, Mr. Cerin</td>\n      <td>male</td>\n      <td>26.0</td>\n      <td>0</td>\n      <td>0</td>\n      <td>349248</td>\n      <td>7.8958</td>\n      <td>NaN</td>\n      <td>S</td>\n    </tr>\n    <tr>\n      <th>872</th>\n      <td>873</td>\n      <td>0</td>\n      <td>1</td>\n      <td>Carlsson, Mr. Frans Olof</td>\n      <td>male</td>\n      <td>33.0</td>\n      <td>0</td>\n      <td>0</td>\n      <td>695</td>\n      <td>5.0000</td>\n      <td>B51 B53 B55</td>\n      <td>S</td>\n    </tr>\n    <tr>\n      <th>873</th>\n      <td>874</td>\n      <td>0</td>\n      <td>3</td>\n      <td>Vander Cruyssen, Mr. Victor</td>\n      <td>male</td>\n      <td>47.0</td>\n      <td>0</td>\n      <td>0</td>\n      <td>345765</td>\n      <td>9.0000</td>\n      <td>NaN</td>\n      <td>S</td>\n    </tr>\n    <tr>\n      <th>876</th>\n      <td>877</td>\n      <td>0</td>\n      <td>3</td>\n      <td>Gustafsson, Mr. Alfred Ossian</td>\n      <td>male</td>\n      <td>20.0</td>\n      <td>0</td>\n      <td>0</td>\n      <td>7534</td>\n      <td>9.8458</td>\n      <td>NaN</td>\n      <td>S</td>\n    </tr>\n    <tr>\n      <th>877</th>\n      <td>878</td>\n      <td>0</td>\n      <td>3</td>\n      <td>Petroff, Mr. Nedelio</td>\n      <td>male</td>\n      <td>19.0</td>\n      <td>0</td>\n      <td>0</td>\n      <td>349212</td>\n      <td>7.8958</td>\n      <td>NaN</td>\n      <td>S</td>\n    </tr>\n    <tr>\n      <th>878</th>\n      <td>879</td>\n      <td>0</td>\n      <td>3</td>\n      <td>Laleff, Mr. Kristo</td>\n      <td>male</td>\n      <td>NaN</td>\n      <td>0</td>\n      <td>0</td>\n      <td>349217</td>\n      <td>7.8958</td>\n      <td>NaN</td>\n      <td>S</td>\n    </tr>\n    <tr>\n      <th>881</th>\n      <td>882</td>\n      <td>0</td>\n      <td>3</td>\n      <td>Markun, Mr. Johann</td>\n      <td>male</td>\n      <td>33.0</td>\n      <td>0</td>\n      <td>0</td>\n      <td>349257</td>\n      <td>7.8958</td>\n      <td>NaN</td>\n      <td>S</td>\n    </tr>\n    <tr>\n      <th>883</th>\n      <td>884</td>\n      <td>0</td>\n      <td>2</td>\n      <td>Banfield, Mr. Frederick James</td>\n      <td>male</td>\n      <td>28.0</td>\n      <td>0</td>\n      <td>0</td>\n      <td>C.A./SOTON 34068</td>\n      <td>10.5000</td>\n      <td>NaN</td>\n      <td>S</td>\n    </tr>\n    <tr>\n      <th>884</th>\n      <td>885</td>\n      <td>0</td>\n      <td>3</td>\n      <td>Sutehall, Mr. Henry Jr</td>\n      <td>male</td>\n      <td>25.0</td>\n      <td>0</td>\n      <td>0</td>\n      <td>SOTON/OQ 392076</td>\n      <td>7.0500</td>\n      <td>NaN</td>\n      <td>S</td>\n    </tr>\n    <tr>\n      <th>886</th>\n      <td>887</td>\n      <td>0</td>\n      <td>2</td>\n      <td>Montvila, Rev. Juozas</td>\n      <td>male</td>\n      <td>27.0</td>\n      <td>0</td>\n      <td>0</td>\n      <td>211536</td>\n      <td>13.0000</td>\n      <td>NaN</td>\n      <td>S</td>\n    </tr>\n    <tr>\n      <th>889</th>\n      <td>890</td>\n      <td>1</td>\n      <td>1</td>\n      <td>Behr, Mr. Karl Howell</td>\n      <td>male</td>\n      <td>26.0</td>\n      <td>0</td>\n      <td>0</td>\n      <td>111369</td>\n      <td>30.0000</td>\n      <td>C148</td>\n      <td>C</td>\n    </tr>\n    <tr>\n      <th>890</th>\n      <td>891</td>\n      <td>0</td>\n      <td>3</td>\n      <td>Dooley, Mr. Patrick</td>\n      <td>male</td>\n      <td>32.0</td>\n      <td>0</td>\n      <td>0</td>\n      <td>370376</td>\n      <td>7.7500</td>\n      <td>NaN</td>\n      <td>Q</td>\n    </tr>\n  </tbody>\n</table>\n<p>577 rows × 12 columns</p>\n</div>"
          },
          "metadata": {}
        }
      ]
    },
    {
      "metadata": {
        "trusted": true,
        "_uuid": "689f60053a4d9312a22391b2bf4daf2d76c4da3b"
      },
      "cell_type": "code",
      "source": "df[\"Age\"].min()",
      "execution_count": 9,
      "outputs": [
        {
          "output_type": "execute_result",
          "execution_count": 9,
          "data": {
            "text/plain": "0.42"
          },
          "metadata": {}
        }
      ]
    },
    {
      "metadata": {
        "trusted": true,
        "_uuid": "d893393e58d53445fa27d33057a990aad1323e0d"
      },
      "cell_type": "code",
      "source": "df[\"Age\"].max()",
      "execution_count": 10,
      "outputs": [
        {
          "output_type": "execute_result",
          "execution_count": 10,
          "data": {
            "text/plain": "80.0"
          },
          "metadata": {}
        }
      ]
    },
    {
      "metadata": {
        "trusted": true,
        "_uuid": "09b8900d544a039f44b4c5f2ea2d15fbcbfb1a7b"
      },
      "cell_type": "code",
      "source": "# checking two conditions\ndf[(df[\"Sex\"] == \"female\") & (df[\"Age\"] <= 40)].head()",
      "execution_count": 23,
      "outputs": [
        {
          "output_type": "execute_result",
          "execution_count": 23,
          "data": {
            "text/plain": "   PassengerId  Survived  Pclass    ...        Fare Cabin  Embarked\n1            2         1       1    ...     71.2833   C85         C\n2            3         1       3    ...      7.9250   NaN         S\n3            4         1       1    ...     53.1000  C123         S\n8            9         1       3    ...     11.1333   NaN         S\n9           10         1       2    ...     30.0708   NaN         C\n\n[5 rows x 12 columns]",
            "text/html": "<div>\n<style scoped>\n    .dataframe tbody tr th:only-of-type {\n        vertical-align: middle;\n    }\n\n    .dataframe tbody tr th {\n        vertical-align: top;\n    }\n\n    .dataframe thead th {\n        text-align: right;\n    }\n</style>\n<table border=\"1\" class=\"dataframe\">\n  <thead>\n    <tr style=\"text-align: right;\">\n      <th></th>\n      <th>PassengerId</th>\n      <th>Survived</th>\n      <th>Pclass</th>\n      <th>Name</th>\n      <th>Sex</th>\n      <th>Age</th>\n      <th>SibSp</th>\n      <th>Parch</th>\n      <th>Ticket</th>\n      <th>Fare</th>\n      <th>Cabin</th>\n      <th>Embarked</th>\n    </tr>\n  </thead>\n  <tbody>\n    <tr>\n      <th>1</th>\n      <td>2</td>\n      <td>1</td>\n      <td>1</td>\n      <td>Cumings, Mrs. John Bradley (Florence Briggs Th...</td>\n      <td>female</td>\n      <td>38.0</td>\n      <td>1</td>\n      <td>0</td>\n      <td>PC 17599</td>\n      <td>71.2833</td>\n      <td>C85</td>\n      <td>C</td>\n    </tr>\n    <tr>\n      <th>2</th>\n      <td>3</td>\n      <td>1</td>\n      <td>3</td>\n      <td>Heikkinen, Miss. Laina</td>\n      <td>female</td>\n      <td>26.0</td>\n      <td>0</td>\n      <td>0</td>\n      <td>STON/O2. 3101282</td>\n      <td>7.9250</td>\n      <td>NaN</td>\n      <td>S</td>\n    </tr>\n    <tr>\n      <th>3</th>\n      <td>4</td>\n      <td>1</td>\n      <td>1</td>\n      <td>Futrelle, Mrs. Jacques Heath (Lily May Peel)</td>\n      <td>female</td>\n      <td>35.0</td>\n      <td>1</td>\n      <td>0</td>\n      <td>113803</td>\n      <td>53.1000</td>\n      <td>C123</td>\n      <td>S</td>\n    </tr>\n    <tr>\n      <th>8</th>\n      <td>9</td>\n      <td>1</td>\n      <td>3</td>\n      <td>Johnson, Mrs. Oscar W (Elisabeth Vilhelmina Berg)</td>\n      <td>female</td>\n      <td>27.0</td>\n      <td>0</td>\n      <td>2</td>\n      <td>347742</td>\n      <td>11.1333</td>\n      <td>NaN</td>\n      <td>S</td>\n    </tr>\n    <tr>\n      <th>9</th>\n      <td>10</td>\n      <td>1</td>\n      <td>2</td>\n      <td>Nasser, Mrs. Nicholas (Adele Achem)</td>\n      <td>female</td>\n      <td>14.0</td>\n      <td>1</td>\n      <td>0</td>\n      <td>237736</td>\n      <td>30.0708</td>\n      <td>NaN</td>\n      <td>C</td>\n    </tr>\n  </tbody>\n</table>\n</div>"
          },
          "metadata": {}
        }
      ]
    },
    {
      "metadata": {
        "trusted": true,
        "_uuid": "b7270128dc052729a04ec10c222031fba209236b"
      },
      "cell_type": "code",
      "source": "male_df = df[(df[\"Sex\"] == \"male\")]\nfemale_df = df[(df[\"Sex\"] == \"female\")]\n\nprint(male_df.head())\nprint(female_df.head())",
      "execution_count": 24,
      "outputs": [
        {
          "output_type": "stream",
          "text": "   PassengerId  Survived  Pclass    ...        Fare Cabin  Embarked\n0            1         0       3    ...      7.2500   NaN         S\n4            5         0       3    ...      8.0500   NaN         S\n5            6         0       3    ...      8.4583   NaN         Q\n6            7         0       1    ...     51.8625   E46         S\n7            8         0       3    ...     21.0750   NaN         S\n\n[5 rows x 12 columns]\n   PassengerId  Survived  Pclass    ...        Fare Cabin  Embarked\n1            2         1       1    ...     71.2833   C85         C\n2            3         1       3    ...      7.9250   NaN         S\n3            4         1       1    ...     53.1000  C123         S\n8            9         1       3    ...     11.1333   NaN         S\n9           10         1       2    ...     30.0708   NaN         C\n\n[5 rows x 12 columns]\n",
          "name": "stdout"
        }
      ]
    },
    {
      "metadata": {
        "trusted": true,
        "_uuid": "911ad72230b40881c8564b718e9b654b58cb17f1"
      },
      "cell_type": "code",
      "source": "# Assignment\nprint(\"Mean, max and min of MALE passengers :\")\nprint( male_df[\"Age\"].describe().loc[['mean','max','min']])\n\nprint(\"\\nMean, max and min of FEMALE passengers :\")\nprint( female_df[\"Age\"].describe().loc[['mean','max','min']])",
      "execution_count": 39,
      "outputs": [
        {
          "output_type": "stream",
          "text": "Mean, max and min of MALE passengers :\nmean    30.726645\nmax     80.000000\nmin      0.420000\nName: Age, dtype: float64\n\nMean, max and min of FEMALE passengers :\nmean    27.915709\nmax     63.000000\nmin      0.750000\nName: Age, dtype: float64\n",
          "name": "stdout"
        }
      ]
    },
    {
      "metadata": {
        "trusted": true,
        "_uuid": "5f69eb6681b84f96990d91a9c76d909faac839a2"
      },
      "cell_type": "code",
      "source": "print(\"\\nNo of MALE passengers in each Pclass:\")\nprint(male_df[\"Pclass\"].value_counts())\n\nprint(\"\\nNo of FEMALE passengers in each Pclass:\")\nprint(female_df[\"Pclass\"].value_counts())",
      "execution_count": 55,
      "outputs": [
        {
          "output_type": "stream",
          "text": "\nNo of MALE passengers in each Pclass:\n3    347\n1    122\n2    108\nName: Pclass, dtype: int64\n\nNo of FEMALE passengers in each Pclass:\n3    144\n1     94\n2     76\nName: Pclass, dtype: int64\n",
          "name": "stdout"
        }
      ]
    },
    {
      "metadata": {
        "trusted": true,
        "_uuid": "b4138f6cb6a7f35acbf0edebae0d4956d100c08b"
      },
      "cell_type": "code",
      "source": "",
      "execution_count": null,
      "outputs": []
    }
  ],
  "metadata": {
    "kernelspec": {
      "display_name": "Python 3",
      "language": "python",
      "name": "python3"
    },
    "language_info": {
      "name": "python",
      "version": "3.6.6",
      "mimetype": "text/x-python",
      "codemirror_mode": {
        "name": "ipython",
        "version": 3
      },
      "pygments_lexer": "ipython3",
      "nbconvert_exporter": "python",
      "file_extension": ".py"
    }
  },
  "nbformat": 4,
  "nbformat_minor": 1
}