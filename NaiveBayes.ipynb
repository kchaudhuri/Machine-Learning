{
 "cells": [
  {
   "cell_type": "code",
   "execution_count": 4,
   "metadata": {},
   "outputs": [
    {
     "ename": "SyntaxError",
     "evalue": "invalid syntax (<ipython-input-4-1d645cbf7797>, line 8)",
     "output_type": "error",
     "traceback": [
      "\u001b[1;36m  File \u001b[1;32m\"<ipython-input-4-1d645cbf7797>\"\u001b[1;36m, line \u001b[1;32m8\u001b[0m\n\u001b[1;33m    processEmail(email.body , email.label):\u001b[0m\n\u001b[1;37m                                           ^\u001b[0m\n\u001b[1;31mSyntaxError\u001b[0m\u001b[1;31m:\u001b[0m invalid syntax\n"
     ]
    }
   ],
   "source": [
    "def train():\n",
    "    total = 0\n",
    "    numSpam = 0\n",
    "    for email in trainData:\n",
    "        if email.label == SPAM :\n",
    "            numSpam +=1\n",
    "        total += 1\n",
    "        processEmail(email.body , email.label):\n",
    "    pA = numSpam/float(total)\n",
    "    pNotA = (total - numSpam)/float(total)\n"
   ]
  },
  {
   "cell_type": "code",
   "execution_count": 5,
   "metadata": {},
   "outputs": [
    {
     "ename": "SyntaxError",
     "evalue": "invalid syntax (<ipython-input-5-221b5a0801f0>, line 3)",
     "output_type": "error",
     "traceback": [
      "\u001b[1;36m  File \u001b[1;32m\"<ipython-input-5-221b5a0801f0>\"\u001b[1;36m, line \u001b[1;32m3\u001b[0m\n\u001b[1;33m    if label == SPAM\u001b[0m\n\u001b[1;37m                    ^\u001b[0m\n\u001b[1;31mSyntaxError\u001b[0m\u001b[1;31m:\u001b[0m invalid syntax\n"
     ]
    }
   ],
   "source": [
    "def processEmail(body , label):\n",
    "    for word in body:\n",
    "        if label == SPAM\n",
    "           trainPositive[word] = trainPositive.get(word, 0) + 1\n",
    "            positiveTotal += 1\n",
    "        else\n",
    "          trainNegative[word] = trainNegative.get(word, 0) + 1\n",
    "            negativeTotal += 1\n"
   ]
  },
  {
   "cell_type": "code",
   "execution_count": 7,
   "metadata": {},
   "outputs": [],
   "source": [
    "def conditionalEmail(body , spam) :\n",
    "    result =1.0\n",
    "    for word in body:\n",
    "        result *= conditionalWord(body , spam)\n",
    "    return result\n"
   ]
  },
  {
   "cell_type": "code",
   "execution_count": 8,
   "metadata": {},
   "outputs": [],
   "source": [
    "def classify(email):\n",
    "    isSpam = pA * conditionalEmail(email, True) # P (A | B)\n",
    "    notSpam = pNotA * conditionalEmail(email, False) # P(Â¬A | B)\n",
    "    return isSpam > notSpam"
   ]
  },
  {
   "cell_type": "code",
   "execution_count": 9,
   "metadata": {},
   "outputs": [],
   "source": [
    "def conditionalWord(word, spam):\n",
    "    if spam:\n",
    "        return (trainPositive.get(word,0)+alpha)/(float)(positiveTotal+alpha*numWords)\n",
    "    return (trainNegative.get(word,0)+alpha)/(float)(negativeTotal+alpha*numWords)\n"
   ]
  },
  {
   "cell_type": "code",
   "execution_count": null,
   "metadata": {},
   "outputs": [],
   "source": []
  }
 ],
 "metadata": {
  "kernelspec": {
   "display_name": "Python 3",
   "language": "python",
   "name": "python3"
  },
  "language_info": {
   "codemirror_mode": {
    "name": "ipython",
    "version": 3
   },
   "file_extension": ".py",
   "mimetype": "text/x-python",
   "name": "python",
   "nbconvert_exporter": "python",
   "pygments_lexer": "ipython3",
   "version": "3.6.4"
  }
 },
 "nbformat": 4,
 "nbformat_minor": 2
}
