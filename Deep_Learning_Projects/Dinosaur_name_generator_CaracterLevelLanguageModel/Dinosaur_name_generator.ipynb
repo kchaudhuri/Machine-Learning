{
 "cells": [
  {
   "cell_type": "code",
   "execution_count": 3,
   "metadata": {},
   "outputs": [],
   "source": [
    "import numpy as np\n",
    "import random\n",
    "import json"
   ]
  },
  {
   "cell_type": "code",
   "execution_count": 5,
   "metadata": {},
   "outputs": [
    {
     "name": "stdout",
     "output_type": "stream",
     "text": [
      "{'description': 'A list of dinosaurs.', 'dinosaurs': ['Kangnasaurus', 'Lophostropheus', 'Spinophorosaurus', 'Epachthosaurus', 'Coelurosauria', 'Lycorhinus', 'Adasaurus', 'Draconyx', 'Ceratops', 'Lagerpeton', 'Qiaowanlong', 'Rhynchosaur', 'Ningyuansaurus', 'Palaeolimnornis', 'Anabisetia', 'Talarurus', 'Sphenodontia', 'Tianyulong', 'Aepisaurus', 'Neuquenraptor', 'Galesaurus', 'Pachysuchus', 'Auroraceratops', 'Hecatasaurus', 'Barapasaurus', 'Asiatosaurus', 'Daanosaurus', 'Luoyanggia', 'Eobrontosaurus', 'Wellnhoferia', 'Zuolong', 'Tenchisaurus', 'Centrosaurus', 'Falcarius', 'Ojoraptorsaurus', 'Lufengocephalus', 'Vulcanodon', 'Mollusc', 'Shunosaurus', 'Empaterias', 'Issasaurus', 'Jiangxisaurus', 'Laplatasaurus', 'Aublysodon', 'Embasaurus', 'Blikanasaurus', 'Bonapartenykus', 'Asiamericana', 'Arizonasaurus', 'Cryptoraptor', 'Morosaurus', 'Mapusaurus', 'Buitreraptor', 'Gravitholus', 'Vitakrisaurus', 'Nurosaurus', 'Cetiosauriscus', 'Kukufeldia', 'Propanoplosaurus', 'Suchoprion', 'Umarsaurus', 'Likhoelesaurus', 'Dasygnathoides', 'Dubreuillosaurus', 'Shenzhouraptor', 'Atrociraptor', 'Amurosaurus', 'Latirhinus', 'Albisaurus', 'Zupaysaurus', 'Venenosaurus', 'Syrmosaurus', 'Arkharavia', 'Yueosaurus', 'Tianchungosaurus', 'Dyslocosaurus', 'Sinraptor', 'Owenodon', 'Pelycosaur', 'Duriavenator', 'Haplocheirus', 'Epidendrosaurus', 'Nyasasaurus', 'Tawasaurus', 'Lisboasaurus', 'Ahshislepelta', 'Magnirostris', 'Psittacosaurus', 'Orodromeus', 'Ostafrikasaurus', 'Nemegtomaia', 'Dracorex', 'Ovoraptor', 'Amazonsaurus', 'Leyesaurus', 'Dollodon', 'Cryptosaurus', 'Coahuilaceratops', 'Variraptor', 'Panamericansaurus', 'Nodocephalosaurus', 'Nasutoceratops', 'Prosaurolophus', 'Jingshanosaurus', 'Teleocrater', 'Tribelesodon', 'Mochlodon', 'Eohadrosaurus', 'Comanchesaurus', 'Limnornis', 'Gigantspinosaurus', 'Oxalaia', 'Wuerhosaurus', 'Mtapaiasaurus', 'Longisquama', 'Velocisaurus', 'Aorun', 'Sinopliosaurus', 'Gigantosaurus', 'Sphenospondylus', 'Dinotyrannus', 'Rhabdodon', 'Kritosaurus', 'Lamplughsaura', 'Notohypsilophodon', 'Tsagantegia', 'Brontoraptor', 'Argyrosaurus', 'Lambeosaurus', 'Heterosaurus', 'Tazoudasaurus', 'Valdoraptor', 'Microhadrosaurus', 'Pycnonemosaurus', 'Manidens', 'Coelophysis', 'Hulsanpes', 'Losillasaurus', 'Polacanthoides', 'Lanzhousaurus', 'Walgettosuchus', 'Sauroniops', 'Magulodon', 'Pneumatoraptor', 'Altispinax', 'Alnashetri', 'Hoplitosaurus', 'Rahiolisaurus', 'Luanpingosaurus', 'Abrosaurus', 'Palaeosaurus', 'Iguanoides', 'Abydosaurus', 'Riodevasaurus', 'Stormbergia', 'Bihariosaurus', 'Yuanmousaurus', 'Sphenosuchus', 'Dashanpusaurus', 'Crocodilia', 'Enigmosaurus', 'Montanoceratops', 'Frenguellisaurus', 'Segnosaurus', 'Kryptops', 'Labocania', 'Sinocalliopteryx', 'Dromiceiomimus', 'Isisaurus', 'Archaeornithoides', 'Deinonychus', 'Allosaurus', 'Stephanosaurus', 'Sinornithoides', 'Incisivosaurus', 'Ornitholestes', 'Ankylosaurus', 'Plateosaurus', 'Shidaisaurus', 'Platyceratops', 'Agnosphitys', 'Changdusaurus', 'Nothosaur', 'Orthogoniosaurus', 'Titanoceratops', 'Dysganus', 'Lamaceratops', 'Helioceratops', 'Nanyangosaurus', 'Khaan', 'Cryptodraco', 'Chasmosaurus', 'Rileyasuchus', 'Aeolosaurus', 'Yizhousaurus', 'Echinodon', 'Omnivoropteryx', 'Lengosaurus', 'Megadactylus', 'Mamenchisaurus', 'Notoceratops', 'Pachysaurus', 'Tianzhenosaurus', 'Zhuchengceratops', 'Tyreophorus', 'Nedcolbertia', 'Shixinggia', 'Jeholosaurus', 'Ornithosuchus', 'Veterupristisaurus', 'Rayososaurus', 'Velafrons', 'Lapparentosaurus', 'Seismosaurus', 'Tsuchikurasaurus', 'Styracosaurus', 'Dilophosaurus', 'Gasparinisaura', 'Xiaotingia', 'Dromaeosaurus', 'Scansoriopteryx', 'Eurolimnornis', 'Proterosuchid', 'Nipponosaurus', 'Brachiosaurus', 'Vitaridrinda', 'Mantellodon', 'Sphaerotholus', 'Shuosaurus', 'Koutalisaurus', 'Cardiodon', 'Yixianosaurus', 'Jurassosaurus', 'Jiutaisaurus', 'Gryphognathus', 'Archaeornithomimus', 'Griphornis', 'Szechuanosaurus', 'Pneumatoarthrus', 'Basutodon', 'Aletopelta', 'Tendaguria', 'Riojasaurus', 'Creosaurus', 'Harpymimus', 'Huaxiagnathus', 'Carnotaurus', 'Beipiaosaurus', 'Teratophoneus', 'Cedarosaurus', 'Omosaurus', 'Wyleyia', 'Aachenosaurus', 'Atlantosaurus', 'Bilbeyhallorum', 'Balochisaurus', 'Ouranosaurus', 'Fukuititan', 'Sarcolestes', 'Alocodon', 'Amphisaurus', 'Lametasaurus', 'Raptorex', 'Sinosaurus', 'Doratodon', 'Ankistrodon', 'Chuanjiesaurus', 'Parasaurolophus', 'Albertonykus', 'Efraasia', 'Alaskacephale', 'Torilion', 'Rapator', 'Sauroplites', 'Thecocoelurus', 'Lirainosaurus', 'Xixiasaurus', 'Conchoraptor', 'Paralititan', 'Arcusaurus', 'Becklespinax', 'Thecodontosaurus', 'Taveirosaurus', 'Daemonosaurus', 'Suuwassea', 'Albertosaurus', 'Nouerosaurus', 'Marshosaurus', 'Xuanhuasaurus', 'Algoasaurus', 'Capitalsaurus', 'Xenoposeidon', 'Cryolophosaurus', 'Gobipteryx', 'Stereosaurus', 'Nemegtia', 'Proyandusaurus', 'Thyreophora', 'Xiaosaurus', 'Tatankaceratops', 'Hanwulosaurus', 'Gryphoceratops', 'Linheraptor', 'Ornithomimoides', 'Edmontonia', 'Aerosteon', 'Ninghsiasaurus', 'Prenoceratops', 'Vagaceratops', 'Sinucerasaurus', 'Hongshanosaurus', 'Hexinlusaurus', 'Indosuchus', 'Moshisaurus', 'Alashansaurus', 'Berberosaurus', 'Elaltitan', 'Marisaurus', 'Rhoetosaurus', 'Tatankacephalus', 'Bienosaurus', 'Dracopelta', 'Chiayusaurus', 'Pseudosuchia', 'Sarcosaurus', 'Shuvuuia', 'Unaysaurus', 'Amtosaurus', 'Nqwebasaurus', 'Claorhynchus', 'Prolacertiform', 'Honghesaurus', 'Ugrosaurus', 'Aegyptosaurus', 'Gallimimus', 'Clasmodosaurus', 'Hypacrosaurus', 'Caenagnathus', 'Velocipes', 'Lessemsaurus', 'Agrosaurus', 'Paronychodon', 'Maleevosaurus', 'Leipsanosaurus', 'Clevelanotyrannus', 'Dynamosaurus', 'Megacervixosaurus', 'Protohadros', 'Polyonax', 'Daxiatitan', 'Spondylosoma', 'Ichthyovenator', 'Demandasaurus', 'Dimodosaurus', 'Torvosaurus', 'Gwyneddosaurus', 'Cystosaurus', 'Irritator', 'Zanclodon', 'Rugops', 'Ignavusaurus', 'Chinshakiangosaurus', 'Zhejiangosaurus', 'Pachyrhinosaurus', 'Stenotholus', 'Iuticosaurus', 'Tyrannotitan', 'Xixianykus', 'Palaeopteryx', 'Vitakridrinda', 'Planicoxa', 'Jianchangosaurus', 'Sinovenator', 'Ohmdenosaurus', 'Protecovasaurus', 'Eoceratops', 'Laevisuchus', 'Cumnoria', 'Ratchasimasaurus', 'Elaphrosaurus', 'Dracovenator', 'Abelisaurus', 'Sangonghesaurus', 'Austrocheirus', 'Calamosaurus', 'Vectensia', 'Elosaurus', 'Termatosaurus', 'Pleuropeltus', 'Chubutisaurus', 'Macrophalangia', 'Futalongkosaurus', 'Acristavus', 'Wintonotitan', 'Diclonius', 'Nanosaurus', 'Tonganosaurus', 'Tarascosaurus', 'Amphicoelicaudia', 'Achillesaurus', 'Delapparentia', 'Argentinosaurus', 'Sulaimansaurus', 'Koparion', 'Brachytrachelopan', 'Bakesaurus', 'Rahona', 'Oryctodromeus', 'Campylodon', 'Stygivenator', 'Wangonisaurus', 'Genyodectes', 'Acrocanthosaurus', 'Danubiosaurus', 'Deltadromeus', 'Rileya', 'Borealosaurus', 'Rioarribasaurus', 'Gondwanatitan', 'Lophorhothon', 'Talenkauen', 'Diracodon', 'Nanshiungosaurus', 'Bradycneme', 'Ferganocephale', 'Cheneosaurus', 'Wulagasaurus', 'Tanystrosuchus', 'Comahuesaurus', 'Actiosaurus', 'Jiangjunmiaosaurus', 'Xinjiangovenator', 'Gadolosaurus', 'Clarencea', 'Avemetatarsalia', 'Dakotadon', 'Diapsid', 'Albinykus', 'Pectinodon', 'Protorosaurus', 'Ginnareemimus', 'Doryphorosaurus', 'Dalianraptor', 'Megapnosaurus', 'Scelidosaurus', 'Metriorhynchid', 'Piatnitzkysaurus', 'Haplocanthosaurus', 'Phytosaur', 'Manospondylus', 'Gansutitan', 'Neovenator', 'Brasileosaurus', 'Judiceratops', 'Khetranisaurus', 'Fish', 'Proceratosaurus', 'Zatomus', 'Ceratosaurus', 'Unescoceratops', 'Telmatosaurus', 'Segisaurus', 'Pachyspondylus', 'Caseosaurus', 'Ultrasauros', 'Dongbeititan', 'Galvesaurus', 'Crocodylomorph', 'Ephoenosaurus', 'Fossil', 'Crosbysaurus', 'Coelosaurus', 'Unenlagia', 'Strenusaurus', 'Concavenator', 'Fukuiraptor', 'Camarasaurus', 'Iliosuchus', 'Huayangosaurus', 'Kileskus', 'Clepsysaurus', 'Richardoestesia', 'Sphenosaurus', 'Scutellosaurus', 'Garudimimus', 'Hexing', 'Nanningosaurus', 'Sonorasaurus', 'Pradhania', 'Orosaurus', 'Andesaurus', 'Genusaurus', 'Huxleysaurus', 'Elopteryx', 'Alectrosaurus', 'Tecovasaurus', 'Parksosaurus', 'Paranthodon', 'Airakoraptor', 'Jobaria', 'Ichabodcraniosaurus', 'Muyelensaurus', 'Sacisaurus', 'Deinodon', 'Patricosaurus', 'Maleevus', 'Tylocephale', 'Sugiyamasaurus', 'Nodosaurus', 'Aliwalia', 'Kerberosaurus', 'Kazaklambia', 'Eolambia', 'Dongyangosaurus', 'Citipati', 'Euskelosaurus', 'Trigonosaurus', 'Epidexipteryx', 'Dolichosuchus', 'Walkeria', 'Labrosaurus', 'Condorraptor', 'Tichosteus', 'Uberabatitan', 'Magnosaurus', 'Janenschia', 'Anasazisaurus', 'Macrogryphosaurus', 'Erliansaurus', 'Ornithotarsus', 'Bayosaurus', 'Santanaraptor', 'Zhuchengtyrannus', 'Lukousaurus', 'Sauroposeidon', 'Ampelosaurus', 'Pampadromaeus', 'Erectopus', 'Glyptodontopelta', 'Drinker', 'Leaellynasaura', 'Magyarosaurus', 'Postosuchus', 'Szechuanoraptor', 'Yubasaurus', 'Brachyrophus', 'Cionodon', 'Sellacoxa', 'Elachistosuchus', 'Shuvosaurus', 'Sauraechmodon', 'Microdontosaurus', 'Carcharodontosaurus', 'Brachylophosaurus', 'Theropoda', 'Tapinocephalus', 'Changchunsaurus', 'Cladeiodon', 'Pareiasaurus', 'Heishansaurus', 'Aristosuchus', 'Protiguanodon', 'Brohisaurus', 'Eupodosaurus', 'Datousaurus', 'Giraffatitan', 'Jaklapallisaurus', 'Tugulusaurus', 'Compsognathus', 'Ilokelesia', 'Revueltoraptor', 'Tuojiangosaurus', 'Huaxiasaurus', 'Palaeocursornis', 'Onychosaurus', 'Ceratonykus', 'Amargatitanis', 'Albalophosaurus', 'Byronosaurus', 'Cryptovolans', 'Shenzhousaurus', 'Rapetosaurus', 'Altirhinus', 'Sanjuansaurus', 'Dysalotosaurus', 'Archaeopteryx', 'Liliensternus', 'Beelemodon', 'Xuanhuaceratops', 'Protrachodon', 'Caenagnathasia', 'Willinakaqe', 'Atacamatitan', 'Lourinhanosaurus', 'Yaverlandia', 'Ligomasaurus', 'Suchomimus', 'Brasilotitan', 'Jenghizkhan', 'Aggiosaurus', 'Elrhazosaurus', 'Yingshanosaurus', 'Australovenator', 'Ichthyornis', 'Valdosaurus', 'Yuanmouraptor', 'Prolacertiformes', 'Tarchia', 'Hesperosaurus', 'Azendohsaurus', 'Eucentrosaurus', 'Scipionyx', 'Petrobrasaurus', 'Hudiesaurus', 'Sinornithosaurus', 'Shuangmiaosaurus', 'Tianchisaurus', 'Araucanoraptor', 'Poposaurus', 'Pararhabdodon', 'Osmakasaurus', 'Siamotyrannus', 'Galveosaurus', 'Yangchuanosaurus', 'Microcephale', 'Mirischia', 'Probactrosaurus', 'Yunxiansaurus', 'Enantiornithine', 'Cedrorestes', 'Chaoyangsaurus', 'Loricatosaurus', 'Stygimoloch', 'Venaticosuchus', 'Gorgosaurus', 'Anchiornis', 'Ischisaurus', 'Bactrosaurus', 'Quilmesaurus', 'Fukuisaurus', 'Stegosaurus', 'Griphosaurus', 'Graciliceratops', 'Oligosaurus', 'Baotianmansaurus', 'Eocursor', 'Turtle', 'Macelognathus', 'Arctosaurus', 'Streptospondylus', 'Texasetes', 'Dianchungosaurus', 'Birds', 'Nomingia', 'Sinornithomimus', 'Hierosaurus', 'Abdallahsaurus', 'Jaxartosaurus', 'Sanchusaurus', 'Tarbosaurus', 'Sinocoelurus', 'Timimus', 'Herrerasaurus', 'Giganotosaurus', 'Tsaagan', 'Anthracothere', 'Yezosaurus', 'Chihuahuasaurus', 'Cathartesaura', 'Domeykosaurus', 'Loncosaurus', 'Archaeoceratops', 'Udanoceratops', 'Gojirasaurus', 'Dongyangopelta', 'Duriatitan', 'Chondrosteus', 'Arkanosaurus', 'Lusotitan', 'Diceratus', 'Nuoersaurus', 'Wadhurstia', 'Sauropelta', 'Ultrasaurus', 'Indosaurus', 'Kotasaurus', 'Urbacodon', 'Zhongyuansaurus', 'Tanystropheus', 'Mifunesaurus', 'Pegomastax', 'Gobititan', 'Lusitanosaurus', 'Caulodon', 'Baryonyx', 'Tataouinea', 'Longosaurus', 'Pareiasaur', 'Leshansaurus', 'Machairasaurus', 'Colossosaurus', 'Arstanosaurus', 'Wakinosaurus', 'Lanasaurus', 'Dryosaurus', 'Sterrholophus', 'Dachungosaurus', 'Chialingosaurus', 'Jiangjunosaurus', 'Klamelisaurus', 'Rauisuchia', 'Caudipteryx', 'Jinfengopteryx', 'Leptoceratops', 'Sinotyrannus', 'Poekilopleuron', 'Gobisaurus', 'Angaturama', 'Pterosaur', 'Aetonyx', 'Angolatitan', 'Tanius', 'Therizinosaurus', 'Tastavinsaurus', 'Lancangosaurus', 'Dinheirosaurus', 'Brachypodosaurus', 'Gobiceratops', 'Fruitadens', 'Monkonosaurus', 'Spinostropheus', 'Cristatusaurus', 'Bolong', 'Rebbachisaurus', 'Monolophosaurus', 'Alioramus', 'Hypsirophus', 'Olorotitan', 'Euoplocephalus', 'Juravenator', 'Euhelopus', 'Epanterias', 'Lancanjiangosaurus', 'Xianshanosaurus', 'Ekrixinatosaurus', 'Achillobator', 'Hesperonychus', 'Pachysauriscus', 'Ruyangosaurus', 'Gongbusaurus', 'Teratosaurus', 'Ruehleia', 'Yaleosaurus', 'Canardia', 'Brachyceratops', 'Pantydraco', 'Afrovenator', 'Mendozasaurus', 'Pedopenna', 'Blasisaurus', 'Astrodon', 'Mandschurosaurus', 'Drusilasaura', 'Libycosaurus', 'Eucamerotus', 'Tonouchisaurus', 'Didanodon', 'Proplanicoxa', 'Kentrurosaurus', 'Trinisaura', 'Fusuisaurus', 'Kentrosaurus', 'Eocarcharia', 'Albertaceratops', 'Rutellum', 'Saltasaurus', 'Majungatholus', 'Mussaurus', 'Zigongosaurus', 'Euacanthus', 'Craspedodon', 'Ingenia', 'Priodontognathus', 'Rubeosaurus', 'Gyposaurus', 'Utahraptor', 'Pukyongosaurus', 'Coelurosaur', 'Silvisaurus', 'Troodon', 'Jixiangornis', 'Pawpawsaurus', 'Oohkotokia', 'Hadrosauravus', 'Shaochilong', 'Ponerosteus', 'Ischyrosaurus', 'Hadrosaurus', 'Gryposaurus', 'Spinops', 'Peloroplites', 'Daspletosaurus', 'Dravidosaurus', 'Hagryphus', 'Sphenosuchia', 'Ligabueino', 'Mymoorapelta', 'Tatisaurus', 'Trimucrodon', 'Cathetosaurus', 'Teinurosaurus', 'Antetonitrus', 'Rajasaurus', 'Fabrosaurus', 'Angloposeidon', 'Levnesovia', 'Mongolosaurus', 'Asiaceratops', 'Avipes', 'Turiasaurus', 'Eucnemesaurus', 'Otogosaurus', 'Martharaptor', 'Tsintaosaurus', 'Hypsilophodon', 'Gigantoscelus', 'Palaeosauriscus', 'Hironosaurus', 'Paludititan', 'Anatosaurus', 'Kaatedocus', 'Linhevenator', 'Pellegrinisaurus', 'Sanpasaurus', 'Lapampasaurus', 'Inosaurus', 'Eomamenchisaurus', 'Liassaurus', 'Jinzhousaurus', 'Equijubus', 'Dryptosaurus', 'Nopcsaspondylus', 'Changtusaurus', 'Tapuiasaurus', 'Diabloceratops', 'Dakosaurus', 'Chassternbergia', 'Limaysaurus', 'Huaxiaosaurus', 'Minotaurasaurus', 'Uteodon', 'Micropachycephalosaurus', 'Avisaurus', 'Siamodon', 'Ornithomerus', 'Eodromaeus', 'Turanoceratops', 'Nambalia', 'Cruxicheiros', 'Riojasuchus', 'Stokesosaurus', 'Amygdalodon', 'Linhenykus', 'Heterodontosaurus', 'Dromicosaurus', 'Bahariasaurus', 'Xiongguanlong', 'Jeyawati', 'Polyodontosaurus', 'Morinosaurus', 'Campylodoniscus', 'Aralosaurus', 'Pentaceratops', 'Squalodon', 'Saurornitholestes', 'Yandusaurus', 'Bruhathkayosaurus', 'Kinnareemimus', 'Tornieria', 'Scaphonyx', 'Barosaurus', 'Titanosaurus', 'Volkheimeria', 'Brontomerus', 'Megalosaurus', 'Rhopalodon', 'Huanghetitan', 'Ngexisaurus', 'Jiangshanosaurus', 'Archosaur', 'Sciurumimus', 'Histriasaurus', 'Spinosaurus', 'Eoraptor', 'Phaedrolosaurus', 'Betasuchus', 'Belodon', 'Bagaraatan', 'Protognathus', 'Marmarospondylus', 'Dinosaur', 'Darwinsaurus', 'Apatodon', 'Eotyrannus', 'Struthiomimus', 'Pelecanimimus', 'Gideonmantellia', 'Appalachiosaurus', 'Edmontosaurus', 'Acracanthus', 'Machimosaurus', 'Razanandrongobe', 'Uintasaurus', 'Magnapaulia', 'Moabosaurus', 'Ojoceratops', 'Yaxartosaurus', 'Macroscelosaurus', 'Aniksosaurus', 'Guanlong', 'Futabasaurus', 'Proceratops', 'Xuwulong', 'Ricardoestesia', 'Symphyrophus', 'Pleurocoelus', 'Damalasaurus', 'Naashoibitosaurus', 'Panphagia', 'Graciliraptor', 'Ornithoides', 'Futalognkosaurus', 'Pachycephalosaurus', 'Plesiosaur', 'Astrophocaudia', 'Gilmoreosaurus', 'Diamantinasaurus', 'Eucercosaurus', 'Gavinosaurus', 'Suchosaurus', 'Eugongbusaurus', 'Camelotia', 'Shanxia', 'Antarctopelta', 'Traukutitan', 'Saurornithoides', 'Hippodraco', 'Nteregosaurus', 'Sauropodus', 'Coelurosauravus', 'Stereocephalus', 'Adeopapposaurus', 'Ctenosauriscid', 'Paraiguanodon', 'Eosinopteryx', 'Archaeornis', 'Bambiraptor', 'Isanosaurus', 'Stegosaurides', 'Avaceratops', 'Gannansaurus', 'Triceratops', 'Paluxysaurus', 'Denversaurus', 'Bathygnathus', 'Katsuyamasaurus', 'Barsboldia', 'Mojoceratops', 'Eucoelophysis', 'Microraptor', 'Calamospondylus', 'Fusinasus', 'Agathaumas', 'Protoceratops', 'Eustreptospondylus', 'Macrurosaurus', 'Atlascopcosaurus', 'Claosaurus', 'Avicephala', 'Tochisaurus', 'Protognathosaurus', 'Kakuru', 'Neuquensaurus', 'Chilantaisaurus', 'Chindesaurus', 'Parvicursor', 'Phuwiangosaurus', 'Saltriosaurus', 'Edmarka', 'Chingkankousaurus', 'Bicentenaria', 'Kemkemia', 'Microceratus', 'Chaoyangosaurus', 'Atlasaurus', 'Eotriceratops', 'Neimongosaurus', 'Unicerosaurus', 'Qinlingosaurus', 'Laosaurus', 'Craterosaurus', 'Dacentrurus', 'Geminiraptor', 'Erlikosaurus', 'Bonitasaura', 'Arrhinoceratops', 'Triassolestes', 'Hisanohamasaurus', 'Oplosaurus', 'Supersaurus', 'Achelousaurus', 'Rinconsaurus', 'Serendipaceratops', 'Eoabelisaurus', 'Dystrophaeus', 'Thotobolosaurus', 'Blancocerosaurus', 'Cetiosaurus', 'Roccosaurus', 'Chondrosteosaurus', 'Fulengia', 'Mohammadisaurus', 'Halticosaurus', 'Lancangjiangosaurus', 'Teyuwasu', 'Breviceratops', 'Rhodanosaurus', 'Metriacanthosaurus', 'Overosaurus', 'Newtonsaurus', 'Gracilisuchus', 'Pseudolagosuchus', 'Sellosaurus', 'Ajkaceratops', 'Lufengosaurus', 'Yamaceratops', 'Bagaceratops', 'Apatosaurus', 'Khateranisaurus', 'Batyrosaurus', 'Cinizasaurus', 'Tanycolagreus', 'Bainoceratops', 'Silesaurid', 'Byranjaffia', 'Shamosaurus', 'Austrosaurus', 'Amtocephale', 'Cylindricodon', 'Huabeisaurus', 'Regnosaurus', 'Callovosaurus', 'Heptasteornis', 'Gryponyx', 'Tylosteus', 'Gargoyleosaurus', 'Kundurosaurus', 'Mononykus', 'Secernosaurus', 'Puertasaurus', 'Bellusaurus', 'Archosauriform', 'Qiupalong', 'Alamosaurus', 'Dystylosaurus', 'Tethyshadros', 'Selimanosaurus', 'Albertadromeus', 'Karongasaurus', 'Kaijiangosaurus', 'Microvenator', 'Amphicoelias', 'Eshanosaurus', 'Salimosaurus', 'Avimimus', 'Elvisaurus', 'Bonatitan', 'Procheneosaurus', 'Tetragonosaurus', 'Mammal', 'Oshanosaurus', 'Jurapteryx', 'Paleosaurus', 'Dinosauromorph', 'Plateosauravus', 'Hungarosaurus', 'Chromogisaurus', 'Anoplosaurus', 'Amargasaurus', 'Merosaurus', 'Alwalkeria', 'Macrodontophion', 'Shanshanosaurus', 'Gongxianosaurus', 'Vectisaurus', 'Kitadanisaurus', 'Agustinia', 'Sulaimanisaurus', 'Thescelosaurus', 'Zephyrosaurus', 'Arenysaurus', 'Patagosaurus', 'Laornis', 'Protoavis', 'Tenantosaurus', 'Yinlong', 'Bravoceratops', 'Saurophaganax', 'Coeluroides', 'Seitaad', 'Trialestes', 'Glishades', 'Cedarpelta', 'Rinchenia', 'Lesothosaurus', 'Dromaeosaur', 'Nuoerosaurus', 'Hallopus', 'Yanornis', 'Tomodon', 'Juratyrant', 'Shanyangosaurus', 'Deuterosaurus', 'Coelurus', 'Zizhongosaurus', 'Hypselospinus', 'Austroraptor', 'Brachytaenius', 'Orcomimus', 'Acrotholus', 'Chirostenotes', 'Emausaurus', 'Nigersaurus', 'Animantarx', 'Luanchuanraptor', 'Zuniceratops', 'Wannanosaurus', 'Abrictosaurus', 'Heyuannia', 'Synapsid', 'Struthiosaurus', 'Yunnanosaurus', 'Noasaurus', 'Tyrannosaurid', 'Yibinosaurus', 'Thespesius', 'Priconodon', 'Marasuchus', 'Anchisaurus', 'Iguanacolossus', 'Patagonykus', 'Haplocanthus', 'Corythosaurus', 'Limusaurus', 'Coloradisaurus', 'Similicaudipteryx', 'Leptospondylus', 'Aviatyrannis', 'Hortalotarsus', 'Tienshanosaurus', 'Pamparaptor', 'Peishansaurus', 'Succinodon', 'Dinosaurus', 'Rachitrema', 'Dachongosaurus', 'Therapsida', 'Saurolophus', 'Pekinosaurus', 'Skorpiovenator', 'Microsaurops', 'Ammosaurus', 'Ichthyosaur', 'Antarctosaurus', 'Liaoningosaurus', 'Nothronychus', 'Spinosuchus', 'Iguanosaurus', 'Anchiceratops', 'Orkoraptor', 'Microcoelus', 'Xuanhanosaurus', 'Geranosaurus', 'Goyocephale', 'Ankylosauria', 'Dahalokely', 'Daptosaurus', 'Loricosaurus', 'Australodocus', 'Pterospondylus', 'Gigantoraptor', 'Hylaeosaurus', 'Caudocoelus', 'Opisthocoelicaudia', 'Rhadinosaurus', 'Ligabuesaurus', 'Aragosaurus', 'Rocasaurus', 'Parrosaurus', 'Sahaliyania', 'Agilisaurus', 'Orthomerus', 'Penelopognathus', 'Liaoceratops', 'Dyoplosaurus', 'Stenonychosaurus', 'Walkersaurus', 'Narambuenatitan', 'Pitekunsaurus', 'Camarillasaurus', 'Procolophonid', 'Epichirostenotes', 'Beishanlong', 'Gasosaurus', 'Coronosaurus', 'Zapalasaurus', 'Sauraechinodon', 'Glacialisaurus', 'Therapsid', 'Gravisaurus', 'Lewisuchus', 'Jainosaurus', 'Centemodon', 'Arkansaurus', 'Einiosaurus', 'Palaeoscincus', 'Cerasinops', 'Microceratops', 'Pteropelyx', 'Sigilmassasaurus', 'Staurikosaurus', 'Pyroraptor', 'Ornithodesmus', 'Asylosaurus', 'Anodontosaurus', 'Siluosaurus', 'Carnosauria', 'Qantassaurus', 'Ornithomimus', 'Dinodocus', 'Chuxiongosaurus', 'Anserimimus', 'Camptonotus', 'Lagosuchus', 'Anatotitan', 'Dryptosauroides', 'Silesaurus', 'Pachysaurops', 'Saichania', 'Procerosaurus', 'Lucianosaurus', 'Koreasaurus', 'Lurdusaurus', 'Piveteausaurus', 'Jeholornis', 'Angulomastacator', 'Hoplosaurus', 'Saltopus', 'Shanag', 'Homalocephale', 'Torosaurus', 'Fenestrosaurus', 'Jubbulpuria', 'Mtotosaurus', 'Nemegtosaurus', 'Maiasaura', 'Yutyrannus', 'Ozraptor', 'Lariosaurus', 'Bugenasaura', 'Ornatotholus', 'Aardonyx', 'Herbstosaurus', 'Tianyuraptor', 'Diplodocus', 'Kosmoceratops', 'Muttaburrasaurus', 'Kagasaurus', 'Atsinganosaurus', 'Massospondylus', 'Utahceratops', 'Nanotyrannus', 'Qingxiusaurus', 'Avalonianus', 'Erketu', 'Fulgurotherium', 'Kayentavenator', 'Protarchaeopteryx', 'Chungkingosaurus', 'Krzyzanowskisaurus', 'Yimenosaurus', 'Aurornis', 'Ganzhousaurus', 'Pinacosaurus', 'Archosauromorph', 'Niobrarasaurus', 'Melanorosaurus', 'Baurutitan', 'Elmisaurus', 'Euronychodon', 'Tehuelchesaurus', 'Sinusonasus', 'Omeisaurus', 'Agujaceratops', 'Aucasaurus', 'Wulatelong', 'Stegopelta', 'Europasaurus', 'Alxasaurus', 'Stegosauroides', 'Tangvayosaurus', 'Pliosaur', 'Unquillosaurus', 'Xixiposaurus', 'Ornithopsis', 'Crataeomus', 'Madsenius', 'Diplotomodon', 'Kulceratops', 'Adamantisaurus', 'Nyororosaurus', 'Monoclonius', 'Kuszholia', 'Jintasaurus', 'Camptosaurus', 'Masiakasaurus', 'Parhabdodon', 'Prodeinodon', 'Saurophagus', 'Alvarezsaurus', 'Mantellisaurus', 'Aristosaurus', 'Suzhousaurus', 'Limnosaurus', 'Dromaeosauroides', 'Augustia', 'Spinosaurid', 'Othnielia', 'Thecospondylus', 'Cetacea', 'Medusaceratops', 'Zalmoxes', 'Koreaceratops', 'Syngonosaurus', 'Dicraeosaurus', 'Xenoceratops', 'Scleromochlus', 'Deinocheirus', 'Chuandongocoelurus', 'Itemirus', 'Phyllodon', 'Megaraptor', 'Philovenator', 'Ferganasaurus', 'Pelorosaurus', 'Nebulasaurus', 'Barilium', 'Nedoceratops', 'Acanthopholis', 'Nuthetes', 'Panoplosaurus', 'Quaesitosaurus', 'Crocodile', 'Archaeoraptor', 'Charonosaurus', 'Eureodon', 'Hanssuesia', 'Guaibasaurus', 'Camposaurus', 'Hylosaurus', 'Zapsalis', 'Bistahieversor', 'Erlicosaurus', 'Procompsognathus', 'Hypselosaurus', 'Prenocephale', 'Malarguesaurus', 'Tenontosaurus', 'Kittysaurus', 'Iguanodon', 'Palaeoctonus', 'Trachodon', 'Wyomingraptor', 'Huehuecanauhtlus', 'Theiophytalia', 'Nectosaurus', 'Scolosaurus', 'Pisanosaurus', 'Kunmingosaurus', 'Liubangosaurus', 'Malawisaurus', 'Pakisaurus', 'Carnosaur', 'Leonerasaurus', 'Oviraptor', 'Texacephale', 'Shantungosaurus', 'Zhuchengosaurus', 'Gripposaurus', 'Polacanthus', 'Xenotarsosaurus', 'Dinosauriform', 'Hypsibema', 'Podokesaurus', 'Sonidosaurus', 'Colepiocephale', 'Kelmayisaurus', 'Crichtonsaurus', 'Stegoceras', 'Borogovia', 'Lourinhasaurus', 'Picrodon', 'Mononychus', 'Bothriospondylus', 'Siamosaurus', 'Technosaurus', 'Theropod', 'Neosodon', 'Velociraptor', 'Eolosaurus', 'Archaeovolans', 'Chebsaurus', 'Compsosuchus', 'Othnielosaurus', 'Banji', 'Proiguanodon', 'Rahonavis', 'Majungasaurus', 'Nanotyrannosaurus', 'Bissektipelta', 'Revueltosaurus', 'Lexovisaurus', 'Antrodemus', 'Hikanodon', 'Tyrannosaurus', 'Barrosasaurus', 'Sinoceratops', 'Megadontosaurus', 'Sinosauropteryx', 'Heilongjiangosaurus', 'Maxakalisaurus', 'Jensenosaurus', 'Dandakosaurus', 'Therosaurus', 'Sarahsaurus', 'Hypselorhachis', 'Archaeodontosaurus', 'Gresslyosaurus', 'Stenopelix']}\n"
     ]
    }
   ],
   "source": [
    "with open('dinosaurs.json') as json_data:\n",
    "    d = json.load(json_data)\n",
    "    print(d)"
   ]
  },
  {
   "cell_type": "code",
   "execution_count": 19,
   "metadata": {},
   "outputs": [],
   "source": [
    "data = d['dinosaurs']"
   ]
  },
  {
   "cell_type": "code",
   "execution_count": 20,
   "metadata": {},
   "outputs": [],
   "source": [
    "file = open('dinotext.txt','a') "
   ]
  },
  {
   "cell_type": "code",
   "execution_count": 21,
   "metadata": {},
   "outputs": [],
   "source": [
    "for i in data:\n",
    "    file.write(i)\n",
    "    file.write('\\n')\n",
    "file.close()"
   ]
  },
  {
   "cell_type": "code",
   "execution_count": 22,
   "metadata": {},
   "outputs": [
    {
     "name": "stdout",
     "output_type": "stream",
     "text": [
      "There are 18769 total characters and 27 unique characters in your data.\n"
     ]
    }
   ],
   "source": [
    "data = open('dinotext.txt', 'r').read()\n",
    "data = data.lower()\n",
    "chars = list(set(data))\n",
    "data_size, vocab_size = len(data), len(chars)\n",
    "print('There are %d total characters and %d unique characters in your data.' % (data_size, vocab_size))"
   ]
  },
  {
   "cell_type": "code",
   "execution_count": 23,
   "metadata": {},
   "outputs": [
    {
     "name": "stdout",
     "output_type": "stream",
     "text": [
      "{0: '\\n', 1: 'a', 2: 'b', 3: 'c', 4: 'd', 5: 'e', 6: 'f', 7: 'g', 8: 'h', 9: 'i', 10: 'j', 11: 'k', 12: 'l', 13: 'm', 14: 'n', 15: 'o', 16: 'p', 17: 'q', 18: 'r', 19: 's', 20: 't', 21: 'u', 22: 'v', 23: 'w', 24: 'x', 25: 'y', 26: 'z'}\n"
     ]
    }
   ],
   "source": [
    "char_to_ix = { ch:i for i,ch in enumerate(sorted(chars)) }\n",
    "ix_to_char = { i:ch for i,ch in enumerate(sorted(chars)) }\n",
    "print(ix_to_char)"
   ]
  },
  {
   "cell_type": "code",
   "execution_count": 24,
   "metadata": {},
   "outputs": [],
   "source": [
    "def clip(gradients, maxValue):\n",
    "    '''\n",
    "    Clips the gradients' values between minimum and maximum.\n",
    "    \n",
    "    Arguments:\n",
    "    gradients -- a dictionary containing the gradients \"dWaa\", \"dWax\", \"dWya\", \"db\", \"dby\"\n",
    "    maxValue -- everything above this number is set to this number, and everything less than -maxValue is set to -maxValue\n",
    "    \n",
    "    Returns: \n",
    "    gradients -- a dictionary with the clipped gradients.\n",
    "    '''\n",
    "    \n",
    "    dWaa, dWax, dWya, db, dby = gradients['dWaa'], gradients['dWax'], gradients['dWya'], gradients['db'], gradients['dby']\n",
    "   \n",
    "    ### START CODE HERE ###\n",
    "    # clip to mitigate exploding gradients, loop over [dWax, dWaa, dWya, db, dby]. (≈2 lines)\n",
    "    for gradient in [dWax, dWaa, dWya, db, dby]:\n",
    "        np.clip(gradient, -maxValue, maxValue, out=gradient)\n",
    "    ### END CODE HERE ###\n",
    "    \n",
    "    gradients = {\"dWaa\": dWaa, \"dWax\": dWax, \"dWya\": dWya, \"db\": db, \"dby\": dby}\n",
    "    \n",
    "    return gradients"
   ]
  },
  {
   "cell_type": "code",
   "execution_count": 25,
   "metadata": {},
   "outputs": [
    {
     "name": "stdout",
     "output_type": "stream",
     "text": [
      "gradients[\"dWaa\"][1][2] = 10.0\n",
      "gradients[\"dWax\"][3][1] = -10.0\n",
      "gradients[\"dWya\"][1][2] = 0.2971381536101662\n",
      "gradients[\"db\"][4] = [10.]\n",
      "gradients[\"dby\"][1] = [8.45833407]\n"
     ]
    }
   ],
   "source": [
    "np.random.seed(3)\n",
    "dWax = np.random.randn(5,3)*10\n",
    "dWaa = np.random.randn(5,5)*10\n",
    "dWya = np.random.randn(2,5)*10\n",
    "db = np.random.randn(5,1)*10\n",
    "dby = np.random.randn(2,1)*10\n",
    "gradients = {\"dWax\": dWax, \"dWaa\": dWaa, \"dWya\": dWya, \"db\": db, \"dby\": dby}\n",
    "gradients = clip(gradients, 10)\n",
    "print(\"gradients[\\\"dWaa\\\"][1][2] =\", gradients[\"dWaa\"][1][2])\n",
    "print(\"gradients[\\\"dWax\\\"][3][1] =\", gradients[\"dWax\"][3][1])\n",
    "print(\"gradients[\\\"dWya\\\"][1][2] =\", gradients[\"dWya\"][1][2])\n",
    "print(\"gradients[\\\"db\\\"][4] =\", gradients[\"db\"][4])\n",
    "print(\"gradients[\\\"dby\\\"][1] =\", gradients[\"dby\"][1])"
   ]
  },
  {
   "cell_type": "code",
   "execution_count": 26,
   "metadata": {},
   "outputs": [],
   "source": [
    "# GRADED FUNCTION: sample\n",
    "\n",
    "def sample(parameters, char_to_ix, seed):\n",
    "    \"\"\"\n",
    "    Sample a sequence of characters according to a sequence of probability distributions output of the RNN\n",
    "\n",
    "    Arguments:\n",
    "    parameters -- python dictionary containing the parameters Waa, Wax, Wya, by, and b. \n",
    "    char_to_ix -- python dictionary mapping each character to an index.\n",
    "    seed -- used for grading purposes. Do not worry about it.\n",
    "\n",
    "    Returns:\n",
    "    indices -- a list of length n containing the indices of the sampled characters.\n",
    "    \"\"\"\n",
    "    \n",
    "    # Retrieve parameters and relevant shapes from \"parameters\" dictionary\n",
    "    Waa, Wax, Wya, by, b = parameters['Waa'], parameters['Wax'], parameters['Wya'], parameters['by'], parameters['b']\n",
    "    vocab_size = by.shape[0]\n",
    "    n_a = Waa.shape[1]\n",
    "    \n",
    "    ### START CODE HERE ###\n",
    "    # Step 1: Create the one-hot vector x for the first character (initializing the sequence generation). (≈1 line)\n",
    "    x = np.zeros((vocab_size, 1))\n",
    "    # Step 1': Initialize a_prev as zeros (≈1 line)\n",
    "    a_prev = np.zeros((n_a, 1))\n",
    "    \n",
    "    # Create an empty list of indices, this is the list which will contain the list of indices of the characters to generate (≈1 line)\n",
    "    indices = []\n",
    "    \n",
    "    # Idx is a flag to detect a newline character, we initialize it to -1\n",
    "    idx = -1 \n",
    "    \n",
    "    # Loop over time-steps t. At each time-step, sample a character from a probability distribution and append \n",
    "    # its index to \"indices\". We'll stop if we reach 50 characters (which should be very unlikely with a well \n",
    "    # trained model), which helps debugging and prevents entering an infinite loop. \n",
    "    counter = 0\n",
    "    newline_character = char_to_ix['\\n']\n",
    "    \n",
    "    while (idx != newline_character and counter != 50):\n",
    "        \n",
    "        # Step 2: Forward propagate x using the equations (1), (2) and (3)\n",
    "        a = np.tanh(np.dot(Wax, x) + np.dot(Waa, a_prev) + b)\n",
    "        z = np.dot(Wya, a) + by\n",
    "        y = softmax(z)\n",
    "        \n",
    "        # for grading purposes\n",
    "        np.random.seed(counter + seed) \n",
    "        \n",
    "        # Step 3: Sample the index of a character within the vocabulary from the probability distribution y\n",
    "        idx = np.random.choice(list(range(vocab_size)), p=y.ravel())\n",
    "\n",
    "        # Append the index to \"indices\"\n",
    "        indices.append(idx)\n",
    "        \n",
    "        # Step 4: Overwrite the input character as the one corresponding to the sampled index.\n",
    "        x = np.zeros((vocab_size, 1))\n",
    "        x[idx] = 1\n",
    "        \n",
    "        # Update \"a_prev\" to be \"a\"\n",
    "        a_prev = a\n",
    "        \n",
    "        # for grading purposes\n",
    "        seed += 1\n",
    "        counter +=1\n",
    "        \n",
    "    ### END CODE HERE ###\n",
    "\n",
    "    if (counter == 50):\n",
    "        indices.append(char_to_ix['\\n'])\n",
    "    \n",
    "    return indices"
   ]
  },
  {
   "cell_type": "code",
   "execution_count": 27,
   "metadata": {},
   "outputs": [
    {
     "ename": "NameError",
     "evalue": "name 'softmax' is not defined",
     "output_type": "error",
     "traceback": [
      "\u001b[1;31m---------------------------------------------------------------------------\u001b[0m",
      "\u001b[1;31mNameError\u001b[0m                                 Traceback (most recent call last)",
      "\u001b[1;32m<ipython-input-27-1f19f7d04fee>\u001b[0m in \u001b[0;36m<module>\u001b[1;34m()\u001b[0m\n\u001b[0;32m      6\u001b[0m \u001b[1;33m\u001b[0m\u001b[0m\n\u001b[0;32m      7\u001b[0m \u001b[1;33m\u001b[0m\u001b[0m\n\u001b[1;32m----> 8\u001b[1;33m \u001b[0mindices\u001b[0m \u001b[1;33m=\u001b[0m \u001b[0msample\u001b[0m\u001b[1;33m(\u001b[0m\u001b[0mparameters\u001b[0m\u001b[1;33m,\u001b[0m \u001b[0mchar_to_ix\u001b[0m\u001b[1;33m,\u001b[0m \u001b[1;36m0\u001b[0m\u001b[1;33m)\u001b[0m\u001b[1;33m\u001b[0m\u001b[0m\n\u001b[0m\u001b[0;32m      9\u001b[0m \u001b[0mprint\u001b[0m\u001b[1;33m(\u001b[0m\u001b[1;34m\"Sampling:\"\u001b[0m\u001b[1;33m)\u001b[0m\u001b[1;33m\u001b[0m\u001b[0m\n\u001b[0;32m     10\u001b[0m \u001b[0mprint\u001b[0m\u001b[1;33m(\u001b[0m\u001b[1;34m\"list of sampled indices:\"\u001b[0m\u001b[1;33m,\u001b[0m \u001b[0mindices\u001b[0m\u001b[1;33m)\u001b[0m\u001b[1;33m\u001b[0m\u001b[0m\n",
      "\u001b[1;32m<ipython-input-26-7212d84d2e89>\u001b[0m in \u001b[0;36msample\u001b[1;34m(parameters, char_to_ix, seed)\u001b[0m\n\u001b[0;32m     42\u001b[0m         \u001b[0ma\u001b[0m \u001b[1;33m=\u001b[0m \u001b[0mnp\u001b[0m\u001b[1;33m.\u001b[0m\u001b[0mtanh\u001b[0m\u001b[1;33m(\u001b[0m\u001b[0mnp\u001b[0m\u001b[1;33m.\u001b[0m\u001b[0mdot\u001b[0m\u001b[1;33m(\u001b[0m\u001b[0mWax\u001b[0m\u001b[1;33m,\u001b[0m \u001b[0mx\u001b[0m\u001b[1;33m)\u001b[0m \u001b[1;33m+\u001b[0m \u001b[0mnp\u001b[0m\u001b[1;33m.\u001b[0m\u001b[0mdot\u001b[0m\u001b[1;33m(\u001b[0m\u001b[0mWaa\u001b[0m\u001b[1;33m,\u001b[0m \u001b[0ma_prev\u001b[0m\u001b[1;33m)\u001b[0m \u001b[1;33m+\u001b[0m \u001b[0mb\u001b[0m\u001b[1;33m)\u001b[0m\u001b[1;33m\u001b[0m\u001b[0m\n\u001b[0;32m     43\u001b[0m         \u001b[0mz\u001b[0m \u001b[1;33m=\u001b[0m \u001b[0mnp\u001b[0m\u001b[1;33m.\u001b[0m\u001b[0mdot\u001b[0m\u001b[1;33m(\u001b[0m\u001b[0mWya\u001b[0m\u001b[1;33m,\u001b[0m \u001b[0ma\u001b[0m\u001b[1;33m)\u001b[0m \u001b[1;33m+\u001b[0m \u001b[0mby\u001b[0m\u001b[1;33m\u001b[0m\u001b[0m\n\u001b[1;32m---> 44\u001b[1;33m         \u001b[0my\u001b[0m \u001b[1;33m=\u001b[0m \u001b[0msoftmax\u001b[0m\u001b[1;33m(\u001b[0m\u001b[0mz\u001b[0m\u001b[1;33m)\u001b[0m\u001b[1;33m\u001b[0m\u001b[0m\n\u001b[0m\u001b[0;32m     45\u001b[0m \u001b[1;33m\u001b[0m\u001b[0m\n\u001b[0;32m     46\u001b[0m         \u001b[1;31m# for grading purposes\u001b[0m\u001b[1;33m\u001b[0m\u001b[1;33m\u001b[0m\u001b[0m\n",
      "\u001b[1;31mNameError\u001b[0m: name 'softmax' is not defined"
     ]
    }
   ],
   "source": [
    "np.random.seed(2)\n",
    "_, n_a = 20, 100\n",
    "Wax, Waa, Wya = np.random.randn(n_a, vocab_size), np.random.randn(n_a, n_a), np.random.randn(vocab_size, n_a)\n",
    "b, by = np.random.randn(n_a, 1), np.random.randn(vocab_size, 1)\n",
    "parameters = {\"Wax\": Wax, \"Waa\": Waa, \"Wya\": Wya, \"b\": b, \"by\": by}\n",
    "\n",
    "\n",
    "indices = sample(parameters, char_to_ix, 0)\n",
    "print(\"Sampling:\")\n",
    "print(\"list of sampled indices:\", indices)\n",
    "print(\"list of sampled characters:\", [ix_to_char[i] for i in indices])"
   ]
  },
  {
   "cell_type": "code",
   "execution_count": null,
   "metadata": {},
   "outputs": [],
   "source": []
  }
 ],
 "metadata": {
  "kernelspec": {
   "display_name": "Python 3",
   "language": "python",
   "name": "python3"
  },
  "language_info": {
   "codemirror_mode": {
    "name": "ipython",
    "version": 3
   },
   "file_extension": ".py",
   "mimetype": "text/x-python",
   "name": "python",
   "nbconvert_exporter": "python",
   "pygments_lexer": "ipython3",
   "version": "3.6.4"
  }
 },
 "nbformat": 4,
 "nbformat_minor": 2
}
