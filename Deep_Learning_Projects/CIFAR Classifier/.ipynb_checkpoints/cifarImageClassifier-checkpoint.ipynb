{
 "cells": [
  {
   "cell_type": "code",
   "execution_count": 1,
   "metadata": {},
   "outputs": [
    {
     "name": "stderr",
     "output_type": "stream",
     "text": [
      "C:\\Anaconda3\\lib\\site-packages\\h5py\\__init__.py:36: FutureWarning: Conversion of the second argument of issubdtype from `float` to `np.floating` is deprecated. In future, it will be treated as `np.float64 == np.dtype(float).type`.\n",
      "  from ._conv import register_converters as _register_converters\n",
      "CIFAR-10 Dataset: 171MB [00:53, 3.21MB/s]                               \n"
     ]
    },
    {
     "name": "stdout",
     "output_type": "stream",
     "text": [
      "All files found!\n"
     ]
    }
   ],
   "source": [
    "\"\"\"\n",
    "DON'T MODIFY ANYTHING IN THIS CELL THAT IS BELOW THIS LINE\n",
    "\"\"\"\n",
    "from urllib.request import urlretrieve\n",
    "from os.path import isfile, isdir\n",
    "from tqdm import tqdm\n",
    "import tester as tests\n",
    "import tarfile\n",
    "\n",
    "cifar10_dataset_folder_path = 'cifar-10-batches-py'\n",
    "\n",
    "class DLProgress(tqdm):\n",
    "    last_block = 0\n",
    "\n",
    "    def hook(self, block_num=1, block_size=1, total_size=None):\n",
    "        self.total = total_size\n",
    "        self.update((block_num - self.last_block) * block_size)\n",
    "        self.last_block = block_num\n",
    "\n",
    "if not isfile('cifar-10-python.tar.gz'):\n",
    "    with DLProgress(unit='B', unit_scale=True, miniters=1, desc='CIFAR-10 Dataset') as pbar:\n",
    "        urlretrieve(\n",
    "            'https://www.cs.toronto.edu/~kriz/cifar-10-python.tar.gz',\n",
    "            'cifar-10-python.tar.gz',\n",
    "            pbar.hook)\n",
    "\n",
    "if not isdir(cifar10_dataset_folder_path):\n",
    "    with tarfile.open('cifar-10-python.tar.gz') as tar:\n",
    "        tar.extractall()\n",
    "        tar.close()\n",
    "\n",
    "\n",
    "tests.test_folder_path(cifar10_dataset_folder_path)"
   ]
  },
  {
   "cell_type": "code",
   "execution_count": 2,
   "metadata": {},
   "outputs": [
    {
     "name": "stdout",
     "output_type": "stream",
     "text": [
      "\n",
      "Stats of batch 1:\n",
      "Samples: 10000\n",
      "Label Counts: {0: 1005, 1: 974, 2: 1032, 3: 1016, 4: 999, 5: 937, 6: 1030, 7: 1001, 8: 1025, 9: 981}\n",
      "First 20 Labels: [6, 9, 9, 4, 1, 1, 2, 7, 8, 3, 4, 7, 7, 2, 9, 9, 9, 3, 2, 6]\n",
      "\n",
      "Example of Image 10:\n",
      "Image - Min Value: 24 Max Value: 130\n",
      "Image - Shape: (32, 32, 3)\n",
      "Label - Label Id: 4 Name: deer\n"
     ]
    },
    {
     "data": {
      "image/png": "[encoded data removed]",
      "text/plain": [
       "<matplotlib.figure.Figure at 0x1af46babe48>"
      ]
     },
     "metadata": {
      "image/png": {
       "height": 250,
       "width": 253
      }
     },
     "output_type": "display_data"
    }
   ],
   "source": [
    "%matplotlib inline\n",
    "%config InlineBackend.figure_format = 'retina'\n",
    "\n",
    "import helper\n",
    "import numpy as np\n",
    "\n",
    "# Explore the dataset\n",
    "batch_id = 1\n",
    "sample_id = 10\n",
    "helper.display_stats(cifar10_dataset_folder_path, batch_id, sample_id)"
   ]
  },
  {
   "cell_type": "code",
   "execution_count": 3,
   "metadata": {},
   "outputs": [
    {
     "name": "stdout",
     "output_type": "stream",
     "text": [
      "Tests Passed\n"
     ]
    }
   ],
   "source": [
    "def normalize(x):\n",
    "    \"\"\"\n",
    "    Normalize a list of sample image data in the range of 0 to 1\n",
    "    : x: List of image data. The image shape is (32, 32, 3)\n",
    "    : return: Numpy array of normalize data\n",
    "    \"\"\"\n",
    "    return x / 255\n",
    "\n",
    "\n",
    "\"\"\"\n",
    "DON'T MODIFY ANYTHING IN THIS CELL THAT IS BELOW THIS LINE\n",
    "\"\"\"\n",
    "tests.test_normalize(normalize)"
   ]
  },
  {
   "cell_type": "code",
   "execution_count": 4,
   "metadata": {},
   "outputs": [
    {
     "name": "stdout",
     "output_type": "stream",
     "text": [
      "Tests Passed\n"
     ]
    }
   ],
   "source": [
    "from sklearn.preprocessing import LabelBinarizer\n",
    "\n",
    "def one_hot_encode(x):\n",
    "    \"\"\"\n",
    "    One hot encode a list of sample labels. Return a one-hot encoded vector for each label.\n",
    "    : x: List of sample Labels\n",
    "    : return: Numpy array of one-hot encoded labels\n",
    "    \"\"\"\n",
    "    # The possible values for labels are 0 to 9. 10 in total\n",
    "    return np.eye(10)[x]\n",
    "\n",
    "\n",
    "\"\"\"\n",
    "DON'T MODIFY ANYTHING IN THIS CELL THAT IS BELOW THIS LINE\n",
    "\"\"\"\n",
    "tests.test_one_hot_encode(one_hot_encode)"
   ]
  },
  {
   "cell_type": "code",
   "execution_count": 5,
   "metadata": {},
   "outputs": [],
   "source": [
    "# Preprocess Training, Validation, and Testing Data\n",
    "helper.preprocess_and_save_data(cifar10_dataset_folder_path, normalize, one_hot_encode)"
   ]
  },
  {
   "cell_type": "code",
   "execution_count": 7,
   "metadata": {},
   "outputs": [],
   "source": [
    "import pickle\n",
    "\n",
    "# Load the Preprocessed Validation data\n",
    "valid_features, valid_labels = pickle.load(open('preprocess_validation.p', mode='rb'))"
   ]
  },
  {
   "cell_type": "code",
   "execution_count": 9,
   "metadata": {},
   "outputs": [
    {
     "name": "stdout",
     "output_type": "stream",
     "text": [
      "Image Input Tests Passed.\n",
      "Label Input Tests Passed.\n",
      "Keep Prob Tests Passed.\n"
     ]
    }
   ],
   "source": [
    "\n",
    "import tensorflow  as tf\n",
    "\n",
    "def neural_net_image_input(image_shape):\n",
    "    \"\"\"\n",
    "    Return a Tensor for a batch of image input\n",
    "    : image_shape: Shape of the images\n",
    "    : return: Tensor for image input.\n",
    "    \"\"\"\n",
    "    return tf.placeholder(tf.float32, shape=[None, *image_shape], name = \"x\")\n",
    "\n",
    "\n",
    "def neural_net_label_input(n_classes):\n",
    "    \"\"\"\n",
    "    Return a Tensor for a batch of label input\n",
    "    : n_classes: Number of classes\n",
    "    : return: Tensor for label input.\n",
    "    \"\"\"\n",
    "    return tf.placeholder(tf.float32, shape=[None, n_classes], name = \"y\")\n",
    "\n",
    "\n",
    "def neural_net_keep_prob_input():\n",
    "    \"\"\"\n",
    "    Return a Tensor for keep probability\n",
    "    : return: Tensor for keep probability.\n",
    "    \"\"\"\n",
    "    return tf.placeholder(tf.float32, name=\"keep_prob\")\n",
    "\n",
    "\n",
    "\"\"\"\n",
    "DON'T MODIFY ANYTHING IN THIS CELL THAT IS BELOW THIS LINE\n",
    "\"\"\"\n",
    "tf.reset_default_graph()\n",
    "tests.test_nn_image_inputs(neural_net_image_input)\n",
    "tests.test_nn_label_inputs(neural_net_label_input)\n",
    "tests.test_nn_keep_prob_inputs(neural_net_keep_prob_input)"
   ]
  },
  {
   "cell_type": "code",
   "execution_count": 10,
   "metadata": {},
   "outputs": [
    {
     "name": "stdout",
     "output_type": "stream",
     "text": [
      "Tests Passed\n"
     ]
    }
   ],
   "source": [
    "def conv2d_maxpool(x_tensor, conv_num_outputs, conv_ksize, conv_strides, pool_ksize, pool_strides):\n",
    "    \"\"\"\n",
    "    Apply convolution then max pooling to x_tensor\n",
    "    :param x_tensor: TensorFlow Tensor\n",
    "    :param conv_num_outputs: Number of outputs for the convolutional layer\n",
    "    :param conv_ksize: kernal size 2-D Tuple for the convolutional layer\n",
    "    :param conv_strides: Stride 2-D Tuple for convolution\n",
    "    :param pool_ksize: kernal size 2-D Tuple for pool\n",
    "    :param pool_strides: Stride 2-D Tuple for pool\n",
    "    : return: A tensor that represents convolution and max pooling of x_tensor\n",
    "    \"\"\"\n",
    "    # x_tensor.get_shape()\n",
    "    # >> (?, 32, 32, 5)\n",
    "    input_depth = x_tensor.shape[-1].value\n",
    "\n",
    "    weights = tf.Variable(\n",
    "        tf.truncated_normal(\n",
    "            shape=[\n",
    "                conv_ksize[0], # height\n",
    "                conv_ksize[1], # width\n",
    "                input_depth, # input_depth\n",
    "                conv_num_outputs # out_depth\n",
    "            ], \n",
    "            mean=0.0,\n",
    "            stddev=0.1\n",
    "        ),\n",
    "        name='weights'\n",
    "    )\n",
    "    bias = tf.Variable(tf.zeros(conv_num_outputs), trainable=True)\n",
    "    \n",
    "    # Apply a convolution to x_tensor using weight and conv_strides\n",
    "    conv_layer = tf.nn.conv2d(\n",
    "        x_tensor, \n",
    "        weights, \n",
    "        strides=[1, *conv_strides, 1], \n",
    "        padding='SAME'\n",
    "    )\n",
    "    \n",
    "    # Add bias\n",
    "    conv_layer = tf.nn.bias_add(conv_layer, bias)\n",
    "    \n",
    "    # Add a nonlinear activation to the convolution\n",
    "    conv_layer = tf.nn.relu(conv_layer)\n",
    "    \n",
    "    # Apply Max Pooling using pool_ksize and pool_strides\n",
    "    conv_layer = tf.nn.max_pool(\n",
    "        conv_layer, \n",
    "        ksize=[1, *pool_ksize, 1], \n",
    "        strides=[1, *pool_strides, 1], \n",
    "        padding='SAME'\n",
    "    )\n",
    "    \n",
    "    return conv_layer \n",
    "\n",
    "\"\"\"\n",
    "DON'T MODIFY ANYTHING IN THIS CELL THAT IS BELOW THIS LINE\n",
    "\"\"\"\n",
    "tests.test_con_pool(conv2d_maxpool)"
   ]
  },
  {
   "cell_type": "code",
   "execution_count": 11,
   "metadata": {},
   "outputs": [
    {
     "name": "stdout",
     "output_type": "stream",
     "text": [
      "Tests Passed\n"
     ]
    }
   ],
   "source": [
    "def flatten(x_tensor):\n",
    "    \"\"\"\n",
    "    Flatten x_tensor to (Batch Size, Flattened Image Size)\n",
    "    : x_tensor: A tensor of size (Batch Size, ...), where ... are the image dimensions.\n",
    "    : return: A tensor of size (Batch Size, Flattened Image Size).\n",
    "    \"\"\"\n",
    "    # print(x_tensor.get_shape()[1:4].num_elements())\n",
    "    return tf.reshape(x_tensor, [-1, x_tensor.get_shape()[1:4].num_elements()])\n",
    "\n",
    "\n",
    "\"\"\"\n",
    "DON'T MODIFY ANYTHING IN THIS CELL THAT IS BELOW THIS LINE\n",
    "\"\"\"\n",
    "tests.test_flatten(flatten)"
   ]
  },
  {
   "cell_type": "code",
   "execution_count": 13,
   "metadata": {},
   "outputs": [
    {
     "name": "stdout",
     "output_type": "stream",
     "text": [
      "Tests Passed\n"
     ]
    }
   ],
   "source": [
    "\n",
    "def  fully_conn(x_tensor, num_outputs):\n",
    "    \"\"\"\n",
    "    Apply a fully connected layer to x_tensor using weight and bias\n",
    "    : x_tensor: A 2-D tensor where the first dimension is batch size.\n",
    "    : num_outputs: The number of output that the new tensor should be.\n",
    "    : return: A 2-D tensor where the second dimension is num_outputs.\n",
    "    \"\"\"\n",
    "    batch_size = x_tensor.shape[1].value\n",
    "    weights = tf.Variable(\n",
    "        tf.truncated_normal(\n",
    "            [batch_size, num_outputs],\n",
    "            mean = 0,\n",
    "            stddev=0.1)\n",
    "    )\n",
    "    bias = tf.Variable(tf.zeros(num_outputs))\n",
    "\n",
    "    fully_conn_layer = tf.matmul(x_tensor, weights)\n",
    "    fully_conn_layer = tf.nn.bias_add(fully_conn_layer, bias)\n",
    "    fully_conn_layer = tf.nn.relu(fully_conn_layer)\n",
    "\n",
    "    return fully_conn_layer\n",
    "\n",
    "\n",
    "\"\"\"\n",
    "DON'T MODIFY ANYTHING IN THIS CELL THAT IS BELOW THIS LINE\n",
    "\"\"\"\n",
    "tests.test_fully_conn(fully_conn)"
   ]
  },
  {
   "cell_type": "code",
   "execution_count": 15,
   "metadata": {},
   "outputs": [
    {
     "name": "stdout",
     "output_type": "stream",
     "text": [
      "Tests Passed\n"
     ]
    }
   ],
   "source": [
    "\n",
    "def output(x_tensor, num_outputs):\n",
    "    \"\"\"\n",
    "    Apply a output layer to x_tensor using weight and bias\n",
    "    : x_tensor: A 2-D tensor where the first dimension is batch size.\n",
    "    : num_outputs: The number of output that the new tensor should be.\n",
    "    : return: A 2-D tensor where the second dimension is num_outputs.\n",
    "    \"\"\"\n",
    "    batch_size = x_tensor.shape[1].value\n",
    "    weights = tf.Variable(\n",
    "        tf.truncated_normal(\n",
    "            [batch_size, num_outputs],\n",
    "            mean = 0,\n",
    "            stddev=0.1)\n",
    "    )\n",
    "    bias = tf.Variable(tf.zeros(num_outputs))\n",
    "    \n",
    "    output_layer = tf.matmul(x_tensor, weights)\n",
    "    output_layer = tf.nn.bias_add(output_layer, bias)\n",
    "    \n",
    "    return output_layer\n",
    "\n",
    "\n",
    "\"\"\"\n",
    "DON'T MODIFY ANYTHING IN THIS CELL THAT IS BELOW THIS LINE\n",
    "\"\"\"\n",
    "tests.test_output(output)"
   ]
  },
  {
   "cell_type": "code",
   "execution_count": 16,
   "metadata": {},
   "outputs": [
    {
     "name": "stdout",
     "output_type": "stream",
     "text": [
      "WARNING:tensorflow:From <ipython-input-16-16f4125fcb72>:70: softmax_cross_entropy_with_logits (from tensorflow.python.ops.nn_ops) is deprecated and will be removed in a future version.\n",
      "Instructions for updating:\n",
      "\n",
      "Future major versions of TensorFlow will allow gradients to flow\n",
      "into the labels input on backprop by default.\n",
      "\n",
      "See tf.nn.softmax_cross_entropy_with_logits_v2.\n",
      "\n",
      "Neural Network Built!\n"
     ]
    }
   ],
   "source": [
    "def conv_net(x, keep_prob):\n",
    "    \"\"\"\n",
    "    Create a convolutional neural network model\n",
    "    : x: Placeholder tensor that holds image data.\n",
    "    : keep_prob: Placeholder tensor that hold dropout keep probability.\n",
    "    : return: Tensor that represents logits\n",
    "    \"\"\"\n",
    "    conv_num_outputs_layer1 = 32\n",
    "    conv_num_outputs_layer2 = 64\n",
    "    conv_num_outputs_layer3 = 128\n",
    "    fully_conn_num_outputs_layer_1 = 256\n",
    "    fully_conn_num_outputs_layer_2 = 512\n",
    "    conv_ksize = (5, 5)\n",
    "    conv_strides = (1, 1)\n",
    "    pool_ksize = (2, 2)\n",
    "    pool_strides = (2, 2)\n",
    "    \n",
    "    common_params = [conv_ksize, conv_strides, pool_ksize, pool_strides]\n",
    "    \n",
    "    # Apply 1, 2, or 3 Convolution and Max Pool layers\n",
    "    conv_layer_1 = conv2d_maxpool(x, conv_num_outputs_layer1, *common_params)\n",
    "    conv_layer_1 = tf.nn.dropout(conv_layer_1, keep_prob)\n",
    "    \n",
    "    conv_layer_2 = conv2d_maxpool(conv_layer_1, conv_num_outputs_layer2, *common_params)\n",
    "    conv_layer_2 = tf.nn.dropout(conv_layer_2, keep_prob)\n",
    "    \n",
    "    conv_layer_3 = conv2d_maxpool(conv_layer_2, conv_num_outputs_layer3, *common_params)\n",
    "    conv_layer_3 = tf.nn.dropout(conv_layer_3, keep_prob)\n",
    "    \n",
    "    # Apply a Flatten Layer\n",
    "    flatten_layer_1 = flatten(conv_layer_3)\n",
    "\n",
    "    # Apply 1, 2, or 3 Fully Connected Layers\n",
    "    fully_conn_layer_1 = fully_conn(flatten_layer_1, fully_conn_num_outputs_layer_1)\n",
    "    fully_conn_layer_1 = tf.nn.dropout(fully_conn_layer_1, keep_prob)\n",
    "    fully_conn_layer_2 = fully_conn(flatten_layer_1, fully_conn_num_outputs_layer_2)\n",
    "    fully_conn_layer_2 = tf.nn.dropout(fully_conn_layer_2, keep_prob)\n",
    "    \n",
    "    \n",
    "    # Apply an Output Layer\n",
    "    num_outputs = 10 # 10 classes\n",
    "    output_layer = output(fully_conn_layer_2, num_outputs)\n",
    "    \n",
    "    return output_layer\n",
    "\n",
    "\n",
    "\"\"\"\n",
    "DON'T MODIFY ANYTHING IN THIS CELL THAT IS BELOW THIS LINE\n",
    "\"\"\"\n",
    "\n",
    "##############################\n",
    "## Build the Neural Network ##\n",
    "##############################\n",
    "\n",
    "# Remove previous weights, bias, inputs, etc..\n",
    "tf.reset_default_graph()\n",
    "\n",
    "# Inputs\n",
    "x = neural_net_image_input((32, 32, 3))\n",
    "y = neural_net_label_input(10)\n",
    "keep_prob = neural_net_keep_prob_input()\n",
    "\n",
    "# Model\n",
    "logits = conv_net(x, keep_prob)\n",
    "\n",
    "# Name logits Tensor, so that is can be loaded from disk after training\n",
    "logits = tf.identity(logits, name='logits')\n",
    "\n",
    "# Loss and Optimizer\n",
    "cost = tf.reduce_mean(tf.nn.softmax_cross_entropy_with_logits(logits=logits, labels=y))\n",
    "optimizer = tf.train.AdamOptimizer().minimize(cost)\n",
    "\n",
    "# Accuracy\n",
    "correct_pred = tf.equal(tf.argmax(logits, 1), tf.argmax(y, 1))\n",
    "accuracy = tf.reduce_mean(tf.cast(correct_pred, tf.float32), name='accuracy')\n",
    "\n",
    "tests.test_conv_net(conv_net)"
   ]
  },
  {
   "cell_type": "code",
   "execution_count": 17,
   "metadata": {},
   "outputs": [
    {
     "name": "stdout",
     "output_type": "stream",
     "text": [
      "Tests Passed\n"
     ]
    }
   ],
   "source": [
    "def train_neural_network(session, optimizer, keep_probability, feature_batch, label_batch):\n",
    "    \"\"\"\n",
    "    Optimize the session on a batch of images and labels\n",
    "    : session: Current TensorFlow session\n",
    "    : optimizer: TensorFlow optimizer function\n",
    "    : keep_probability: keep probability\n",
    "    : feature_batch: Batch of Numpy image data\n",
    "    : label_batch: Batch of Numpy label data\n",
    "    \"\"\"\n",
    "    session.run(optimizer, feed_dict={x: feature_batch, y: label_batch, keep_prob: keep_probability})\n",
    "\n",
    "\n",
    "\"\"\"\n",
    "DON'T MODIFY ANYTHING IN THIS CELL THAT IS BELOW THIS LINE\n",
    "\"\"\"\n",
    "tests.test_train_nn(train_neural_network)"
   ]
  },
  {
   "cell_type": "code",
   "execution_count": 19,
   "metadata": {},
   "outputs": [],
   "source": [
    "def print_stats(session, feature_batch, label_batch, cost, accuracy):\n",
    "    \"\"\"\n",
    "    Print information about loss and validation accuracy\n",
    "    : session: Current TensorFlow session\n",
    "    : feature_batch: Batch of Numpy image data\n",
    "    : label_batch: Batch of Numpy label data\n",
    "    : cost: TensorFlow cost function\n",
    "    : accuracy: TensorFlow accuracy function\n",
    "    \"\"\"\n",
    "    loss = session.run(cost, feed_dict={x: feature_batch, y: label_batch, keep_prob: 1.0})\n",
    "    accuracy = session.run(accuracy, feed_dict={x: valid_features, y: valid_labels, keep_prob: 1.0})\n",
    "    print(\"Loss: {} Accuracy: {}\".format(loss, accuracy))"
   ]
  },
  {
   "cell_type": "code",
   "execution_count": 20,
   "metadata": {},
   "outputs": [],
   "source": [
    "epochs = 35\n",
    "batch_size = 128\n",
    "keep_probability = 0.75"
   ]
  },
  {
   "cell_type": "code",
   "execution_count": 21,
   "metadata": {},
   "outputs": [
    {
     "name": "stdout",
     "output_type": "stream",
     "text": [
      "Checking the Training on a Single Batch...\n",
      "Epoch  1, CIFAR-10 Batch 1:  Loss: 2.1440582275390625 Accuracy: 0.2533999979496002\n",
      "Epoch  2, CIFAR-10 Batch 1:  Loss: 1.9853413105010986 Accuracy: 0.37299999594688416\n",
      "Epoch  3, CIFAR-10 Batch 1:  Loss: 1.8013499975204468 Accuracy: 0.40619999170303345\n",
      "Epoch  4, CIFAR-10 Batch 1:  Loss: 1.707615613937378 Accuracy: 0.43799999356269836\n",
      "Epoch  5, CIFAR-10 Batch 1:  Loss: 1.6751010417938232 Accuracy: 0.4440000057220459\n",
      "Epoch  6, CIFAR-10 Batch 1:  Loss: 1.6000149250030518 Accuracy: 0.46700000762939453\n",
      "Epoch  7, CIFAR-10 Batch 1:  Loss: 1.5259202718734741 Accuracy: 0.4796000123023987\n",
      "Epoch  8, CIFAR-10 Batch 1:  Loss: 1.433312177658081 Accuracy: 0.4878000020980835\n",
      "Epoch  9, CIFAR-10 Batch 1:  Loss: 1.3200740814208984 Accuracy: 0.4970000088214874\n",
      "Epoch 10, CIFAR-10 Batch 1:  Loss: 1.2183377742767334 Accuracy: 0.5072000026702881\n",
      "Epoch 11, CIFAR-10 Batch 1:  Loss: 1.1643009185791016 Accuracy: 0.524399995803833\n",
      "Epoch 12, CIFAR-10 Batch 1:  Loss: 1.1242454051971436 Accuracy: 0.5220000147819519\n",
      "Epoch 13, CIFAR-10 Batch 1:  Loss: 1.0079034566879272 Accuracy: 0.5371999740600586\n",
      "Epoch 14, CIFAR-10 Batch 1:  Loss: 0.9129346609115601 Accuracy: 0.5587999820709229\n",
      "Epoch 15, CIFAR-10 Batch 1:  Loss: 0.8294543027877808 Accuracy: 0.5526000261306763\n",
      "Epoch 16, CIFAR-10 Batch 1:  Loss: 0.7685070633888245 Accuracy: 0.5601999759674072\n",
      "Epoch 17, CIFAR-10 Batch 1:  Loss: 0.7211156487464905 Accuracy: 0.573199987411499\n",
      "Epoch 18, CIFAR-10 Batch 1:  Loss: 0.6825512647628784 Accuracy: 0.5722000002861023\n",
      "Epoch 19, CIFAR-10 Batch 1:  Loss: 0.5864778757095337 Accuracy: 0.5809999704360962\n",
      "Epoch 20, CIFAR-10 Batch 1:  Loss: 0.5338411331176758 Accuracy: 0.5906000137329102\n",
      "Epoch 21, CIFAR-10 Batch 1:  Loss: 0.5064983367919922 Accuracy: 0.5878000259399414\n",
      "Epoch 22, CIFAR-10 Batch 1:  Loss: 0.48126477003097534 Accuracy: 0.5932000279426575\n",
      "Epoch 23, CIFAR-10 Batch 1:  Loss: 0.4506593644618988 Accuracy: 0.5920000076293945\n",
      "Epoch 24, CIFAR-10 Batch 1:  Loss: 0.3808378577232361 Accuracy: 0.5982000231742859\n",
      "Epoch 25, CIFAR-10 Batch 1:  Loss: 0.3546445965766907 Accuracy: 0.598800003528595\n",
      "Epoch 26, CIFAR-10 Batch 1:  Loss: 0.32189616560935974 Accuracy: 0.6075999736785889\n",
      "Epoch 27, CIFAR-10 Batch 1:  Loss: 0.291931688785553 Accuracy: 0.6154000163078308\n",
      "Epoch 28, CIFAR-10 Batch 1:  Loss: 0.24844388663768768 Accuracy: 0.6140000224113464\n",
      "Epoch 29, CIFAR-10 Batch 1:  Loss: 0.23918089270591736 Accuracy: 0.6154000163078308\n",
      "Epoch 30, CIFAR-10 Batch 1:  Loss: 0.23406025767326355 Accuracy: 0.6019999980926514\n",
      "Epoch 31, CIFAR-10 Batch 1:  Loss: 0.20346081256866455 Accuracy: 0.6208000183105469\n",
      "Epoch 32, CIFAR-10 Batch 1:  Loss: 0.17732298374176025 Accuracy: 0.6200000047683716\n",
      "Epoch 33, CIFAR-10 Batch 1:  Loss: 0.1509588211774826 Accuracy: 0.6226000189781189\n",
      "Epoch 34, CIFAR-10 Batch 1:  Loss: 0.13164328038692474 Accuracy: 0.6304000020027161\n",
      "Epoch 35, CIFAR-10 Batch 1:  Loss: 0.13211221992969513 Accuracy: 0.621399998664856\n"
     ]
    }
   ],
   "source": [
    "print('Checking the Training on a Single Batch...')\n",
    "with tf.Session() as sess:\n",
    "    # Initializing the variables\n",
    "    sess.run(tf.global_variables_initializer())\n",
    "    \n",
    "    # Training cycle\n",
    "    for epoch in range(epochs):\n",
    "        batch_i = 1\n",
    "        for batch_features, batch_labels in helper.load_preprocess_training_batch(batch_i, batch_size):\n",
    "            train_neural_network(sess, optimizer, keep_probability, batch_features, batch_labels)\n",
    "        print('Epoch {:>2}, CIFAR-10 Batch {}:  '.format(epoch + 1, batch_i), end='')\n",
    "        print_stats(sess, batch_features, batch_labels, cost, accuracy)"
   ]
  },
  {
   "cell_type": "code",
   "execution_count": 22,
   "metadata": {},
   "outputs": [
    {
     "name": "stdout",
     "output_type": "stream",
     "text": [
      "Training...\n",
      "Epoch  1, CIFAR-10 Batch 1:  Loss: 2.1894962787628174 Accuracy: 0.24719999730587006\n",
      "Epoch  1, CIFAR-10 Batch 2:  Loss: 1.871978759765625 Accuracy: 0.35839998722076416\n",
      "Epoch  1, CIFAR-10 Batch 3:  Loss: 1.6331713199615479 Accuracy: 0.40139999985694885\n",
      "Epoch  1, CIFAR-10 Batch 4:  Loss: 1.5596545934677124 Accuracy: 0.4323999881744385\n",
      "Epoch  1, CIFAR-10 Batch 5:  Loss: 1.6590408086776733 Accuracy: 0.46639999747276306\n",
      "Epoch  2, CIFAR-10 Batch 1:  Loss: 1.592511773109436 Accuracy: 0.4862000048160553\n",
      "Epoch  2, CIFAR-10 Batch 2:  Loss: 1.5006945133209229 Accuracy: 0.49079999327659607\n",
      "Epoch  2, CIFAR-10 Batch 3:  Loss: 1.3518387079238892 Accuracy: 0.49959999322891235\n",
      "Epoch  2, CIFAR-10 Batch 4:  Loss: 1.3065439462661743 Accuracy: 0.5235999822616577\n",
      "Epoch  2, CIFAR-10 Batch 5:  Loss: 1.4999433755874634 Accuracy: 0.5175999999046326\n",
      "Epoch  3, CIFAR-10 Batch 1:  Loss: 1.3908640146255493 Accuracy: 0.5541999936103821\n",
      "Epoch  3, CIFAR-10 Batch 2:  Loss: 1.3135180473327637 Accuracy: 0.5540000200271606\n",
      "Epoch  3, CIFAR-10 Batch 3:  Loss: 1.1810383796691895 Accuracy: 0.5314000248908997\n",
      "Epoch  3, CIFAR-10 Batch 4:  Loss: 1.085153341293335 Accuracy: 0.5672000050544739\n",
      "Epoch  3, CIFAR-10 Batch 5:  Loss: 1.313072681427002 Accuracy: 0.5598000288009644\n",
      "Epoch  4, CIFAR-10 Batch 1:  Loss: 1.270268201828003 Accuracy: 0.590399980545044\n",
      "Epoch  4, CIFAR-10 Batch 2:  Loss: 1.149993658065796 Accuracy: 0.5870000123977661\n",
      "Epoch  4, CIFAR-10 Batch 3:  Loss: 0.9226967096328735 Accuracy: 0.5946000218391418\n",
      "Epoch  4, CIFAR-10 Batch 4:  Loss: 0.9947824478149414 Accuracy: 0.5992000102996826\n",
      "Epoch  4, CIFAR-10 Batch 5:  Loss: 1.2152304649353027 Accuracy: 0.6159999966621399\n",
      "Epoch  5, CIFAR-10 Batch 1:  Loss: 1.0434597730636597 Accuracy: 0.6255999803543091\n",
      "Epoch  5, CIFAR-10 Batch 2:  Loss: 1.0505340099334717 Accuracy: 0.631600022315979\n",
      "Epoch  5, CIFAR-10 Batch 3:  Loss: 0.8528900146484375 Accuracy: 0.6033999919891357\n",
      "Epoch  5, CIFAR-10 Batch 4:  Loss: 0.8535685539245605 Accuracy: 0.640999972820282\n",
      "Epoch  5, CIFAR-10 Batch 5:  Loss: 1.1237068176269531 Accuracy: 0.600600004196167\n",
      "Epoch  6, CIFAR-10 Batch 1:  Loss: 0.9562582969665527 Accuracy: 0.6567999720573425\n",
      "Epoch  6, CIFAR-10 Batch 2:  Loss: 0.9642267227172852 Accuracy: 0.6370000243186951\n",
      "Epoch  6, CIFAR-10 Batch 3:  Loss: 0.6746963858604431 Accuracy: 0.6389999985694885\n",
      "Epoch  6, CIFAR-10 Batch 4:  Loss: 0.7120538353919983 Accuracy: 0.6625999808311462\n",
      "Epoch  6, CIFAR-10 Batch 5:  Loss: 0.9241174459457397 Accuracy: 0.6416000127792358\n",
      "Epoch  7, CIFAR-10 Batch 1:  Loss: 0.9127047657966614 Accuracy: 0.6728000044822693\n",
      "Epoch  7, CIFAR-10 Batch 2:  Loss: 0.8319807052612305 Accuracy: 0.6643999814987183\n",
      "Epoch  7, CIFAR-10 Batch 3:  Loss: 0.6329717636108398 Accuracy: 0.651199996471405\n",
      "Epoch  7, CIFAR-10 Batch 4:  Loss: 0.5803256034851074 Accuracy: 0.6725999712944031\n",
      "Epoch  7, CIFAR-10 Batch 5:  Loss: 0.788493812084198 Accuracy: 0.6611999869346619\n",
      "Epoch  8, CIFAR-10 Batch 1:  Loss: 0.7650814652442932 Accuracy: 0.6700000166893005\n",
      "Epoch  8, CIFAR-10 Batch 2:  Loss: 0.7410322427749634 Accuracy: 0.6814000010490417\n",
      "Epoch  8, CIFAR-10 Batch 3:  Loss: 0.4810789227485657 Accuracy: 0.6848000288009644\n",
      "Epoch  8, CIFAR-10 Batch 4:  Loss: 0.47398215532302856 Accuracy: 0.6869999766349792\n",
      "Epoch  8, CIFAR-10 Batch 5:  Loss: 0.6925620436668396 Accuracy: 0.6679999828338623\n",
      "Epoch  9, CIFAR-10 Batch 1:  Loss: 0.6756271123886108 Accuracy: 0.6869999766349792\n",
      "Epoch  9, CIFAR-10 Batch 2:  Loss: 0.6535733938217163 Accuracy: 0.6863999962806702\n",
      "Epoch  9, CIFAR-10 Batch 3:  Loss: 0.45735421776771545 Accuracy: 0.6899999976158142\n",
      "Epoch  9, CIFAR-10 Batch 4:  Loss: 0.4788931906223297 Accuracy: 0.6941999793052673\n",
      "Epoch  9, CIFAR-10 Batch 5:  Loss: 0.6527211666107178 Accuracy: 0.6845999956130981\n",
      "Epoch 10, CIFAR-10 Batch 1:  Loss: 0.6094238758087158 Accuracy: 0.7057999968528748\n",
      "Epoch 10, CIFAR-10 Batch 2:  Loss: 0.5860332250595093 Accuracy: 0.6855999827384949\n",
      "Epoch 10, CIFAR-10 Batch 3:  Loss: 0.41656750440597534 Accuracy: 0.6908000111579895\n",
      "Epoch 10, CIFAR-10 Batch 4:  Loss: 0.45472389459609985 Accuracy: 0.704200029373169\n",
      "Epoch 10, CIFAR-10 Batch 5:  Loss: 0.5307084321975708 Accuracy: 0.7020000219345093\n",
      "Epoch 11, CIFAR-10 Batch 1:  Loss: 0.5848677158355713 Accuracy: 0.7095999717712402\n",
      "Epoch 11, CIFAR-10 Batch 2:  Loss: 0.5280129313468933 Accuracy: 0.703000009059906\n",
      "Epoch 11, CIFAR-10 Batch 3:  Loss: 0.3155601918697357 Accuracy: 0.7116000056266785\n",
      "Epoch 11, CIFAR-10 Batch 4:  Loss: 0.3266926407814026 Accuracy: 0.7200000286102295\n",
      "Epoch 11, CIFAR-10 Batch 5:  Loss: 0.5252863764762878 Accuracy: 0.6808000206947327\n",
      "Epoch 12, CIFAR-10 Batch 1:  Loss: 0.5132883787155151 Accuracy: 0.7188000082969666\n",
      "Epoch 12, CIFAR-10 Batch 2:  Loss: 0.44527387619018555 Accuracy: 0.7224000096321106\n",
      "Epoch 12, CIFAR-10 Batch 3:  Loss: 0.2535463273525238 Accuracy: 0.717199981212616\n",
      "Epoch 12, CIFAR-10 Batch 4:  Loss: 0.3049313426017761 Accuracy: 0.7260000109672546\n",
      "Epoch 12, CIFAR-10 Batch 5:  Loss: 0.3496978282928467 Accuracy: 0.7279999852180481\n",
      "Epoch 13, CIFAR-10 Batch 1:  Loss: 0.44473084807395935 Accuracy: 0.7279999852180481\n",
      "Epoch 13, CIFAR-10 Batch 2:  Loss: 0.4020976424217224 Accuracy: 0.7342000007629395\n",
      "Epoch 13, CIFAR-10 Batch 3:  Loss: 0.23358197510242462 Accuracy: 0.7332000136375427\n",
      "Epoch 13, CIFAR-10 Batch 4:  Loss: 0.2627113461494446 Accuracy: 0.729200005531311\n",
      "Epoch 13, CIFAR-10 Batch 5:  Loss: 0.2813280522823334 Accuracy: 0.7343999743461609\n",
      "Epoch 14, CIFAR-10 Batch 1:  Loss: 0.3841521441936493 Accuracy: 0.7297999858856201\n",
      "Epoch 14, CIFAR-10 Batch 2:  Loss: 0.34222325682640076 Accuracy: 0.7289999723434448\n",
      "Epoch 14, CIFAR-10 Batch 3:  Loss: 0.2759475111961365 Accuracy: 0.7247999906539917\n",
      "Epoch 14, CIFAR-10 Batch 4:  Loss: 0.2556704878807068 Accuracy: 0.7360000014305115\n",
      "Epoch 14, CIFAR-10 Batch 5:  Loss: 0.24527788162231445 Accuracy: 0.7391999959945679\n",
      "Epoch 15, CIFAR-10 Batch 1:  Loss: 0.3695748746395111 Accuracy: 0.7260000109672546\n",
      "Epoch 15, CIFAR-10 Batch 2:  Loss: 0.34597069025039673 Accuracy: 0.7206000089645386\n",
      "Epoch 15, CIFAR-10 Batch 3:  Loss: 0.18969449400901794 Accuracy: 0.7351999878883362\n",
      "Epoch 15, CIFAR-10 Batch 4:  Loss: 0.20351257920265198 Accuracy: 0.7405999898910522\n",
      "Epoch 15, CIFAR-10 Batch 5:  Loss: 0.22449341416358948 Accuracy: 0.7423999905586243\n",
      "Epoch 16, CIFAR-10 Batch 1:  Loss: 0.30580323934555054 Accuracy: 0.7379999756813049\n",
      "Epoch 16, CIFAR-10 Batch 2:  Loss: 0.23543040454387665 Accuracy: 0.7387999892234802\n",
      "Epoch 16, CIFAR-10 Batch 3:  Loss: 0.14784586429595947 Accuracy: 0.7391999959945679\n",
      "Epoch 16, CIFAR-10 Batch 4:  Loss: 0.2238142043352127 Accuracy: 0.7462000250816345\n",
      "Epoch 16, CIFAR-10 Batch 5:  Loss: 0.18095402419567108 Accuracy: 0.7459999918937683\n",
      "Epoch 17, CIFAR-10 Batch 1:  Loss: 0.23310455679893494 Accuracy: 0.7429999709129333\n",
      "Epoch 17, CIFAR-10 Batch 2:  Loss: 0.18910381197929382 Accuracy: 0.7429999709129333\n",
      "Epoch 17, CIFAR-10 Batch 3:  Loss: 0.1633956879377365 Accuracy: 0.741599977016449\n",
      "Epoch 17, CIFAR-10 Batch 4:  Loss: 0.21940107643604279 Accuracy: 0.7526000142097473\n",
      "Epoch 17, CIFAR-10 Batch 5:  Loss: 0.15239295363426208 Accuracy: 0.748199999332428\n",
      "Epoch 18, CIFAR-10 Batch 1:  Loss: 0.18889489769935608 Accuracy: 0.7490000128746033\n",
      "Epoch 18, CIFAR-10 Batch 2:  Loss: 0.16082260012626648 Accuracy: 0.7495999932289124\n",
      "Epoch 18, CIFAR-10 Batch 3:  Loss: 0.13010479509830475 Accuracy: 0.7549999952316284\n",
      "Epoch 18, CIFAR-10 Batch 4:  Loss: 0.22701287269592285 Accuracy: 0.7480000257492065\n",
      "Epoch 18, CIFAR-10 Batch 5:  Loss: 0.14486519992351532 Accuracy: 0.7598000168800354\n",
      "Epoch 19, CIFAR-10 Batch 1:  Loss: 0.1682213842868805 Accuracy: 0.7558000087738037\n",
      "Epoch 19, CIFAR-10 Batch 2:  Loss: 0.1072324737906456 Accuracy: 0.7523999810218811\n",
      "Epoch 19, CIFAR-10 Batch 3:  Loss: 0.11951799690723419 Accuracy: 0.7609999775886536\n"
     ]
    },
    {
     "ename": "KeyboardInterrupt",
     "evalue": "",
     "output_type": "error",
     "traceback": [
      "\u001b[1;31m---------------------------------------------------------------------------\u001b[0m",
      "\u001b[1;31mKeyboardInterrupt\u001b[0m                         Traceback (most recent call last)",
      "\u001b[1;32m<ipython-input-22-39ab38a8a1d4>\u001b[0m in \u001b[0;36m<module>\u001b[1;34m()\u001b[0m\n\u001b[0;32m     12\u001b[0m        \u001b[1;32mfor\u001b[0m \u001b[0mbatch_i\u001b[0m \u001b[1;32min\u001b[0m \u001b[0mrange\u001b[0m\u001b[1;33m(\u001b[0m\u001b[1;36m1\u001b[0m\u001b[1;33m,\u001b[0m \u001b[0mn_batches\u001b[0m \u001b[1;33m+\u001b[0m \u001b[1;36m1\u001b[0m\u001b[1;33m)\u001b[0m\u001b[1;33m:\u001b[0m\u001b[1;33m\u001b[0m\u001b[0m\n\u001b[0;32m     13\u001b[0m            \u001b[1;32mfor\u001b[0m \u001b[0mbatch_features\u001b[0m\u001b[1;33m,\u001b[0m \u001b[0mbatch_labels\u001b[0m \u001b[1;32min\u001b[0m \u001b[0mhelper\u001b[0m\u001b[1;33m.\u001b[0m\u001b[0mload_preprocess_training_batch\u001b[0m\u001b[1;33m(\u001b[0m\u001b[0mbatch_i\u001b[0m\u001b[1;33m,\u001b[0m \u001b[0mbatch_size\u001b[0m\u001b[1;33m)\u001b[0m\u001b[1;33m:\u001b[0m\u001b[1;33m\u001b[0m\u001b[0m\n\u001b[1;32m---> 14\u001b[1;33m                \u001b[0mtrain_neural_network\u001b[0m\u001b[1;33m(\u001b[0m\u001b[0msess\u001b[0m\u001b[1;33m,\u001b[0m \u001b[0moptimizer\u001b[0m\u001b[1;33m,\u001b[0m \u001b[0mkeep_probability\u001b[0m\u001b[1;33m,\u001b[0m \u001b[0mbatch_features\u001b[0m\u001b[1;33m,\u001b[0m \u001b[0mbatch_labels\u001b[0m\u001b[1;33m)\u001b[0m\u001b[1;33m\u001b[0m\u001b[0m\n\u001b[0m\u001b[0;32m     15\u001b[0m            \u001b[0mprint\u001b[0m\u001b[1;33m(\u001b[0m\u001b[1;34m'Epoch {:>2}, CIFAR-10 Batch {}:  '\u001b[0m\u001b[1;33m.\u001b[0m\u001b[0mformat\u001b[0m\u001b[1;33m(\u001b[0m\u001b[0mepoch\u001b[0m \u001b[1;33m+\u001b[0m \u001b[1;36m1\u001b[0m\u001b[1;33m,\u001b[0m \u001b[0mbatch_i\u001b[0m\u001b[1;33m)\u001b[0m\u001b[1;33m,\u001b[0m \u001b[0mend\u001b[0m\u001b[1;33m=\u001b[0m\u001b[1;34m''\u001b[0m\u001b[1;33m)\u001b[0m\u001b[1;33m\u001b[0m\u001b[0m\n\u001b[0;32m     16\u001b[0m            \u001b[0mprint_stats\u001b[0m\u001b[1;33m(\u001b[0m\u001b[0msess\u001b[0m\u001b[1;33m,\u001b[0m \u001b[0mbatch_features\u001b[0m\u001b[1;33m,\u001b[0m \u001b[0mbatch_labels\u001b[0m\u001b[1;33m,\u001b[0m \u001b[0mcost\u001b[0m\u001b[1;33m,\u001b[0m \u001b[0maccuracy\u001b[0m\u001b[1;33m)\u001b[0m\u001b[1;33m\u001b[0m\u001b[0m\n",
      "\u001b[1;32m<ipython-input-17-02dac04c9936>\u001b[0m in \u001b[0;36mtrain_neural_network\u001b[1;34m(session, optimizer, keep_probability, feature_batch, label_batch)\u001b[0m\n\u001b[0;32m      8\u001b[0m     \u001b[1;33m:\u001b[0m \u001b[0mlabel_batch\u001b[0m\u001b[1;33m:\u001b[0m \u001b[0mBatch\u001b[0m \u001b[0mof\u001b[0m \u001b[0mNumpy\u001b[0m \u001b[0mlabel\u001b[0m \u001b[0mdata\u001b[0m\u001b[1;33m\u001b[0m\u001b[0m\n\u001b[0;32m      9\u001b[0m     \"\"\"\n\u001b[1;32m---> 10\u001b[1;33m     \u001b[0msession\u001b[0m\u001b[1;33m.\u001b[0m\u001b[0mrun\u001b[0m\u001b[1;33m(\u001b[0m\u001b[0moptimizer\u001b[0m\u001b[1;33m,\u001b[0m \u001b[0mfeed_dict\u001b[0m\u001b[1;33m=\u001b[0m\u001b[1;33m{\u001b[0m\u001b[0mx\u001b[0m\u001b[1;33m:\u001b[0m \u001b[0mfeature_batch\u001b[0m\u001b[1;33m,\u001b[0m \u001b[0my\u001b[0m\u001b[1;33m:\u001b[0m \u001b[0mlabel_batch\u001b[0m\u001b[1;33m,\u001b[0m \u001b[0mkeep_prob\u001b[0m\u001b[1;33m:\u001b[0m \u001b[0mkeep_probability\u001b[0m\u001b[1;33m}\u001b[0m\u001b[1;33m)\u001b[0m\u001b[1;33m\u001b[0m\u001b[0m\n\u001b[0m\u001b[0;32m     11\u001b[0m \u001b[1;33m\u001b[0m\u001b[0m\n\u001b[0;32m     12\u001b[0m \u001b[1;33m\u001b[0m\u001b[0m\n",
      "\u001b[1;32mC:\\Anaconda3\\lib\\site-packages\\tensorflow\\python\\client\\session.py\u001b[0m in \u001b[0;36mrun\u001b[1;34m(self, fetches, feed_dict, options, run_metadata)\u001b[0m\n\u001b[0;32m    903\u001b[0m     \u001b[1;32mtry\u001b[0m\u001b[1;33m:\u001b[0m\u001b[1;33m\u001b[0m\u001b[0m\n\u001b[0;32m    904\u001b[0m       result = self._run(None, fetches, feed_dict, options_ptr,\n\u001b[1;32m--> 905\u001b[1;33m                          run_metadata_ptr)\n\u001b[0m\u001b[0;32m    906\u001b[0m       \u001b[1;32mif\u001b[0m \u001b[0mrun_metadata\u001b[0m\u001b[1;33m:\u001b[0m\u001b[1;33m\u001b[0m\u001b[0m\n\u001b[0;32m    907\u001b[0m         \u001b[0mproto_data\u001b[0m \u001b[1;33m=\u001b[0m \u001b[0mtf_session\u001b[0m\u001b[1;33m.\u001b[0m\u001b[0mTF_GetBuffer\u001b[0m\u001b[1;33m(\u001b[0m\u001b[0mrun_metadata_ptr\u001b[0m\u001b[1;33m)\u001b[0m\u001b[1;33m\u001b[0m\u001b[0m\n",
      "\u001b[1;32mC:\\Anaconda3\\lib\\site-packages\\tensorflow\\python\\client\\session.py\u001b[0m in \u001b[0;36m_run\u001b[1;34m(self, handle, fetches, feed_dict, options, run_metadata)\u001b[0m\n\u001b[0;32m   1135\u001b[0m     \u001b[1;32mif\u001b[0m \u001b[0mfinal_fetches\u001b[0m \u001b[1;32mor\u001b[0m \u001b[0mfinal_targets\u001b[0m \u001b[1;32mor\u001b[0m \u001b[1;33m(\u001b[0m\u001b[0mhandle\u001b[0m \u001b[1;32mand\u001b[0m \u001b[0mfeed_dict_tensor\u001b[0m\u001b[1;33m)\u001b[0m\u001b[1;33m:\u001b[0m\u001b[1;33m\u001b[0m\u001b[0m\n\u001b[0;32m   1136\u001b[0m       results = self._do_run(handle, final_targets, final_fetches,\n\u001b[1;32m-> 1137\u001b[1;33m                              feed_dict_tensor, options, run_metadata)\n\u001b[0m\u001b[0;32m   1138\u001b[0m     \u001b[1;32melse\u001b[0m\u001b[1;33m:\u001b[0m\u001b[1;33m\u001b[0m\u001b[0m\n\u001b[0;32m   1139\u001b[0m       \u001b[0mresults\u001b[0m \u001b[1;33m=\u001b[0m \u001b[1;33m[\u001b[0m\u001b[1;33m]\u001b[0m\u001b[1;33m\u001b[0m\u001b[0m\n",
      "\u001b[1;32mC:\\Anaconda3\\lib\\site-packages\\tensorflow\\python\\client\\session.py\u001b[0m in \u001b[0;36m_do_run\u001b[1;34m(self, handle, target_list, fetch_list, feed_dict, options, run_metadata)\u001b[0m\n\u001b[0;32m   1353\u001b[0m     \u001b[1;32mif\u001b[0m \u001b[0mhandle\u001b[0m \u001b[1;32mis\u001b[0m \u001b[1;32mNone\u001b[0m\u001b[1;33m:\u001b[0m\u001b[1;33m\u001b[0m\u001b[0m\n\u001b[0;32m   1354\u001b[0m       return self._do_call(_run_fn, self._session, feeds, fetches, targets,\n\u001b[1;32m-> 1355\u001b[1;33m                            options, run_metadata)\n\u001b[0m\u001b[0;32m   1356\u001b[0m     \u001b[1;32melse\u001b[0m\u001b[1;33m:\u001b[0m\u001b[1;33m\u001b[0m\u001b[0m\n\u001b[0;32m   1357\u001b[0m       \u001b[1;32mreturn\u001b[0m \u001b[0mself\u001b[0m\u001b[1;33m.\u001b[0m\u001b[0m_do_call\u001b[0m\u001b[1;33m(\u001b[0m\u001b[0m_prun_fn\u001b[0m\u001b[1;33m,\u001b[0m \u001b[0mself\u001b[0m\u001b[1;33m.\u001b[0m\u001b[0m_session\u001b[0m\u001b[1;33m,\u001b[0m \u001b[0mhandle\u001b[0m\u001b[1;33m,\u001b[0m \u001b[0mfeeds\u001b[0m\u001b[1;33m,\u001b[0m \u001b[0mfetches\u001b[0m\u001b[1;33m)\u001b[0m\u001b[1;33m\u001b[0m\u001b[0m\n",
      "\u001b[1;32mC:\\Anaconda3\\lib\\site-packages\\tensorflow\\python\\client\\session.py\u001b[0m in \u001b[0;36m_do_call\u001b[1;34m(self, fn, *args)\u001b[0m\n\u001b[0;32m   1359\u001b[0m   \u001b[1;32mdef\u001b[0m \u001b[0m_do_call\u001b[0m\u001b[1;33m(\u001b[0m\u001b[0mself\u001b[0m\u001b[1;33m,\u001b[0m \u001b[0mfn\u001b[0m\u001b[1;33m,\u001b[0m \u001b[1;33m*\u001b[0m\u001b[0margs\u001b[0m\u001b[1;33m)\u001b[0m\u001b[1;33m:\u001b[0m\u001b[1;33m\u001b[0m\u001b[0m\n\u001b[0;32m   1360\u001b[0m     \u001b[1;32mtry\u001b[0m\u001b[1;33m:\u001b[0m\u001b[1;33m\u001b[0m\u001b[0m\n\u001b[1;32m-> 1361\u001b[1;33m       \u001b[1;32mreturn\u001b[0m \u001b[0mfn\u001b[0m\u001b[1;33m(\u001b[0m\u001b[1;33m*\u001b[0m\u001b[0margs\u001b[0m\u001b[1;33m)\u001b[0m\u001b[1;33m\u001b[0m\u001b[0m\n\u001b[0m\u001b[0;32m   1362\u001b[0m     \u001b[1;32mexcept\u001b[0m \u001b[0merrors\u001b[0m\u001b[1;33m.\u001b[0m\u001b[0mOpError\u001b[0m \u001b[1;32mas\u001b[0m \u001b[0me\u001b[0m\u001b[1;33m:\u001b[0m\u001b[1;33m\u001b[0m\u001b[0m\n\u001b[0;32m   1363\u001b[0m       \u001b[0mmessage\u001b[0m \u001b[1;33m=\u001b[0m \u001b[0mcompat\u001b[0m\u001b[1;33m.\u001b[0m\u001b[0mas_text\u001b[0m\u001b[1;33m(\u001b[0m\u001b[0me\u001b[0m\u001b[1;33m.\u001b[0m\u001b[0mmessage\u001b[0m\u001b[1;33m)\u001b[0m\u001b[1;33m\u001b[0m\u001b[0m\n",
      "\u001b[1;32mC:\\Anaconda3\\lib\\site-packages\\tensorflow\\python\\client\\session.py\u001b[0m in \u001b[0;36m_run_fn\u001b[1;34m(session, feed_dict, fetch_list, target_list, options, run_metadata)\u001b[0m\n\u001b[0;32m   1338\u001b[0m         \u001b[1;32melse\u001b[0m\u001b[1;33m:\u001b[0m\u001b[1;33m\u001b[0m\u001b[0m\n\u001b[0;32m   1339\u001b[0m           return tf_session.TF_Run(session, options, feed_dict, fetch_list,\n\u001b[1;32m-> 1340\u001b[1;33m                                    target_list, status, run_metadata)\n\u001b[0m\u001b[0;32m   1341\u001b[0m \u001b[1;33m\u001b[0m\u001b[0m\n\u001b[0;32m   1342\u001b[0m     \u001b[1;32mdef\u001b[0m \u001b[0m_prun_fn\u001b[0m\u001b[1;33m(\u001b[0m\u001b[0msession\u001b[0m\u001b[1;33m,\u001b[0m \u001b[0mhandle\u001b[0m\u001b[1;33m,\u001b[0m \u001b[0mfeed_dict\u001b[0m\u001b[1;33m,\u001b[0m \u001b[0mfetch_list\u001b[0m\u001b[1;33m)\u001b[0m\u001b[1;33m:\u001b[0m\u001b[1;33m\u001b[0m\u001b[0m\n",
      "\u001b[1;31mKeyboardInterrupt\u001b[0m: "
     ]
    }
   ],
   "source": [
    " save_model_path = './image_classification'\n",
    "\n",
    "print('Training...')\n",
    "with tf.Session() as sess:\n",
    "    # Initializing the variables\n",
    "    sess.run(tf.global_variables_initializer())\n",
    "    \n",
    "    # Training cycle\n",
    "    for epoch in range(epochs):\n",
    "        # Loop over all batches\n",
    "        n_batches = 5\n",
    "        for batch_i in range(1, n_batches + 1):\n",
    "            for batch_features, batch_labels in helper.load_preprocess_training_batch(batch_i, batch_size):\n",
    "                train_neural_network(sess, optimizer, keep_probability, batch_features, batch_labels)\n",
    "            print('Epoch {:>2}, CIFAR-10 Batch {}:  '.format(epoch + 1, batch_i), end='')\n",
    "            print_stats(sess, batch_features, batch_labels, cost, accuracy)\n",
    "            \n",
    "    # Save Model\n",
    "    saver = tf.train.Saver()\n",
    "    save_path = saver.save(sess, save_model_path)"
   ]
  },
  {
   "cell_type": "code",
   "execution_count": null,
   "metadata": {},
   "outputs": [],
   "source": [
    "%matplotlib inline\n",
    "%config InlineBackend.figure_format = 'retina'\n",
    "\n",
    "import tensorflow as tf\n",
    "import pickle\n",
    "import helper\n",
    "import random\n",
    "\n",
    "# Set batch size if not already set\n",
    "try:\n",
    "    if batch_size:\n",
    "        pass\n",
    "except NameError:\n",
    "    batch_size = 64\n",
    "\n",
    "save_model_path = './image_classification'\n",
    "n_samples = 4\n",
    "top_n_predictions = 3\n",
    "\n",
    "def test_model():\n",
    "    \"\"\"\n",
    "    Test the saved model against the test dataset\n",
    "    \"\"\"\n",
    "\n",
    "    test_features, test_labels = pickle.load(open('preprocess_training.p', mode='rb'))\n",
    "    loaded_graph = tf.Graph()\n",
    "\n",
    "    with tf.Session(graph=loaded_graph) as sess:\n",
    "        # Load model\n",
    "        loader = tf.train.import_meta_graph(save_model_path + '.meta')\n",
    "        loader.restore(sess, save_model_path)\n",
    "\n",
    "        # Get Tensors from loaded model\n",
    "        loaded_x = loaded_graph.get_tensor_by_name('x:0')\n",
    "        loaded_y = loaded_graph.get_tensor_by_name('y:0')\n",
    "        loaded_keep_prob = loaded_graph.get_tensor_by_name('keep_prob:0')\n",
    "        loaded_logits = loaded_graph.get_tensor_by_name('logits:0')\n",
    "        loaded_acc = loaded_graph.get_tensor_by_name('accuracy:0')\n",
    "        \n",
    "        # Get accuracy in batches for memory limitations\n",
    "        test_batch_acc_total = 0\n",
    "        test_batch_count = 0\n",
    "        \n",
    "        for train_feature_batch, train_label_batch in helper.batch_features_labels(test_features, test_labels, batch_size):\n",
    "            test_batch_acc_total += sess.run(\n",
    "                loaded_acc,\n",
    "                feed_dict={loaded_x: train_feature_batch, loaded_y: train_label_batch, loaded_keep_prob: 1.0})\n",
    "            test_batch_count += 1\n",
    "\n",
    "        print('Testing Accuracy: {}\\n'.format(test_batch_acc_total/test_batch_count))\n",
    "\n",
    "        # Print Random Samples\n",
    "        random_test_features, random_test_labels = tuple(zip(*random.sample(list(zip(test_features, test_labels)), n_samples)))\n",
    "        random_test_predictions = sess.run(\n",
    "            tf.nn.top_k(tf.nn.softmax(loaded_logits), top_n_predictions),\n",
    "            feed_dict={loaded_x: random_test_features, loaded_y: random_test_labels, loaded_keep_prob: 1.0})\n",
    "        helper.display_image_predictions(random_test_features, random_test_labels, random_test_predictions)\n",
    "\n",
    "\n",
    "test_model()"
   ]
  }
 ],
 "metadata": {
  "kernelspec": {
   "display_name": "Python 3",
   "language": "python",
   "name": "python3"
  },
  "language_info": {
   "codemirror_mode": {
    "name": "ipython",
    "version": 3
   },
   "file_extension": ".py",
   "mimetype": "text/x-python",
   "name": "python",
   "nbconvert_exporter": "python",
   "pygments_lexer": "ipython3",
   "version": "3.6.4"
  }
 },
 "nbformat": 4,
 "nbformat_minor": 2
}
